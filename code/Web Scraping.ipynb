{
 "cells": [
  {
   "cell_type": "markdown",
   "id": "c7d99c72-9319-42a4-a0d0-f3a5bb758b59",
   "metadata": {},
   "source": [
    "## **Web Scraping**"
   ]
  },
  {
   "cell_type": "markdown",
   "id": "fad4b5d1-d193-45db-afad-325761f3855e",
   "metadata": {},
   "source": [
    "### Imports"
   ]
  },
  {
   "cell_type": "code",
   "execution_count": 186,
   "id": "9455eef5-d740-44d7-9e5b-a2a909e32c96",
   "metadata": {},
   "outputs": [],
   "source": [
    "import pandas as pd\n",
    "import numpy as np\n",
    "import requests"
   ]
  },
  {
   "cell_type": "markdown",
   "id": "0d37bc69-36e6-4311-80af-5596d8f15e8e",
   "metadata": {},
   "source": [
    "------\n",
    "### Employing the Pushshift API Wrapper"
   ]
  },
  {
   "cell_type": "code",
   "execution_count": 187,
   "id": "8a9845e5-6f00-47ec-9058-3a18f2bc58c7",
   "metadata": {},
   "outputs": [],
   "source": [
    "# Focus on r/fantasyfootball first\n",
    "url = 'https://api.pushshift.io/reddit/search/submission'\n",
    "\n",
    "# Set up function to pull 100 posts from subreddit page \n",
    "# using a different 'before' parameter on each pull \n",
    "\n",
    "def pull_100_posts(subreddit_name, before_param):\n",
    "    params = {\n",
    "        'subreddit': subreddit_name,\n",
    "        'size': 100,\n",
    "        'before': before_param}\n",
    "    \n",
    "    res = requests.get(url, params)\n",
    "    print(res.status_code)\n",
    "    \n",
    "    posts = res.json()['data']\n",
    "\n",
    "    return posts"
   ]
  },
  {
   "cell_type": "code",
   "execution_count": 188,
   "id": "52c39160-0fc0-49b2-a3c6-700bd0d8cda1",
   "metadata": {},
   "outputs": [
    {
     "name": "stdout",
     "output_type": "stream",
     "text": [
      "200\n"
     ]
    }
   ],
   "source": [
    "# First pull \n",
    "# checks for any error messages on each pull - looking to get 200 back\n",
    "group_1 = pull_100_posts('fantasyfootball', None)"
   ]
  },
  {
   "cell_type": "code",
   "execution_count": 189,
   "id": "762ff491-b0d5-487d-b3a3-66b17a225e5e",
   "metadata": {},
   "outputs": [
    {
     "name": "stdout",
     "output_type": "stream",
     "text": [
      "100\n"
     ]
    },
    {
     "data": {
      "text/plain": [
       "list"
      ]
     },
     "execution_count": 189,
     "metadata": {},
     "output_type": "execute_result"
    }
   ],
   "source": [
    "print(len(group_1))\n",
    "type(group_1)"
   ]
  },
  {
   "cell_type": "code",
   "execution_count": 190,
   "id": "22f50a18-1e10-4db3-ad67-d183456e52e0",
   "metadata": {},
   "outputs": [],
   "source": [
    "group_1 = pd.DataFrame(group_1)"
   ]
  },
  {
   "cell_type": "code",
   "execution_count": 196,
   "id": "9bec6e83-9f9d-4d51-9cb6-4b2a86f65078",
   "metadata": {
    "tags": []
   },
   "outputs": [
    {
     "name": "stdout",
     "output_type": "stream",
     "text": [
      "200\n"
     ]
    }
   ],
   "source": [
    "# for group_2\n",
    "# second - 30 days added to the before param\n",
    "group_2 = pd.DataFrame(pull_100_posts('fantasyfootball', '30d'))"
   ]
  },
  {
   "cell_type": "code",
   "execution_count": 197,
   "id": "f577fb24-358c-4b10-808b-d313bbb71f88",
   "metadata": {
    "tags": []
   },
   "outputs": [],
   "source": [
    "# double checking the time of pulled posts for uniqueness from group 1\n",
    "# latest post - May 23 8:14 PM \n",
    "# earliest post - May 20 7:03 AM"
   ]
  },
  {
   "cell_type": "code",
   "execution_count": 193,
   "id": "60d2f7f3-3f83-4560-adb2-db94748e4c86",
   "metadata": {},
   "outputs": [
    {
     "name": "stdout",
     "output_type": "stream",
     "text": [
      "200\n",
      "200\n",
      "200\n",
      "200\n",
      "200\n",
      "200\n",
      "200\n",
      "200\n"
     ]
    }
   ],
   "source": [
    "# 3 -10\n",
    "group_3 = pd.DataFrame(pull_100_posts('fantasyfootball', '60d'))\n",
    "group_4 = pd.DataFrame(pull_100_posts('fantasyfootball', '90d'))\n",
    "group_5 = pd.DataFrame(pull_100_posts('fantasyfootball', '120d'))\n",
    "group_6 = pd.DataFrame(pull_100_posts('fantasyfootball', '150d'))\n",
    "group_7 = pd.DataFrame(pull_100_posts('fantasyfootball', '180d'))\n",
    "group_8 = pd.DataFrame(pull_100_posts('fantasyfootball', '210d'))\n",
    "group_9 = pd.DataFrame(pull_100_posts('fantasyfootball', '240d'))\n",
    "group_10 = pd.DataFrame(pull_100_posts('fantasyfootball', '270d'))"
   ]
  },
  {
   "cell_type": "code",
   "execution_count": 185,
   "id": "8d57b666-a2ce-4a6b-8f6d-3ac01593ea9d",
   "metadata": {},
   "outputs": [
    {
     "name": "stdout",
     "output_type": "stream",
     "text": [
      "(1000, 77)\n"
     ]
    },
    {
     "data": {
      "text/html": [
       "<div>\n",
       "<style scoped>\n",
       "    .dataframe tbody tr th:only-of-type {\n",
       "        vertical-align: middle;\n",
       "    }\n",
       "\n",
       "    .dataframe tbody tr th {\n",
       "        vertical-align: top;\n",
       "    }\n",
       "\n",
       "    .dataframe thead th {\n",
       "        text-align: right;\n",
       "    }\n",
       "</style>\n",
       "<table border=\"1\" class=\"dataframe\">\n",
       "  <thead>\n",
       "    <tr style=\"text-align: right;\">\n",
       "      <th></th>\n",
       "      <th>all_awardings</th>\n",
       "      <th>allow_live_comments</th>\n",
       "      <th>author</th>\n",
       "      <th>author_flair_css_class</th>\n",
       "      <th>author_flair_richtext</th>\n",
       "      <th>author_flair_text</th>\n",
       "      <th>author_flair_type</th>\n",
       "      <th>author_fullname</th>\n",
       "      <th>author_is_blocked</th>\n",
       "      <th>author_patreon_flair</th>\n",
       "      <th>...</th>\n",
       "      <th>secure_media</th>\n",
       "      <th>secure_media_embed</th>\n",
       "      <th>link_flair_css_class</th>\n",
       "      <th>link_flair_text</th>\n",
       "      <th>suggested_sort</th>\n",
       "      <th>author_flair_background_color</th>\n",
       "      <th>author_flair_text_color</th>\n",
       "      <th>banned_by</th>\n",
       "      <th>link_flair_template_id</th>\n",
       "      <th>author_cakeday</th>\n",
       "    </tr>\n",
       "  </thead>\n",
       "  <tbody>\n",
       "    <tr>\n",
       "      <th>0</th>\n",
       "      <td>[]</td>\n",
       "      <td>False</td>\n",
       "      <td>minervamon_</td>\n",
       "      <td>None</td>\n",
       "      <td>[]</td>\n",
       "      <td>None</td>\n",
       "      <td>text</td>\n",
       "      <td>t2_90hi010k</td>\n",
       "      <td>False</td>\n",
       "      <td>False</td>\n",
       "      <td>...</td>\n",
       "      <td>NaN</td>\n",
       "      <td>NaN</td>\n",
       "      <td>NaN</td>\n",
       "      <td>NaN</td>\n",
       "      <td>NaN</td>\n",
       "      <td>NaN</td>\n",
       "      <td>NaN</td>\n",
       "      <td>NaN</td>\n",
       "      <td>NaN</td>\n",
       "      <td>NaN</td>\n",
       "    </tr>\n",
       "    <tr>\n",
       "      <th>1</th>\n",
       "      <td>[]</td>\n",
       "      <td>False</td>\n",
       "      <td>Schlend35</td>\n",
       "      <td>None</td>\n",
       "      <td>[]</td>\n",
       "      <td>None</td>\n",
       "      <td>text</td>\n",
       "      <td>t2_zfosy</td>\n",
       "      <td>False</td>\n",
       "      <td>False</td>\n",
       "      <td>...</td>\n",
       "      <td>NaN</td>\n",
       "      <td>NaN</td>\n",
       "      <td>NaN</td>\n",
       "      <td>NaN</td>\n",
       "      <td>NaN</td>\n",
       "      <td>NaN</td>\n",
       "      <td>NaN</td>\n",
       "      <td>NaN</td>\n",
       "      <td>NaN</td>\n",
       "      <td>NaN</td>\n",
       "    </tr>\n",
       "    <tr>\n",
       "      <th>2</th>\n",
       "      <td>[]</td>\n",
       "      <td>False</td>\n",
       "      <td>StackAttackNick</td>\n",
       "      <td>None</td>\n",
       "      <td>[]</td>\n",
       "      <td>None</td>\n",
       "      <td>text</td>\n",
       "      <td>t2_nbi0y09s</td>\n",
       "      <td>False</td>\n",
       "      <td>False</td>\n",
       "      <td>...</td>\n",
       "      <td>NaN</td>\n",
       "      <td>NaN</td>\n",
       "      <td>NaN</td>\n",
       "      <td>NaN</td>\n",
       "      <td>NaN</td>\n",
       "      <td>NaN</td>\n",
       "      <td>NaN</td>\n",
       "      <td>NaN</td>\n",
       "      <td>NaN</td>\n",
       "      <td>NaN</td>\n",
       "    </tr>\n",
       "    <tr>\n",
       "      <th>3</th>\n",
       "      <td>[]</td>\n",
       "      <td>False</td>\n",
       "      <td>playboiCoomer</td>\n",
       "      <td>None</td>\n",
       "      <td>[]</td>\n",
       "      <td>None</td>\n",
       "      <td>text</td>\n",
       "      <td>t2_5kx59nwf</td>\n",
       "      <td>False</td>\n",
       "      <td>False</td>\n",
       "      <td>...</td>\n",
       "      <td>NaN</td>\n",
       "      <td>NaN</td>\n",
       "      <td>NaN</td>\n",
       "      <td>NaN</td>\n",
       "      <td>NaN</td>\n",
       "      <td>NaN</td>\n",
       "      <td>NaN</td>\n",
       "      <td>NaN</td>\n",
       "      <td>NaN</td>\n",
       "      <td>NaN</td>\n",
       "    </tr>\n",
       "    <tr>\n",
       "      <th>4</th>\n",
       "      <td>[]</td>\n",
       "      <td>False</td>\n",
       "      <td>C0lecuts</td>\n",
       "      <td>None</td>\n",
       "      <td>[]</td>\n",
       "      <td>None</td>\n",
       "      <td>text</td>\n",
       "      <td>t2_oov0caw8</td>\n",
       "      <td>False</td>\n",
       "      <td>False</td>\n",
       "      <td>...</td>\n",
       "      <td>NaN</td>\n",
       "      <td>NaN</td>\n",
       "      <td>NaN</td>\n",
       "      <td>NaN</td>\n",
       "      <td>NaN</td>\n",
       "      <td>NaN</td>\n",
       "      <td>NaN</td>\n",
       "      <td>NaN</td>\n",
       "      <td>NaN</td>\n",
       "      <td>NaN</td>\n",
       "    </tr>\n",
       "  </tbody>\n",
       "</table>\n",
       "<p>5 rows × 77 columns</p>\n",
       "</div>"
      ],
      "text/plain": [
       "  all_awardings  allow_live_comments           author author_flair_css_class  \\\n",
       "0            []                False      minervamon_                   None   \n",
       "1            []                False        Schlend35                   None   \n",
       "2            []                False  StackAttackNick                   None   \n",
       "3            []                False    playboiCoomer                   None   \n",
       "4            []                False         C0lecuts                   None   \n",
       "\n",
       "  author_flair_richtext author_flair_text author_flair_type author_fullname  \\\n",
       "0                    []              None              text     t2_90hi010k   \n",
       "1                    []              None              text        t2_zfosy   \n",
       "2                    []              None              text     t2_nbi0y09s   \n",
       "3                    []              None              text     t2_5kx59nwf   \n",
       "4                    []              None              text     t2_oov0caw8   \n",
       "\n",
       "   author_is_blocked author_patreon_flair  ... secure_media  \\\n",
       "0              False                False  ...          NaN   \n",
       "1              False                False  ...          NaN   \n",
       "2              False                False  ...          NaN   \n",
       "3              False                False  ...          NaN   \n",
       "4              False                False  ...          NaN   \n",
       "\n",
       "  secure_media_embed  link_flair_css_class  link_flair_text  suggested_sort  \\\n",
       "0                NaN                   NaN              NaN             NaN   \n",
       "1                NaN                   NaN              NaN             NaN   \n",
       "2                NaN                   NaN              NaN             NaN   \n",
       "3                NaN                   NaN              NaN             NaN   \n",
       "4                NaN                   NaN              NaN             NaN   \n",
       "\n",
       "  author_flair_background_color author_flair_text_color banned_by  \\\n",
       "0                           NaN                     NaN       NaN   \n",
       "1                           NaN                     NaN       NaN   \n",
       "2                           NaN                     NaN       NaN   \n",
       "3                           NaN                     NaN       NaN   \n",
       "4                           NaN                     NaN       NaN   \n",
       "\n",
       "  link_flair_template_id  author_cakeday  \n",
       "0                    NaN             NaN  \n",
       "1                    NaN             NaN  \n",
       "2                    NaN             NaN  \n",
       "3                    NaN             NaN  \n",
       "4                    NaN             NaN  \n",
       "\n",
       "[5 rows x 77 columns]"
      ]
     },
     "execution_count": 185,
     "metadata": {},
     "output_type": "execute_result"
    }
   ],
   "source": [
    "# turn each group dataframe into a combined Fantasy football dataframe\n",
    "\n",
    "fantasy_df = pd.concat([group_1,group_2,group_3,group_4,group_5,group_6,group_7,group_8,group_9,group_10])\n",
    "print(fantasy_df.shape)\n",
    "fantasy_df.head()"
   ]
  },
  {
   "cell_type": "code",
   "execution_count": 194,
   "id": "8a92c3ba-cbfa-4489-a7a4-e8e9e4cee75c",
   "metadata": {},
   "outputs": [
    {
     "name": "stdout",
     "output_type": "stream",
     "text": [
      "200\n"
     ]
    },
    {
     "data": {
      "text/plain": [
       "100"
      ]
     },
     "execution_count": 194,
     "metadata": {},
     "output_type": "execute_result"
    }
   ],
   "source": [
    "# Repeat this process for r/NFL\n",
    "\n",
    "#first pull\n",
    "group_1 = pd.DataFrame(pull_100_posts('NFL', None))\n",
    "len(group_1)"
   ]
  },
  {
   "cell_type": "code",
   "execution_count": 198,
   "id": "b7cfe21b-55c3-4ef5-9598-616dadbb4529",
   "metadata": {},
   "outputs": [
    {
     "name": "stdout",
     "output_type": "stream",
     "text": [
      "200\n",
      "200\n",
      "200\n",
      "200\n",
      "200\n",
      "200\n",
      "200\n",
      "200\n",
      "200\n"
     ]
    }
   ],
   "source": [
    "# 2 - 10\n",
    "group_2 = pd.DataFrame(pull_100_posts('NFL', '30d'))\n",
    "group_3 = pd.DataFrame(pull_100_posts('NFL', '60d'))\n",
    "group_4 = pd.DataFrame(pull_100_posts('NFL', '90d'))\n",
    "group_5 = pd.DataFrame(pull_100_posts('NFL', '120d'))\n",
    "group_6 = pd.DataFrame(pull_100_posts('NFL', '150d'))\n",
    "group_7 = pd.DataFrame(pull_100_posts('NFL', '180d'))\n",
    "group_8 = pd.DataFrame(pull_100_posts('NFL', '210d'))\n",
    "group_9 = pd.DataFrame(pull_100_posts('NFL', '240d'))\n",
    "group_10 = pd.DataFrame(pull_100_posts('NFL', '270d'))"
   ]
  },
  {
   "cell_type": "code",
   "execution_count": 199,
   "id": "b51253d3-0814-4e52-b815-24d2d02807c9",
   "metadata": {},
   "outputs": [
    {
     "name": "stdout",
     "output_type": "stream",
     "text": [
      "(1000, 83)\n"
     ]
    },
    {
     "data": {
      "text/html": [
       "<div>\n",
       "<style scoped>\n",
       "    .dataframe tbody tr th:only-of-type {\n",
       "        vertical-align: middle;\n",
       "    }\n",
       "\n",
       "    .dataframe tbody tr th {\n",
       "        vertical-align: top;\n",
       "    }\n",
       "\n",
       "    .dataframe thead th {\n",
       "        text-align: right;\n",
       "    }\n",
       "</style>\n",
       "<table border=\"1\" class=\"dataframe\">\n",
       "  <thead>\n",
       "    <tr style=\"text-align: right;\">\n",
       "      <th></th>\n",
       "      <th>all_awardings</th>\n",
       "      <th>allow_live_comments</th>\n",
       "      <th>author</th>\n",
       "      <th>author_flair_css_class</th>\n",
       "      <th>author_flair_richtext</th>\n",
       "      <th>author_flair_text</th>\n",
       "      <th>author_flair_type</th>\n",
       "      <th>author_fullname</th>\n",
       "      <th>author_is_blocked</th>\n",
       "      <th>author_patreon_flair</th>\n",
       "      <th>...</th>\n",
       "      <th>link_flair_text</th>\n",
       "      <th>link_flair_template_id</th>\n",
       "      <th>suggested_sort</th>\n",
       "      <th>author_cakeday</th>\n",
       "      <th>gallery_data</th>\n",
       "      <th>is_gallery</th>\n",
       "      <th>media_metadata</th>\n",
       "      <th>banned_by</th>\n",
       "      <th>crosspost_parent</th>\n",
       "      <th>crosspost_parent_list</th>\n",
       "    </tr>\n",
       "  </thead>\n",
       "  <tbody>\n",
       "    <tr>\n",
       "      <th>0</th>\n",
       "      <td>[]</td>\n",
       "      <td>False</td>\n",
       "      <td>LIMEJUICE69420</td>\n",
       "      <td>None</td>\n",
       "      <td>[]</td>\n",
       "      <td>None</td>\n",
       "      <td>text</td>\n",
       "      <td>t2_74pe58g0</td>\n",
       "      <td>False</td>\n",
       "      <td>False</td>\n",
       "      <td>...</td>\n",
       "      <td>NaN</td>\n",
       "      <td>NaN</td>\n",
       "      <td>NaN</td>\n",
       "      <td>NaN</td>\n",
       "      <td>NaN</td>\n",
       "      <td>NaN</td>\n",
       "      <td>NaN</td>\n",
       "      <td>NaN</td>\n",
       "      <td>NaN</td>\n",
       "      <td>NaN</td>\n",
       "    </tr>\n",
       "    <tr>\n",
       "      <th>1</th>\n",
       "      <td>[]</td>\n",
       "      <td>False</td>\n",
       "      <td>DogSoapy</td>\n",
       "      <td>None</td>\n",
       "      <td>[]</td>\n",
       "      <td>None</td>\n",
       "      <td>text</td>\n",
       "      <td>t2_6xkcrsku</td>\n",
       "      <td>False</td>\n",
       "      <td>False</td>\n",
       "      <td>...</td>\n",
       "      <td>NaN</td>\n",
       "      <td>NaN</td>\n",
       "      <td>NaN</td>\n",
       "      <td>NaN</td>\n",
       "      <td>NaN</td>\n",
       "      <td>NaN</td>\n",
       "      <td>NaN</td>\n",
       "      <td>NaN</td>\n",
       "      <td>NaN</td>\n",
       "      <td>NaN</td>\n",
       "    </tr>\n",
       "    <tr>\n",
       "      <th>2</th>\n",
       "      <td>[]</td>\n",
       "      <td>False</td>\n",
       "      <td>pimp69z</td>\n",
       "      <td>broncos</td>\n",
       "      <td>[{'a': ':Broncos:', 'e': 'emoji', 'u': 'https:...</td>\n",
       "      <td>:Broncos: Broncos</td>\n",
       "      <td>richtext</td>\n",
       "      <td>t2_10f2j7dy</td>\n",
       "      <td>False</td>\n",
       "      <td>False</td>\n",
       "      <td>...</td>\n",
       "      <td>NaN</td>\n",
       "      <td>NaN</td>\n",
       "      <td>NaN</td>\n",
       "      <td>NaN</td>\n",
       "      <td>NaN</td>\n",
       "      <td>NaN</td>\n",
       "      <td>NaN</td>\n",
       "      <td>NaN</td>\n",
       "      <td>NaN</td>\n",
       "      <td>NaN</td>\n",
       "    </tr>\n",
       "    <tr>\n",
       "      <th>3</th>\n",
       "      <td>[]</td>\n",
       "      <td>False</td>\n",
       "      <td>Haskins77</td>\n",
       "      <td>None</td>\n",
       "      <td>[]</td>\n",
       "      <td>None</td>\n",
       "      <td>text</td>\n",
       "      <td>t2_7xdoy52d</td>\n",
       "      <td>False</td>\n",
       "      <td>False</td>\n",
       "      <td>...</td>\n",
       "      <td>NaN</td>\n",
       "      <td>NaN</td>\n",
       "      <td>NaN</td>\n",
       "      <td>NaN</td>\n",
       "      <td>NaN</td>\n",
       "      <td>NaN</td>\n",
       "      <td>NaN</td>\n",
       "      <td>NaN</td>\n",
       "      <td>NaN</td>\n",
       "      <td>NaN</td>\n",
       "    </tr>\n",
       "    <tr>\n",
       "      <th>4</th>\n",
       "      <td>[]</td>\n",
       "      <td>False</td>\n",
       "      <td>404Draco</td>\n",
       "      <td>steelers</td>\n",
       "      <td>[{'a': ':Steelers:', 'e': 'emoji', 'u': 'https...</td>\n",
       "      <td>:Steelers: Steelers</td>\n",
       "      <td>richtext</td>\n",
       "      <td>t2_hmsj56vb</td>\n",
       "      <td>False</td>\n",
       "      <td>False</td>\n",
       "      <td>...</td>\n",
       "      <td>NaN</td>\n",
       "      <td>NaN</td>\n",
       "      <td>NaN</td>\n",
       "      <td>NaN</td>\n",
       "      <td>NaN</td>\n",
       "      <td>NaN</td>\n",
       "      <td>NaN</td>\n",
       "      <td>NaN</td>\n",
       "      <td>NaN</td>\n",
       "      <td>NaN</td>\n",
       "    </tr>\n",
       "  </tbody>\n",
       "</table>\n",
       "<p>5 rows × 83 columns</p>\n",
       "</div>"
      ],
      "text/plain": [
       "  all_awardings  allow_live_comments          author author_flair_css_class  \\\n",
       "0            []                False  LIMEJUICE69420                   None   \n",
       "1            []                False        DogSoapy                   None   \n",
       "2            []                False         pimp69z                broncos   \n",
       "3            []                False       Haskins77                   None   \n",
       "4            []                False        404Draco               steelers   \n",
       "\n",
       "                               author_flair_richtext    author_flair_text  \\\n",
       "0                                                 []                 None   \n",
       "1                                                 []                 None   \n",
       "2  [{'a': ':Broncos:', 'e': 'emoji', 'u': 'https:...    :Broncos: Broncos   \n",
       "3                                                 []                 None   \n",
       "4  [{'a': ':Steelers:', 'e': 'emoji', 'u': 'https...  :Steelers: Steelers   \n",
       "\n",
       "  author_flair_type author_fullname  author_is_blocked author_patreon_flair  \\\n",
       "0              text     t2_74pe58g0              False                False   \n",
       "1              text     t2_6xkcrsku              False                False   \n",
       "2          richtext     t2_10f2j7dy              False                False   \n",
       "3              text     t2_7xdoy52d              False                False   \n",
       "4          richtext     t2_hmsj56vb              False                False   \n",
       "\n",
       "   ... link_flair_text link_flair_template_id  suggested_sort  author_cakeday  \\\n",
       "0  ...             NaN                    NaN             NaN             NaN   \n",
       "1  ...             NaN                    NaN             NaN             NaN   \n",
       "2  ...             NaN                    NaN             NaN             NaN   \n",
       "3  ...             NaN                    NaN             NaN             NaN   \n",
       "4  ...             NaN                    NaN             NaN             NaN   \n",
       "\n",
       "   gallery_data is_gallery media_metadata banned_by crosspost_parent  \\\n",
       "0           NaN        NaN            NaN       NaN              NaN   \n",
       "1           NaN        NaN            NaN       NaN              NaN   \n",
       "2           NaN        NaN            NaN       NaN              NaN   \n",
       "3           NaN        NaN            NaN       NaN              NaN   \n",
       "4           NaN        NaN            NaN       NaN              NaN   \n",
       "\n",
       "   crosspost_parent_list  \n",
       "0                    NaN  \n",
       "1                    NaN  \n",
       "2                    NaN  \n",
       "3                    NaN  \n",
       "4                    NaN  \n",
       "\n",
       "[5 rows x 83 columns]"
      ]
     },
     "execution_count": 199,
     "metadata": {},
     "output_type": "execute_result"
    }
   ],
   "source": [
    "nfl_df = pd.concat([group_1,group_2,group_3,group_4,group_5,group_6,group_7,group_8,group_9,group_10])\n",
    "print(nfl_df.shape)\n",
    "nfl_df.head()"
   ]
  },
  {
   "cell_type": "markdown",
   "id": "a677984a-379f-4b6e-935f-fed1bc9c5be4",
   "metadata": {},
   "source": [
    "------\n",
    "### Write both Dataframes to csv files"
   ]
  },
  {
   "cell_type": "code",
   "execution_count": 206,
   "id": "913d56c9-4ab1-4723-b900-0ae6bf47b5b8",
   "metadata": {},
   "outputs": [],
   "source": [
    "fantasy_df.to_csv('../project-3/data/fantasy.csv')"
   ]
  },
  {
   "cell_type": "code",
   "execution_count": 207,
   "id": "2e56b5a2-a19f-4ff2-b710-35e86126b0d4",
   "metadata": {},
   "outputs": [],
   "source": [
    "nfl_df.to_csv('../project-3/data/nfl.csv')"
   ]
  }
 ],
 "metadata": {
  "kernelspec": {
   "display_name": "Python [conda env:dsi] *",
   "language": "python",
   "name": "conda-env-dsi-py"
  },
  "language_info": {
   "codemirror_mode": {
    "name": "ipython",
    "version": 3
   },
   "file_extension": ".py",
   "mimetype": "text/x-python",
   "name": "python",
   "nbconvert_exporter": "python",
   "pygments_lexer": "ipython3",
   "version": "3.9.12"
  }
 },
 "nbformat": 4,
 "nbformat_minor": 5
}
