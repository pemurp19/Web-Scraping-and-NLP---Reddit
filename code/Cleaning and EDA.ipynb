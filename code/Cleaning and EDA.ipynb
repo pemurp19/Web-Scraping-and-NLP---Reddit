{
 "cells": [
  {
   "cell_type": "markdown",
   "id": "04fb6cd3-58ad-46ba-a0ee-4fd3d0563116",
   "metadata": {},
   "source": [
    "# **Cleaning and EDA**"
   ]
  },
  {
   "cell_type": "markdown",
   "id": "3ff4b785-0bb9-4c58-8753-0e6d89c058f5",
   "metadata": {},
   "source": [
    "#### *Imports and Read in Data*"
   ]
  },
  {
   "cell_type": "code",
   "execution_count": 959,
   "id": "df99e947-aac0-4012-aeda-d00a421d1b73",
   "metadata": {},
   "outputs": [],
   "source": [
    "import pandas as pd\n",
    "import numpy as np\n",
    "import matplotlib.pyplot as plt\n",
    "import seaborn as sns\n",
    "\n",
    "from nltk.tokenize import RegexpTokenizer\n",
    "from sklearn.feature_extraction.text import CountVectorizer, TfidfVectorizer\n",
    "from nltk.corpus import stopwords"
   ]
  },
  {
   "cell_type": "code",
   "execution_count": 960,
   "id": "3fe56641-aaec-4f6d-82e8-d30e4c2297bf",
   "metadata": {},
   "outputs": [
    {
     "name": "stdout",
     "output_type": "stream",
     "text": [
      "(3000, 85)\n"
     ]
    },
    {
     "data": {
      "text/html": [
       "<div>\n",
       "<style scoped>\n",
       "    .dataframe tbody tr th:only-of-type {\n",
       "        vertical-align: middle;\n",
       "    }\n",
       "\n",
       "    .dataframe tbody tr th {\n",
       "        vertical-align: top;\n",
       "    }\n",
       "\n",
       "    .dataframe thead th {\n",
       "        text-align: right;\n",
       "    }\n",
       "</style>\n",
       "<table border=\"1\" class=\"dataframe\">\n",
       "  <thead>\n",
       "    <tr style=\"text-align: right;\">\n",
       "      <th></th>\n",
       "      <th>all_awardings</th>\n",
       "      <th>allow_live_comments</th>\n",
       "      <th>author</th>\n",
       "      <th>author_flair_css_class</th>\n",
       "      <th>author_flair_richtext</th>\n",
       "      <th>author_flair_text</th>\n",
       "      <th>author_flair_type</th>\n",
       "      <th>author_fullname</th>\n",
       "      <th>author_is_blocked</th>\n",
       "      <th>author_patreon_flair</th>\n",
       "      <th>...</th>\n",
       "      <th>author_flair_template_id</th>\n",
       "      <th>is_gallery</th>\n",
       "      <th>distinguished</th>\n",
       "      <th>suggested_sort</th>\n",
       "      <th>gallery_data</th>\n",
       "      <th>media_metadata</th>\n",
       "      <th>author_cakeday</th>\n",
       "      <th>discussion_type</th>\n",
       "      <th>poll_data</th>\n",
       "      <th>banned_by</th>\n",
       "    </tr>\n",
       "  </thead>\n",
       "  <tbody>\n",
       "    <tr>\n",
       "      <th>0</th>\n",
       "      <td>[]</td>\n",
       "      <td>False</td>\n",
       "      <td>deliriouz16</td>\n",
       "      <td>NaN</td>\n",
       "      <td>[]</td>\n",
       "      <td>NaN</td>\n",
       "      <td>text</td>\n",
       "      <td>t2_7p3cqcb5</td>\n",
       "      <td>False</td>\n",
       "      <td>False</td>\n",
       "      <td>...</td>\n",
       "      <td>NaN</td>\n",
       "      <td>NaN</td>\n",
       "      <td>NaN</td>\n",
       "      <td>NaN</td>\n",
       "      <td>NaN</td>\n",
       "      <td>NaN</td>\n",
       "      <td>NaN</td>\n",
       "      <td>NaN</td>\n",
       "      <td>NaN</td>\n",
       "      <td>NaN</td>\n",
       "    </tr>\n",
       "    <tr>\n",
       "      <th>1</th>\n",
       "      <td>[]</td>\n",
       "      <td>False</td>\n",
       "      <td>Comical_Sports_Memes</td>\n",
       "      <td>NaN</td>\n",
       "      <td>[]</td>\n",
       "      <td>NaN</td>\n",
       "      <td>text</td>\n",
       "      <td>t2_3hkmoapb</td>\n",
       "      <td>False</td>\n",
       "      <td>False</td>\n",
       "      <td>...</td>\n",
       "      <td>NaN</td>\n",
       "      <td>NaN</td>\n",
       "      <td>NaN</td>\n",
       "      <td>NaN</td>\n",
       "      <td>NaN</td>\n",
       "      <td>NaN</td>\n",
       "      <td>NaN</td>\n",
       "      <td>NaN</td>\n",
       "      <td>NaN</td>\n",
       "      <td>NaN</td>\n",
       "    </tr>\n",
       "    <tr>\n",
       "      <th>2</th>\n",
       "      <td>[]</td>\n",
       "      <td>False</td>\n",
       "      <td>Comical_Sports_Memes</td>\n",
       "      <td>NaN</td>\n",
       "      <td>[]</td>\n",
       "      <td>NaN</td>\n",
       "      <td>text</td>\n",
       "      <td>t2_3hkmoapb</td>\n",
       "      <td>False</td>\n",
       "      <td>False</td>\n",
       "      <td>...</td>\n",
       "      <td>NaN</td>\n",
       "      <td>NaN</td>\n",
       "      <td>NaN</td>\n",
       "      <td>NaN</td>\n",
       "      <td>NaN</td>\n",
       "      <td>NaN</td>\n",
       "      <td>NaN</td>\n",
       "      <td>NaN</td>\n",
       "      <td>NaN</td>\n",
       "      <td>NaN</td>\n",
       "    </tr>\n",
       "    <tr>\n",
       "      <th>3</th>\n",
       "      <td>[]</td>\n",
       "      <td>False</td>\n",
       "      <td>Jay_Subabove</td>\n",
       "      <td>NaN</td>\n",
       "      <td>[]</td>\n",
       "      <td>NaN</td>\n",
       "      <td>text</td>\n",
       "      <td>t2_ogi4y19t</td>\n",
       "      <td>False</td>\n",
       "      <td>False</td>\n",
       "      <td>...</td>\n",
       "      <td>NaN</td>\n",
       "      <td>NaN</td>\n",
       "      <td>NaN</td>\n",
       "      <td>NaN</td>\n",
       "      <td>NaN</td>\n",
       "      <td>NaN</td>\n",
       "      <td>NaN</td>\n",
       "      <td>NaN</td>\n",
       "      <td>NaN</td>\n",
       "      <td>NaN</td>\n",
       "    </tr>\n",
       "    <tr>\n",
       "      <th>4</th>\n",
       "      <td>[]</td>\n",
       "      <td>False</td>\n",
       "      <td>Alex_MurphyUMD</td>\n",
       "      <td>NaN</td>\n",
       "      <td>[]</td>\n",
       "      <td>NaN</td>\n",
       "      <td>text</td>\n",
       "      <td>t2_1poon8tg</td>\n",
       "      <td>False</td>\n",
       "      <td>False</td>\n",
       "      <td>...</td>\n",
       "      <td>NaN</td>\n",
       "      <td>NaN</td>\n",
       "      <td>NaN</td>\n",
       "      <td>NaN</td>\n",
       "      <td>NaN</td>\n",
       "      <td>NaN</td>\n",
       "      <td>NaN</td>\n",
       "      <td>NaN</td>\n",
       "      <td>NaN</td>\n",
       "      <td>NaN</td>\n",
       "    </tr>\n",
       "  </tbody>\n",
       "</table>\n",
       "<p>5 rows × 85 columns</p>\n",
       "</div>"
      ],
      "text/plain": [
       "  all_awardings  allow_live_comments                author  \\\n",
       "0            []                False           deliriouz16   \n",
       "1            []                False  Comical_Sports_Memes   \n",
       "2            []                False  Comical_Sports_Memes   \n",
       "3            []                False          Jay_Subabove   \n",
       "4            []                False        Alex_MurphyUMD   \n",
       "\n",
       "  author_flair_css_class author_flair_richtext author_flair_text  \\\n",
       "0                    NaN                    []               NaN   \n",
       "1                    NaN                    []               NaN   \n",
       "2                    NaN                    []               NaN   \n",
       "3                    NaN                    []               NaN   \n",
       "4                    NaN                    []               NaN   \n",
       "\n",
       "  author_flair_type author_fullname author_is_blocked author_patreon_flair  \\\n",
       "0              text     t2_7p3cqcb5             False                False   \n",
       "1              text     t2_3hkmoapb             False                False   \n",
       "2              text     t2_3hkmoapb             False                False   \n",
       "3              text     t2_ogi4y19t             False                False   \n",
       "4              text     t2_1poon8tg             False                False   \n",
       "\n",
       "   ... author_flair_template_id is_gallery  distinguished  suggested_sort  \\\n",
       "0  ...                      NaN        NaN            NaN             NaN   \n",
       "1  ...                      NaN        NaN            NaN             NaN   \n",
       "2  ...                      NaN        NaN            NaN             NaN   \n",
       "3  ...                      NaN        NaN            NaN             NaN   \n",
       "4  ...                      NaN        NaN            NaN             NaN   \n",
       "\n",
       "   gallery_data media_metadata author_cakeday discussion_type poll_data  \\\n",
       "0           NaN            NaN            NaN             NaN       NaN   \n",
       "1           NaN            NaN            NaN             NaN       NaN   \n",
       "2           NaN            NaN            NaN             NaN       NaN   \n",
       "3           NaN            NaN            NaN             NaN       NaN   \n",
       "4           NaN            NaN            NaN             NaN       NaN   \n",
       "\n",
       "   banned_by  \n",
       "0        NaN  \n",
       "1        NaN  \n",
       "2        NaN  \n",
       "3        NaN  \n",
       "4        NaN  \n",
       "\n",
       "[5 rows x 85 columns]"
      ]
     },
     "execution_count": 960,
     "metadata": {},
     "output_type": "execute_result"
    }
   ],
   "source": [
    "mlb = pd.read_csv('../data/mlb.csv')\n",
    "print(mlb.shape)\n",
    "mlb.head()"
   ]
  },
  {
   "cell_type": "code",
   "execution_count": 961,
   "id": "43953ebf-03bf-4122-b07c-7b3fc6ef55c0",
   "metadata": {},
   "outputs": [
    {
     "name": "stdout",
     "output_type": "stream",
     "text": [
      "(3000, 87)\n"
     ]
    },
    {
     "data": {
      "text/html": [
       "<div>\n",
       "<style scoped>\n",
       "    .dataframe tbody tr th:only-of-type {\n",
       "        vertical-align: middle;\n",
       "    }\n",
       "\n",
       "    .dataframe tbody tr th {\n",
       "        vertical-align: top;\n",
       "    }\n",
       "\n",
       "    .dataframe thead th {\n",
       "        text-align: right;\n",
       "    }\n",
       "</style>\n",
       "<table border=\"1\" class=\"dataframe\">\n",
       "  <thead>\n",
       "    <tr style=\"text-align: right;\">\n",
       "      <th></th>\n",
       "      <th>all_awardings</th>\n",
       "      <th>allow_live_comments</th>\n",
       "      <th>author</th>\n",
       "      <th>author_flair_css_class</th>\n",
       "      <th>author_flair_richtext</th>\n",
       "      <th>author_flair_text</th>\n",
       "      <th>author_flair_type</th>\n",
       "      <th>author_fullname</th>\n",
       "      <th>author_is_blocked</th>\n",
       "      <th>author_patreon_flair</th>\n",
       "      <th>...</th>\n",
       "      <th>gallery_data</th>\n",
       "      <th>is_gallery</th>\n",
       "      <th>media_metadata</th>\n",
       "      <th>crosspost_parent</th>\n",
       "      <th>crosspost_parent_list</th>\n",
       "      <th>author_cakeday</th>\n",
       "      <th>poll_data</th>\n",
       "      <th>edited</th>\n",
       "      <th>banned_by</th>\n",
       "      <th>gilded</th>\n",
       "    </tr>\n",
       "  </thead>\n",
       "  <tbody>\n",
       "    <tr>\n",
       "      <th>0</th>\n",
       "      <td>[]</td>\n",
       "      <td>False</td>\n",
       "      <td>fsninfo</td>\n",
       "      <td>NaN</td>\n",
       "      <td>[]</td>\n",
       "      <td>NaN</td>\n",
       "      <td>text</td>\n",
       "      <td>t2_2ubss2wo</td>\n",
       "      <td>False</td>\n",
       "      <td>False</td>\n",
       "      <td>...</td>\n",
       "      <td>NaN</td>\n",
       "      <td>NaN</td>\n",
       "      <td>NaN</td>\n",
       "      <td>NaN</td>\n",
       "      <td>NaN</td>\n",
       "      <td>NaN</td>\n",
       "      <td>NaN</td>\n",
       "      <td>NaN</td>\n",
       "      <td>NaN</td>\n",
       "      <td>NaN</td>\n",
       "    </tr>\n",
       "    <tr>\n",
       "      <th>1</th>\n",
       "      <td>[]</td>\n",
       "      <td>False</td>\n",
       "      <td>Cravenmorhed69</td>\n",
       "      <td>NaN</td>\n",
       "      <td>[]</td>\n",
       "      <td>NaN</td>\n",
       "      <td>text</td>\n",
       "      <td>t2_e3vq4jj0</td>\n",
       "      <td>False</td>\n",
       "      <td>False</td>\n",
       "      <td>...</td>\n",
       "      <td>NaN</td>\n",
       "      <td>NaN</td>\n",
       "      <td>NaN</td>\n",
       "      <td>NaN</td>\n",
       "      <td>NaN</td>\n",
       "      <td>NaN</td>\n",
       "      <td>NaN</td>\n",
       "      <td>NaN</td>\n",
       "      <td>NaN</td>\n",
       "      <td>NaN</td>\n",
       "    </tr>\n",
       "    <tr>\n",
       "      <th>2</th>\n",
       "      <td>[]</td>\n",
       "      <td>False</td>\n",
       "      <td>RedSoxGameday</td>\n",
       "      <td>crab</td>\n",
       "      <td>[{'a': ':crab:', 'e': 'emoji', 'u': 'https://e...</td>\n",
       "      <td>:crab:</td>\n",
       "      <td>richtext</td>\n",
       "      <td>t2_clmhw</td>\n",
       "      <td>False</td>\n",
       "      <td>False</td>\n",
       "      <td>...</td>\n",
       "      <td>NaN</td>\n",
       "      <td>NaN</td>\n",
       "      <td>NaN</td>\n",
       "      <td>NaN</td>\n",
       "      <td>NaN</td>\n",
       "      <td>NaN</td>\n",
       "      <td>NaN</td>\n",
       "      <td>NaN</td>\n",
       "      <td>NaN</td>\n",
       "      <td>NaN</td>\n",
       "    </tr>\n",
       "    <tr>\n",
       "      <th>3</th>\n",
       "      <td>[]</td>\n",
       "      <td>False</td>\n",
       "      <td>jidionismydaddy69</td>\n",
       "      <td>NaN</td>\n",
       "      <td>[]</td>\n",
       "      <td>NaN</td>\n",
       "      <td>text</td>\n",
       "      <td>t2_ozlcmlgw</td>\n",
       "      <td>False</td>\n",
       "      <td>False</td>\n",
       "      <td>...</td>\n",
       "      <td>NaN</td>\n",
       "      <td>NaN</td>\n",
       "      <td>NaN</td>\n",
       "      <td>NaN</td>\n",
       "      <td>NaN</td>\n",
       "      <td>NaN</td>\n",
       "      <td>NaN</td>\n",
       "      <td>NaN</td>\n",
       "      <td>NaN</td>\n",
       "      <td>NaN</td>\n",
       "    </tr>\n",
       "    <tr>\n",
       "      <th>4</th>\n",
       "      <td>[]</td>\n",
       "      <td>False</td>\n",
       "      <td>cheekofin</td>\n",
       "      <td>NaN</td>\n",
       "      <td>[]</td>\n",
       "      <td>NaN</td>\n",
       "      <td>text</td>\n",
       "      <td>t2_80qtsd93</td>\n",
       "      <td>False</td>\n",
       "      <td>False</td>\n",
       "      <td>...</td>\n",
       "      <td>NaN</td>\n",
       "      <td>NaN</td>\n",
       "      <td>NaN</td>\n",
       "      <td>NaN</td>\n",
       "      <td>NaN</td>\n",
       "      <td>NaN</td>\n",
       "      <td>NaN</td>\n",
       "      <td>NaN</td>\n",
       "      <td>NaN</td>\n",
       "      <td>NaN</td>\n",
       "    </tr>\n",
       "  </tbody>\n",
       "</table>\n",
       "<p>5 rows × 87 columns</p>\n",
       "</div>"
      ],
      "text/plain": [
       "  all_awardings  allow_live_comments             author  \\\n",
       "0            []                False            fsninfo   \n",
       "1            []                False     Cravenmorhed69   \n",
       "2            []                False      RedSoxGameday   \n",
       "3            []                False  jidionismydaddy69   \n",
       "4            []                False          cheekofin   \n",
       "\n",
       "  author_flair_css_class                              author_flair_richtext  \\\n",
       "0                    NaN                                                 []   \n",
       "1                    NaN                                                 []   \n",
       "2                   crab  [{'a': ':crab:', 'e': 'emoji', 'u': 'https://e...   \n",
       "3                    NaN                                                 []   \n",
       "4                    NaN                                                 []   \n",
       "\n",
       "  author_flair_text author_flair_type author_fullname  author_is_blocked  \\\n",
       "0               NaN              text     t2_2ubss2wo              False   \n",
       "1               NaN              text     t2_e3vq4jj0              False   \n",
       "2            :crab:          richtext        t2_clmhw              False   \n",
       "3               NaN              text     t2_ozlcmlgw              False   \n",
       "4               NaN              text     t2_80qtsd93              False   \n",
       "\n",
       "  author_patreon_flair  ... gallery_data is_gallery  media_metadata  \\\n",
       "0                False  ...          NaN        NaN             NaN   \n",
       "1                False  ...          NaN        NaN             NaN   \n",
       "2                False  ...          NaN        NaN             NaN   \n",
       "3                False  ...          NaN        NaN             NaN   \n",
       "4                False  ...          NaN        NaN             NaN   \n",
       "\n",
       "   crosspost_parent  crosspost_parent_list author_cakeday poll_data edited  \\\n",
       "0               NaN                    NaN            NaN       NaN    NaN   \n",
       "1               NaN                    NaN            NaN       NaN    NaN   \n",
       "2               NaN                    NaN            NaN       NaN    NaN   \n",
       "3               NaN                    NaN            NaN       NaN    NaN   \n",
       "4               NaN                    NaN            NaN       NaN    NaN   \n",
       "\n",
       "  banned_by  gilded  \n",
       "0       NaN     NaN  \n",
       "1       NaN     NaN  \n",
       "2       NaN     NaN  \n",
       "3       NaN     NaN  \n",
       "4       NaN     NaN  \n",
       "\n",
       "[5 rows x 87 columns]"
      ]
     },
     "execution_count": 961,
     "metadata": {},
     "output_type": "execute_result"
    }
   ],
   "source": [
    "redsox = pd.read_csv('../data/redsox.csv')\n",
    "print(redsox.shape)\n",
    "redsox.head()"
   ]
  },
  {
   "cell_type": "markdown",
   "id": "d761c49a-3967-4874-b684-284aaaf3e611",
   "metadata": {},
   "source": [
    "-----\n",
    "#### *Exploring and cleaning the r/mlb data*"
   ]
  },
  {
   "cell_type": "code",
   "execution_count": 962,
   "id": "fae772e5-d0fe-493c-b080-5c0ba25c0a0f",
   "metadata": {},
   "outputs": [
    {
     "data": {
      "text/html": [
       "<div>\n",
       "<style scoped>\n",
       "    .dataframe tbody tr th:only-of-type {\n",
       "        vertical-align: middle;\n",
       "    }\n",
       "\n",
       "    .dataframe tbody tr th {\n",
       "        vertical-align: top;\n",
       "    }\n",
       "\n",
       "    .dataframe thead th {\n",
       "        text-align: right;\n",
       "    }\n",
       "</style>\n",
       "<table border=\"1\" class=\"dataframe\">\n",
       "  <thead>\n",
       "    <tr style=\"text-align: right;\">\n",
       "      <th></th>\n",
       "      <th>all_awardings</th>\n",
       "      <th>allow_live_comments</th>\n",
       "      <th>author</th>\n",
       "      <th>author_flair_css_class</th>\n",
       "      <th>author_flair_richtext</th>\n",
       "      <th>author_flair_text</th>\n",
       "      <th>author_flair_type</th>\n",
       "      <th>author_fullname</th>\n",
       "      <th>author_is_blocked</th>\n",
       "      <th>author_patreon_flair</th>\n",
       "      <th>author_premium</th>\n",
       "      <th>awarders</th>\n",
       "      <th>can_mod_post</th>\n",
       "      <th>contest_mode</th>\n",
       "      <th>created_utc</th>\n",
       "      <th>domain</th>\n",
       "      <th>full_link</th>\n",
       "      <th>gildings</th>\n",
       "      <th>id</th>\n",
       "      <th>is_created_from_ads_ui</th>\n",
       "    </tr>\n",
       "  </thead>\n",
       "  <tbody>\n",
       "    <tr>\n",
       "      <th>0</th>\n",
       "      <td>[]</td>\n",
       "      <td>False</td>\n",
       "      <td>deliriouz16</td>\n",
       "      <td>NaN</td>\n",
       "      <td>[]</td>\n",
       "      <td>NaN</td>\n",
       "      <td>text</td>\n",
       "      <td>t2_7p3cqcb5</td>\n",
       "      <td>False</td>\n",
       "      <td>False</td>\n",
       "      <td>True</td>\n",
       "      <td>[]</td>\n",
       "      <td>False</td>\n",
       "      <td>False</td>\n",
       "      <td>1655871788</td>\n",
       "      <td>i.redd.it</td>\n",
       "      <td>https://www.reddit.com/r/mlb/comments/vhwd1v/h...</td>\n",
       "      <td>{}</td>\n",
       "      <td>vhwd1v</td>\n",
       "      <td>False</td>\n",
       "    </tr>\n",
       "    <tr>\n",
       "      <th>1</th>\n",
       "      <td>[]</td>\n",
       "      <td>False</td>\n",
       "      <td>Comical_Sports_Memes</td>\n",
       "      <td>NaN</td>\n",
       "      <td>[]</td>\n",
       "      <td>NaN</td>\n",
       "      <td>text</td>\n",
       "      <td>t2_3hkmoapb</td>\n",
       "      <td>False</td>\n",
       "      <td>False</td>\n",
       "      <td>False</td>\n",
       "      <td>[]</td>\n",
       "      <td>False</td>\n",
       "      <td>False</td>\n",
       "      <td>1655867264</td>\n",
       "      <td>open.spotify.com</td>\n",
       "      <td>https://www.reddit.com/r/mlb/comments/vhuzb8/h...</td>\n",
       "      <td>{}</td>\n",
       "      <td>vhuzb8</td>\n",
       "      <td>False</td>\n",
       "    </tr>\n",
       "  </tbody>\n",
       "</table>\n",
       "</div>"
      ],
      "text/plain": [
       "  all_awardings  allow_live_comments                author  \\\n",
       "0            []                False           deliriouz16   \n",
       "1            []                False  Comical_Sports_Memes   \n",
       "\n",
       "  author_flair_css_class author_flair_richtext author_flair_text  \\\n",
       "0                    NaN                    []               NaN   \n",
       "1                    NaN                    []               NaN   \n",
       "\n",
       "  author_flair_type author_fullname author_is_blocked author_patreon_flair  \\\n",
       "0              text     t2_7p3cqcb5             False                False   \n",
       "1              text     t2_3hkmoapb             False                False   \n",
       "\n",
       "  author_premium awarders  can_mod_post  contest_mode  created_utc  \\\n",
       "0           True       []         False         False   1655871788   \n",
       "1          False       []         False         False   1655867264   \n",
       "\n",
       "             domain                                          full_link  \\\n",
       "0         i.redd.it  https://www.reddit.com/r/mlb/comments/vhwd1v/h...   \n",
       "1  open.spotify.com  https://www.reddit.com/r/mlb/comments/vhuzb8/h...   \n",
       "\n",
       "  gildings      id  is_created_from_ads_ui  \n",
       "0       {}  vhwd1v                   False  \n",
       "1       {}  vhuzb8                   False  "
      ]
     },
     "execution_count": 962,
     "metadata": {},
     "output_type": "execute_result"
    }
   ],
   "source": [
    "# Exploring columns to potentially keep for modelling\n",
    "mlb.iloc[:, :20].head(2)"
   ]
  },
  {
   "cell_type": "code",
   "execution_count": 963,
   "id": "a3b9c784-8846-4996-96c7-28eb1e4a66d7",
   "metadata": {},
   "outputs": [
    {
     "data": {
      "text/plain": [
       "False    2906\n",
       "Name: author_is_blocked, dtype: int64"
      ]
     },
     "execution_count": 963,
     "metadata": {},
     "output_type": "execute_result"
    }
   ],
   "source": [
    "mlb['author_is_blocked'].value_counts()"
   ]
  },
  {
   "cell_type": "code",
   "execution_count": 964,
   "id": "116cec4c-4923-49fb-8dca-3436b67e3a6a",
   "metadata": {},
   "outputs": [
    {
     "data": {
      "text/plain": [
       "False    2737\n",
       "True      246\n",
       "Name: author_premium, dtype: int64"
      ]
     },
     "execution_count": 964,
     "metadata": {},
     "output_type": "execute_result"
    }
   ],
   "source": [
    "mlb['author_premium'].value_counts()"
   ]
  },
  {
   "cell_type": "code",
   "execution_count": 965,
   "id": "c930d11f-0539-443f-90f3-2c34c7548c51",
   "metadata": {},
   "outputs": [
    {
     "data": {
      "text/html": [
       "<div>\n",
       "<style scoped>\n",
       "    .dataframe tbody tr th:only-of-type {\n",
       "        vertical-align: middle;\n",
       "    }\n",
       "\n",
       "    .dataframe tbody tr th {\n",
       "        vertical-align: top;\n",
       "    }\n",
       "\n",
       "    .dataframe thead th {\n",
       "        text-align: right;\n",
       "    }\n",
       "</style>\n",
       "<table border=\"1\" class=\"dataframe\">\n",
       "  <thead>\n",
       "    <tr style=\"text-align: right;\">\n",
       "      <th></th>\n",
       "      <th>is_meta</th>\n",
       "      <th>is_original_content</th>\n",
       "      <th>is_reddit_media_domain</th>\n",
       "      <th>is_robot_indexable</th>\n",
       "      <th>is_self</th>\n",
       "      <th>is_video</th>\n",
       "      <th>link_flair_background_color</th>\n",
       "      <th>link_flair_richtext</th>\n",
       "      <th>link_flair_template_id</th>\n",
       "      <th>link_flair_text</th>\n",
       "      <th>link_flair_text_color</th>\n",
       "      <th>link_flair_type</th>\n",
       "      <th>locked</th>\n",
       "      <th>media_only</th>\n",
       "      <th>no_follow</th>\n",
       "      <th>num_comments</th>\n",
       "      <th>num_crossposts</th>\n",
       "      <th>over_18</th>\n",
       "      <th>parent_whitelist_status</th>\n",
       "      <th>permalink</th>\n",
       "    </tr>\n",
       "  </thead>\n",
       "  <tbody>\n",
       "    <tr>\n",
       "      <th>0</th>\n",
       "      <td>False</td>\n",
       "      <td>False</td>\n",
       "      <td>True</td>\n",
       "      <td>True</td>\n",
       "      <td>False</td>\n",
       "      <td>False</td>\n",
       "      <td>#04ff00</td>\n",
       "      <td>[]</td>\n",
       "      <td>fdaf3fe0-a7fb-11ec-bf8f-d68d49957060</td>\n",
       "      <td>Original Content</td>\n",
       "      <td>dark</td>\n",
       "      <td>text</td>\n",
       "      <td>False</td>\n",
       "      <td>False</td>\n",
       "      <td>True</td>\n",
       "      <td>0</td>\n",
       "      <td>0</td>\n",
       "      <td>False</td>\n",
       "      <td>all_ads</td>\n",
       "      <td>/r/mlb/comments/vhwd1v/had_to_make_this_to_cel...</td>\n",
       "    </tr>\n",
       "    <tr>\n",
       "      <th>1</th>\n",
       "      <td>False</td>\n",
       "      <td>False</td>\n",
       "      <td>False</td>\n",
       "      <td>False</td>\n",
       "      <td>False</td>\n",
       "      <td>False</td>\n",
       "      <td>NaN</td>\n",
       "      <td>[]</td>\n",
       "      <td>NaN</td>\n",
       "      <td>NaN</td>\n",
       "      <td>dark</td>\n",
       "      <td>text</td>\n",
       "      <td>False</td>\n",
       "      <td>False</td>\n",
       "      <td>True</td>\n",
       "      <td>0</td>\n",
       "      <td>0</td>\n",
       "      <td>False</td>\n",
       "      <td>all_ads</td>\n",
       "      <td>/r/mlb/comments/vhuzb8/how_crazy_is_it_that_aa...</td>\n",
       "    </tr>\n",
       "    <tr>\n",
       "      <th>2</th>\n",
       "      <td>False</td>\n",
       "      <td>False</td>\n",
       "      <td>False</td>\n",
       "      <td>False</td>\n",
       "      <td>False</td>\n",
       "      <td>False</td>\n",
       "      <td>NaN</td>\n",
       "      <td>[]</td>\n",
       "      <td>NaN</td>\n",
       "      <td>NaN</td>\n",
       "      <td>dark</td>\n",
       "      <td>text</td>\n",
       "      <td>False</td>\n",
       "      <td>False</td>\n",
       "      <td>True</td>\n",
       "      <td>0</td>\n",
       "      <td>0</td>\n",
       "      <td>False</td>\n",
       "      <td>all_ads</td>\n",
       "      <td>/r/mlb/comments/vhuz1h/are_the_angels_about_to...</td>\n",
       "    </tr>\n",
       "  </tbody>\n",
       "</table>\n",
       "</div>"
      ],
      "text/plain": [
       "   is_meta  is_original_content  is_reddit_media_domain  is_robot_indexable  \\\n",
       "0    False                False                    True                True   \n",
       "1    False                False                   False               False   \n",
       "2    False                False                   False               False   \n",
       "\n",
       "   is_self  is_video link_flair_background_color link_flair_richtext  \\\n",
       "0    False     False                     #04ff00                  []   \n",
       "1    False     False                         NaN                  []   \n",
       "2    False     False                         NaN                  []   \n",
       "\n",
       "                 link_flair_template_id   link_flair_text  \\\n",
       "0  fdaf3fe0-a7fb-11ec-bf8f-d68d49957060  Original Content   \n",
       "1                                   NaN               NaN   \n",
       "2                                   NaN               NaN   \n",
       "\n",
       "  link_flair_text_color link_flair_type  locked  media_only  no_follow  \\\n",
       "0                  dark            text   False       False       True   \n",
       "1                  dark            text   False       False       True   \n",
       "2                  dark            text   False       False       True   \n",
       "\n",
       "   num_comments  num_crossposts  over_18 parent_whitelist_status  \\\n",
       "0             0               0    False                 all_ads   \n",
       "1             0               0    False                 all_ads   \n",
       "2             0               0    False                 all_ads   \n",
       "\n",
       "                                           permalink  \n",
       "0  /r/mlb/comments/vhwd1v/had_to_make_this_to_cel...  \n",
       "1  /r/mlb/comments/vhuzb8/how_crazy_is_it_that_aa...  \n",
       "2  /r/mlb/comments/vhuz1h/are_the_angels_about_to...  "
      ]
     },
     "execution_count": 965,
     "metadata": {},
     "output_type": "execute_result"
    }
   ],
   "source": [
    "mlb.iloc[:,21:41].head(3)"
   ]
  },
  {
   "cell_type": "code",
   "execution_count": 966,
   "id": "31e2cb83-9537-42a5-962f-df94785d6134",
   "metadata": {},
   "outputs": [
    {
     "data": {
      "text/plain": [
       "is_self  is_video\n",
       "False    False       1544\n",
       "True     False       1401\n",
       "False    True          55\n",
       "dtype: int64"
      ]
     },
     "execution_count": 966,
     "metadata": {},
     "output_type": "execute_result"
    }
   ],
   "source": [
    "mlb[['is_self', 'is_video']].value_counts()"
   ]
  },
  {
   "cell_type": "code",
   "execution_count": 967,
   "id": "77fcb03f-c1f7-44e4-b28e-945f1a271b88",
   "metadata": {},
   "outputs": [
    {
     "data": {
      "text/plain": [
       "False    2986\n",
       "True       14\n",
       "Name: over_18, dtype: int64"
      ]
     },
     "execution_count": 967,
     "metadata": {},
     "output_type": "execute_result"
    }
   ],
   "source": [
    "mlb['over_18'].value_counts()"
   ]
  },
  {
   "cell_type": "code",
   "execution_count": 968,
   "id": "22a1039e-e18a-48cf-9de5-f6cdc4eeba41",
   "metadata": {},
   "outputs": [
    {
     "data": {
      "text/html": [
       "<div>\n",
       "<style scoped>\n",
       "    .dataframe tbody tr th:only-of-type {\n",
       "        vertical-align: middle;\n",
       "    }\n",
       "\n",
       "    .dataframe tbody tr th {\n",
       "        vertical-align: top;\n",
       "    }\n",
       "\n",
       "    .dataframe thead th {\n",
       "        text-align: right;\n",
       "    }\n",
       "</style>\n",
       "<table border=\"1\" class=\"dataframe\">\n",
       "  <thead>\n",
       "    <tr style=\"text-align: right;\">\n",
       "      <th></th>\n",
       "      <th>post_hint</th>\n",
       "      <th>preview</th>\n",
       "      <th>pwls</th>\n",
       "      <th>retrieved_on</th>\n",
       "      <th>score</th>\n",
       "      <th>selftext</th>\n",
       "      <th>send_replies</th>\n",
       "      <th>spoiler</th>\n",
       "      <th>stickied</th>\n",
       "      <th>subreddit</th>\n",
       "      <th>subreddit_id</th>\n",
       "      <th>subreddit_subscribers</th>\n",
       "      <th>subreddit_type</th>\n",
       "      <th>thumbnail</th>\n",
       "      <th>thumbnail_height</th>\n",
       "      <th>thumbnail_width</th>\n",
       "      <th>title</th>\n",
       "      <th>total_awards_received</th>\n",
       "      <th>treatment_tags</th>\n",
       "      <th>upvote_ratio</th>\n",
       "    </tr>\n",
       "  </thead>\n",
       "  <tbody>\n",
       "    <tr>\n",
       "      <th>0</th>\n",
       "      <td>image</td>\n",
       "      <td>{'enabled': True, 'images': [{'id': 'RLd03S7Gw...</td>\n",
       "      <td>6</td>\n",
       "      <td>1655871799</td>\n",
       "      <td>1</td>\n",
       "      <td>NaN</td>\n",
       "      <td>False</td>\n",
       "      <td>False</td>\n",
       "      <td>False</td>\n",
       "      <td>mlb</td>\n",
       "      <td>t5_2qrrr</td>\n",
       "      <td>236603</td>\n",
       "      <td>public</td>\n",
       "      <td>https://a.thumbs.redditmedia.com/9lKZdmrakYlP4...</td>\n",
       "      <td>140.0</td>\n",
       "      <td>140.0</td>\n",
       "      <td>Had to make this to celebrate Ronalds new home...</td>\n",
       "      <td>0</td>\n",
       "      <td>[]</td>\n",
       "      <td>1.0</td>\n",
       "    </tr>\n",
       "    <tr>\n",
       "      <th>1</th>\n",
       "      <td>link</td>\n",
       "      <td>{'enabled': False, 'images': [{'id': 'QGb4lkkK...</td>\n",
       "      <td>6</td>\n",
       "      <td>1655867275</td>\n",
       "      <td>1</td>\n",
       "      <td>NaN</td>\n",
       "      <td>False</td>\n",
       "      <td>False</td>\n",
       "      <td>False</td>\n",
       "      <td>mlb</td>\n",
       "      <td>t5_2qrrr</td>\n",
       "      <td>236525</td>\n",
       "      <td>public</td>\n",
       "      <td>https://a.thumbs.redditmedia.com/c_r2oQS76WD4W...</td>\n",
       "      <td>140.0</td>\n",
       "      <td>140.0</td>\n",
       "      <td>How crazy is it that Aaron Judge might be out ...</td>\n",
       "      <td>0</td>\n",
       "      <td>[]</td>\n",
       "      <td>1.0</td>\n",
       "    </tr>\n",
       "  </tbody>\n",
       "</table>\n",
       "</div>"
      ],
      "text/plain": [
       "  post_hint                                            preview  pwls  \\\n",
       "0     image  {'enabled': True, 'images': [{'id': 'RLd03S7Gw...     6   \n",
       "1      link  {'enabled': False, 'images': [{'id': 'QGb4lkkK...     6   \n",
       "\n",
       "   retrieved_on  score selftext  send_replies  spoiler  stickied subreddit  \\\n",
       "0    1655871799      1      NaN         False    False     False       mlb   \n",
       "1    1655867275      1      NaN         False    False     False       mlb   \n",
       "\n",
       "  subreddit_id  subreddit_subscribers subreddit_type  \\\n",
       "0     t5_2qrrr                 236603         public   \n",
       "1     t5_2qrrr                 236525         public   \n",
       "\n",
       "                                           thumbnail  thumbnail_height  \\\n",
       "0  https://a.thumbs.redditmedia.com/9lKZdmrakYlP4...             140.0   \n",
       "1  https://a.thumbs.redditmedia.com/c_r2oQS76WD4W...             140.0   \n",
       "\n",
       "   thumbnail_width                                              title  \\\n",
       "0            140.0  Had to make this to celebrate Ronalds new home...   \n",
       "1            140.0  How crazy is it that Aaron Judge might be out ...   \n",
       "\n",
       "   total_awards_received treatment_tags  upvote_ratio  \n",
       "0                      0             []           1.0  \n",
       "1                      0             []           1.0  "
      ]
     },
     "execution_count": 968,
     "metadata": {},
     "output_type": "execute_result"
    }
   ],
   "source": [
    "mlb.iloc[:, 42:62].head(2)"
   ]
  },
  {
   "cell_type": "code",
   "execution_count": 969,
   "id": "71332038-b733-4dbc-88dc-7c889b2a7250",
   "metadata": {},
   "outputs": [
    {
     "data": {
      "text/plain": [
       "1     2934\n",
       "0       25\n",
       "2       19\n",
       "3        7\n",
       "4        3\n",
       "18       2\n",
       "37       1\n",
       "71       1\n",
       "30       1\n",
       "6        1\n",
       "5        1\n",
       "7        1\n",
       "15       1\n",
       "44       1\n",
       "66       1\n",
       "38       1\n",
       "Name: score, dtype: int64"
      ]
     },
     "execution_count": 969,
     "metadata": {},
     "output_type": "execute_result"
    }
   ],
   "source": [
    "mlb['score'].value_counts()"
   ]
  },
  {
   "cell_type": "code",
   "execution_count": 970,
   "id": "2f0e2656-f6f2-47b0-a562-1924d4b17dea",
   "metadata": {},
   "outputs": [
    {
     "data": {
      "text/plain": [
       "link            636\n",
       "image           511\n",
       "rich:video      202\n",
       "self            152\n",
       "hosted:video     52\n",
       "gallery           2\n",
       "Name: post_hint, dtype: int64"
      ]
     },
     "execution_count": 970,
     "metadata": {},
     "output_type": "execute_result"
    }
   ],
   "source": [
    "mlb['post_hint'].value_counts()"
   ]
  },
  {
   "cell_type": "code",
   "execution_count": 971,
   "id": "803de0d3-3cbb-4255-a524-97f796d6fb2a",
   "metadata": {},
   "outputs": [
    {
     "data": {
      "text/plain": [
       "250"
      ]
     },
     "execution_count": 971,
     "metadata": {},
     "output_type": "execute_result"
    }
   ],
   "source": [
    "(mlb['selftext'] == '[removed]').sum()"
   ]
  },
  {
   "cell_type": "code",
   "execution_count": 972,
   "id": "506ab2e3-157b-4bf8-9d3f-98af656006dc",
   "metadata": {},
   "outputs": [
    {
     "data": {
      "text/plain": [
       "13"
      ]
     },
     "execution_count": 972,
     "metadata": {},
     "output_type": "execute_result"
    }
   ],
   "source": [
    "(mlb['selftext'] == '[deleted]').sum()"
   ]
  },
  {
   "cell_type": "code",
   "execution_count": 973,
   "id": "dac8aba0-a246-42a7-86ef-213cebbbc822",
   "metadata": {},
   "outputs": [
    {
     "data": {
      "text/plain": [
       "1.00    2846\n",
       "0.99     103\n",
       "0.50      18\n",
       "0.75       6\n",
       "0.67       4\n",
       "0.25       3\n",
       "0.89       3\n",
       "0.80       2\n",
       "0.91       2\n",
       "0.71       2\n",
       "0.83       2\n",
       "0.40       1\n",
       "0.45       1\n",
       "0.38       1\n",
       "0.88       1\n",
       "0.85       1\n",
       "0.66       1\n",
       "0.81       1\n",
       "0.20       1\n",
       "0.98       1\n",
       "Name: upvote_ratio, dtype: int64"
      ]
     },
     "execution_count": 973,
     "metadata": {},
     "output_type": "execute_result"
    }
   ],
   "source": [
    "mlb['upvote_ratio'].value_counts()"
   ]
  },
  {
   "cell_type": "code",
   "execution_count": 974,
   "id": "9caa3bc5-5c9f-4c5a-8e54-f65e2d764142",
   "metadata": {},
   "outputs": [
    {
     "data": {
      "text/html": [
       "<div>\n",
       "<style scoped>\n",
       "    .dataframe tbody tr th:only-of-type {\n",
       "        vertical-align: middle;\n",
       "    }\n",
       "\n",
       "    .dataframe tbody tr th {\n",
       "        vertical-align: top;\n",
       "    }\n",
       "\n",
       "    .dataframe thead th {\n",
       "        text-align: right;\n",
       "    }\n",
       "</style>\n",
       "<table border=\"1\" class=\"dataframe\">\n",
       "  <thead>\n",
       "    <tr style=\"text-align: right;\">\n",
       "      <th></th>\n",
       "      <th>url_overridden_by_dest</th>\n",
       "      <th>whitelist_status</th>\n",
       "      <th>wls</th>\n",
       "      <th>media</th>\n",
       "      <th>media_embed</th>\n",
       "      <th>removed_by_category</th>\n",
       "      <th>secure_media</th>\n",
       "      <th>secure_media_embed</th>\n",
       "      <th>crosspost_parent</th>\n",
       "      <th>crosspost_parent_list</th>\n",
       "      <th>...</th>\n",
       "      <th>author_flair_template_id</th>\n",
       "      <th>is_gallery</th>\n",
       "      <th>distinguished</th>\n",
       "      <th>suggested_sort</th>\n",
       "      <th>gallery_data</th>\n",
       "      <th>media_metadata</th>\n",
       "      <th>author_cakeday</th>\n",
       "      <th>discussion_type</th>\n",
       "      <th>poll_data</th>\n",
       "      <th>banned_by</th>\n",
       "    </tr>\n",
       "  </thead>\n",
       "  <tbody>\n",
       "    <tr>\n",
       "      <th>0</th>\n",
       "      <td>https://i.redd.it/8m4kmeagn3791.jpg</td>\n",
       "      <td>all_ads</td>\n",
       "      <td>6</td>\n",
       "      <td>NaN</td>\n",
       "      <td>NaN</td>\n",
       "      <td>NaN</td>\n",
       "      <td>NaN</td>\n",
       "      <td>NaN</td>\n",
       "      <td>NaN</td>\n",
       "      <td>NaN</td>\n",
       "      <td>...</td>\n",
       "      <td>NaN</td>\n",
       "      <td>NaN</td>\n",
       "      <td>NaN</td>\n",
       "      <td>NaN</td>\n",
       "      <td>NaN</td>\n",
       "      <td>NaN</td>\n",
       "      <td>NaN</td>\n",
       "      <td>NaN</td>\n",
       "      <td>NaN</td>\n",
       "      <td>NaN</td>\n",
       "    </tr>\n",
       "    <tr>\n",
       "      <th>1</th>\n",
       "      <td>https://open.spotify.com/episode/1tCNG4sDjT5OF...</td>\n",
       "      <td>all_ads</td>\n",
       "      <td>6</td>\n",
       "      <td>{'oembed': {'description': 'Listen to this epi...</td>\n",
       "      <td>{'content': '&amp;lt;iframe class=\"embedly-embed\" ...</td>\n",
       "      <td>reddit</td>\n",
       "      <td>{'oembed': {'description': 'Listen to this epi...</td>\n",
       "      <td>{'content': '&amp;lt;iframe class=\"embedly-embed\" ...</td>\n",
       "      <td>NaN</td>\n",
       "      <td>NaN</td>\n",
       "      <td>...</td>\n",
       "      <td>NaN</td>\n",
       "      <td>NaN</td>\n",
       "      <td>NaN</td>\n",
       "      <td>NaN</td>\n",
       "      <td>NaN</td>\n",
       "      <td>NaN</td>\n",
       "      <td>NaN</td>\n",
       "      <td>NaN</td>\n",
       "      <td>NaN</td>\n",
       "      <td>NaN</td>\n",
       "    </tr>\n",
       "    <tr>\n",
       "      <th>2</th>\n",
       "      <td>https://podcasts.apple.com/us/podcast/take-it-...</td>\n",
       "      <td>all_ads</td>\n",
       "      <td>6</td>\n",
       "      <td>NaN</td>\n",
       "      <td>NaN</td>\n",
       "      <td>reddit</td>\n",
       "      <td>NaN</td>\n",
       "      <td>NaN</td>\n",
       "      <td>NaN</td>\n",
       "      <td>NaN</td>\n",
       "      <td>...</td>\n",
       "      <td>NaN</td>\n",
       "      <td>NaN</td>\n",
       "      <td>NaN</td>\n",
       "      <td>NaN</td>\n",
       "      <td>NaN</td>\n",
       "      <td>NaN</td>\n",
       "      <td>NaN</td>\n",
       "      <td>NaN</td>\n",
       "      <td>NaN</td>\n",
       "      <td>NaN</td>\n",
       "    </tr>\n",
       "  </tbody>\n",
       "</table>\n",
       "<p>3 rows × 22 columns</p>\n",
       "</div>"
      ],
      "text/plain": [
       "                              url_overridden_by_dest whitelist_status  wls  \\\n",
       "0                https://i.redd.it/8m4kmeagn3791.jpg          all_ads    6   \n",
       "1  https://open.spotify.com/episode/1tCNG4sDjT5OF...          all_ads    6   \n",
       "2  https://podcasts.apple.com/us/podcast/take-it-...          all_ads    6   \n",
       "\n",
       "                                               media  \\\n",
       "0                                                NaN   \n",
       "1  {'oembed': {'description': 'Listen to this epi...   \n",
       "2                                                NaN   \n",
       "\n",
       "                                         media_embed removed_by_category  \\\n",
       "0                                                NaN                 NaN   \n",
       "1  {'content': '&lt;iframe class=\"embedly-embed\" ...              reddit   \n",
       "2                                                NaN              reddit   \n",
       "\n",
       "                                        secure_media  \\\n",
       "0                                                NaN   \n",
       "1  {'oembed': {'description': 'Listen to this epi...   \n",
       "2                                                NaN   \n",
       "\n",
       "                                  secure_media_embed crosspost_parent  \\\n",
       "0                                                NaN              NaN   \n",
       "1  {'content': '&lt;iframe class=\"embedly-embed\" ...              NaN   \n",
       "2                                                NaN              NaN   \n",
       "\n",
       "  crosspost_parent_list  ... author_flair_template_id is_gallery  \\\n",
       "0                   NaN  ...                      NaN        NaN   \n",
       "1                   NaN  ...                      NaN        NaN   \n",
       "2                   NaN  ...                      NaN        NaN   \n",
       "\n",
       "  distinguished suggested_sort gallery_data media_metadata author_cakeday  \\\n",
       "0           NaN            NaN          NaN            NaN            NaN   \n",
       "1           NaN            NaN          NaN            NaN            NaN   \n",
       "2           NaN            NaN          NaN            NaN            NaN   \n",
       "\n",
       "  discussion_type poll_data banned_by  \n",
       "0             NaN       NaN       NaN  \n",
       "1             NaN       NaN       NaN  \n",
       "2             NaN       NaN       NaN  \n",
       "\n",
       "[3 rows x 22 columns]"
      ]
     },
     "execution_count": 974,
     "metadata": {},
     "output_type": "execute_result"
    }
   ],
   "source": [
    "mlb.iloc[:,63:].head(3)"
   ]
  },
  {
   "cell_type": "code",
   "execution_count": 975,
   "id": "2f6b30eb-c48b-4348-a151-89526e1e8739",
   "metadata": {},
   "outputs": [
    {
     "data": {
      "text/plain": [
       "PrincessBananas85    115\n",
       "retroanduwu24        107\n",
       "trixster110497        73\n",
       "Namechicagoinu        60\n",
       "TalkinMetsWithRob     38\n",
       "                    ... \n",
       "KCROYAL4               1\n",
       "mhmagic44              1\n",
       "Hooloovoo_42           1\n",
       "BeerInTheRear          1\n",
       "YoHoochIsCrazy         1\n",
       "Name: author, Length: 1751, dtype: int64"
      ]
     },
     "execution_count": 975,
     "metadata": {},
     "output_type": "execute_result"
    }
   ],
   "source": [
    "mlb['author'].value_counts()"
   ]
  },
  {
   "cell_type": "code",
   "execution_count": 976,
   "id": "99554774-7aeb-4af0-8915-68afaa04c9c1",
   "metadata": {},
   "outputs": [
    {
     "name": "stdout",
     "output_type": "stream",
     "text": [
      "(3000, 10)\n"
     ]
    },
    {
     "data": {
      "text/html": [
       "<div>\n",
       "<style scoped>\n",
       "    .dataframe tbody tr th:only-of-type {\n",
       "        vertical-align: middle;\n",
       "    }\n",
       "\n",
       "    .dataframe tbody tr th {\n",
       "        vertical-align: top;\n",
       "    }\n",
       "\n",
       "    .dataframe thead th {\n",
       "        text-align: right;\n",
       "    }\n",
       "</style>\n",
       "<table border=\"1\" class=\"dataframe\">\n",
       "  <thead>\n",
       "    <tr style=\"text-align: right;\">\n",
       "      <th></th>\n",
       "      <th>subreddit</th>\n",
       "      <th>author</th>\n",
       "      <th>selftext</th>\n",
       "      <th>created_utc</th>\n",
       "      <th>author_premium</th>\n",
       "      <th>is_video</th>\n",
       "      <th>score</th>\n",
       "      <th>title</th>\n",
       "      <th>upvote_ratio</th>\n",
       "      <th>num_comments</th>\n",
       "    </tr>\n",
       "  </thead>\n",
       "  <tbody>\n",
       "    <tr>\n",
       "      <th>0</th>\n",
       "      <td>mlb</td>\n",
       "      <td>deliriouz16</td>\n",
       "      <td>NaN</td>\n",
       "      <td>1655871788</td>\n",
       "      <td>True</td>\n",
       "      <td>False</td>\n",
       "      <td>1</td>\n",
       "      <td>Had to make this to celebrate Ronalds new home...</td>\n",
       "      <td>1.0</td>\n",
       "      <td>0</td>\n",
       "    </tr>\n",
       "    <tr>\n",
       "      <th>1</th>\n",
       "      <td>mlb</td>\n",
       "      <td>Comical_Sports_Memes</td>\n",
       "      <td>NaN</td>\n",
       "      <td>1655867264</td>\n",
       "      <td>False</td>\n",
       "      <td>False</td>\n",
       "      <td>1</td>\n",
       "      <td>How crazy is it that Aaron Judge might be out ...</td>\n",
       "      <td>1.0</td>\n",
       "      <td>0</td>\n",
       "    </tr>\n",
       "  </tbody>\n",
       "</table>\n",
       "</div>"
      ],
      "text/plain": [
       "  subreddit                author selftext  created_utc author_premium  \\\n",
       "0       mlb           deliriouz16      NaN   1655871788           True   \n",
       "1       mlb  Comical_Sports_Memes      NaN   1655867264          False   \n",
       "\n",
       "   is_video  score                                              title  \\\n",
       "0     False      1  Had to make this to celebrate Ronalds new home...   \n",
       "1     False      1  How crazy is it that Aaron Judge might be out ...   \n",
       "\n",
       "   upvote_ratio  num_comments  \n",
       "0           1.0             0  \n",
       "1           1.0             0  "
      ]
     },
     "execution_count": 976,
     "metadata": {},
     "output_type": "execute_result"
    }
   ],
   "source": [
    "# narrow columns to ones we want to look at further\n",
    "mlb = mlb[['subreddit', 'author', 'selftext', 'created_utc', 'author_premium','is_video','score','title', 'upvote_ratio','num_comments']]\n",
    "\n",
    "print(mlb.shape)\n",
    "mlb.head(2)"
   ]
  },
  {
   "cell_type": "code",
   "execution_count": 977,
   "id": "43c186a1-0824-4f3e-90c2-cc985f002543",
   "metadata": {},
   "outputs": [
    {
     "data": {
      "text/plain": [
       "subreddit            0\n",
       "author               0\n",
       "selftext          1741\n",
       "created_utc          0\n",
       "author_premium      17\n",
       "is_video             0\n",
       "score                0\n",
       "title                0\n",
       "upvote_ratio         0\n",
       "num_comments         0\n",
       "dtype: int64"
      ]
     },
     "execution_count": 977,
     "metadata": {},
     "output_type": "execute_result"
    }
   ],
   "source": [
    "# examine nulls and potential rows to drop\n",
    "# drop all rows where text is null\n",
    "mlb.isnull().sum()"
   ]
  },
  {
   "cell_type": "code",
   "execution_count": 978,
   "id": "1fa8f4ed-c260-4aad-86fa-9f34192dc20a",
   "metadata": {},
   "outputs": [
    {
     "data": {
      "text/plain": [
       "subreddit          0\n",
       "author             0\n",
       "selftext           0\n",
       "created_utc        0\n",
       "author_premium    13\n",
       "is_video           0\n",
       "score              0\n",
       "title              0\n",
       "upvote_ratio       0\n",
       "num_comments       0\n",
       "dtype: int64"
      ]
     },
     "execution_count": 978,
     "metadata": {},
     "output_type": "execute_result"
    }
   ],
   "source": [
    "mlb.dropna(subset = 'selftext',inplace=True)\n",
    "mlb.isnull().sum()"
   ]
  },
  {
   "cell_type": "code",
   "execution_count": 979,
   "id": "12f18ffe-638a-4780-b4ed-67f9a975b79c",
   "metadata": {},
   "outputs": [
    {
     "data": {
      "text/html": [
       "<div>\n",
       "<style scoped>\n",
       "    .dataframe tbody tr th:only-of-type {\n",
       "        vertical-align: middle;\n",
       "    }\n",
       "\n",
       "    .dataframe tbody tr th {\n",
       "        vertical-align: top;\n",
       "    }\n",
       "\n",
       "    .dataframe thead th {\n",
       "        text-align: right;\n",
       "    }\n",
       "</style>\n",
       "<table border=\"1\" class=\"dataframe\">\n",
       "  <thead>\n",
       "    <tr style=\"text-align: right;\">\n",
       "      <th></th>\n",
       "      <th>subreddit</th>\n",
       "      <th>author</th>\n",
       "      <th>selftext</th>\n",
       "      <th>created_utc</th>\n",
       "      <th>author_premium</th>\n",
       "      <th>is_video</th>\n",
       "      <th>score</th>\n",
       "      <th>title</th>\n",
       "      <th>upvote_ratio</th>\n",
       "      <th>num_comments</th>\n",
       "    </tr>\n",
       "  </thead>\n",
       "  <tbody>\n",
       "    <tr>\n",
       "      <th>1653</th>\n",
       "      <td>mlb</td>\n",
       "      <td>[deleted]</td>\n",
       "      <td>[deleted]</td>\n",
       "      <td>1638973022</td>\n",
       "      <td>NaN</td>\n",
       "      <td>True</td>\n",
       "      <td>1</td>\n",
       "      <td>It's lockout season and we're all just a baseb...</td>\n",
       "      <td>1.0</td>\n",
       "      <td>0</td>\n",
       "    </tr>\n",
       "  </tbody>\n",
       "</table>\n",
       "</div>"
      ],
      "text/plain": [
       "     subreddit     author   selftext  created_utc author_premium  is_video  \\\n",
       "1653       mlb  [deleted]  [deleted]   1638973022            NaN      True   \n",
       "\n",
       "      score                                              title  upvote_ratio  \\\n",
       "1653      1  It's lockout season and we're all just a baseb...           1.0   \n",
       "\n",
       "      num_comments  \n",
       "1653             0  "
      ]
     },
     "execution_count": 979,
     "metadata": {},
     "output_type": "execute_result"
    }
   ],
   "source": [
    "mlb[mlb['is_video'] == True]"
   ]
  },
  {
   "cell_type": "code",
   "execution_count": 980,
   "id": "44b4f491-0703-4453-a8ff-e0a666b07533",
   "metadata": {},
   "outputs": [
    {
     "data": {
      "text/plain": [
       "(1259, 10)"
      ]
     },
     "execution_count": 980,
     "metadata": {},
     "output_type": "execute_result"
    }
   ],
   "source": [
    "mlb.shape"
   ]
  },
  {
   "cell_type": "code",
   "execution_count": 981,
   "id": "97a416b8-5c13-425c-bc17-9b2d9ddb57ff",
   "metadata": {},
   "outputs": [],
   "source": [
    "# drop ones with text removed or deleted\n",
    "mlb = mlb[(mlb['selftext'] != '[removed]') | (mlb['selftext'] != '[deleted]')]"
   ]
  },
  {
   "cell_type": "code",
   "execution_count": 982,
   "id": "613ab6d9-0d03-41ba-ae05-2a37686b0644",
   "metadata": {},
   "outputs": [
    {
     "name": "stdout",
     "output_type": "stream",
     "text": [
      "(1259, 10)\n",
      "subreddit          0\n",
      "author             0\n",
      "selftext           0\n",
      "created_utc        0\n",
      "author_premium    13\n",
      "is_video           0\n",
      "score              0\n",
      "title              0\n",
      "upvote_ratio       0\n",
      "num_comments       0\n",
      "dtype: int64\n"
     ]
    }
   ],
   "source": [
    "print(mlb.shape)\n",
    "print(mlb.isnull().sum())"
   ]
  },
  {
   "cell_type": "code",
   "execution_count": 983,
   "id": "f321e581-1305-49c5-bf45-523687dc1091",
   "metadata": {},
   "outputs": [
    {
     "data": {
      "text/plain": [
       "trixster110497       69\n",
       "Tal_Venada           28\n",
       "Keith_H25            21\n",
       "retroanduwu24        15\n",
       "TalkinMetsWithRob    14\n",
       "                     ..\n",
       "BronYrStomp           1\n",
       "MelmothTheBee         1\n",
       "EastPitch3511         1\n",
       "swizzie_swain         1\n",
       "yoMiiro               1\n",
       "Name: author, Length: 866, dtype: int64"
      ]
     },
     "execution_count": 983,
     "metadata": {},
     "output_type": "execute_result"
    }
   ],
   "source": [
    "mlb['author'].value_counts()"
   ]
  },
  {
   "cell_type": "code",
   "execution_count": 984,
   "id": "921a3a62-e44c-4bef-b553-33fa62ae76d7",
   "metadata": {},
   "outputs": [
    {
     "data": {
      "text/html": [
       "<div>\n",
       "<style scoped>\n",
       "    .dataframe tbody tr th:only-of-type {\n",
       "        vertical-align: middle;\n",
       "    }\n",
       "\n",
       "    .dataframe tbody tr th {\n",
       "        vertical-align: top;\n",
       "    }\n",
       "\n",
       "    .dataframe thead th {\n",
       "        text-align: right;\n",
       "    }\n",
       "</style>\n",
       "<table border=\"1\" class=\"dataframe\">\n",
       "  <thead>\n",
       "    <tr style=\"text-align: right;\">\n",
       "      <th></th>\n",
       "      <th>subreddit</th>\n",
       "      <th>author</th>\n",
       "      <th>selftext</th>\n",
       "      <th>created_utc</th>\n",
       "      <th>author_premium</th>\n",
       "      <th>is_video</th>\n",
       "      <th>score</th>\n",
       "      <th>title</th>\n",
       "      <th>upvote_ratio</th>\n",
       "      <th>num_comments</th>\n",
       "      <th>post_char_length</th>\n",
       "      <th>post_word_count</th>\n",
       "    </tr>\n",
       "  </thead>\n",
       "  <tbody>\n",
       "    <tr>\n",
       "      <th>3</th>\n",
       "      <td>mlb</td>\n",
       "      <td>Jay_Subabove</td>\n",
       "      <td>This batter is hitting .191 with 3HR, 12 RBI, ...</td>\n",
       "      <td>1655862592</td>\n",
       "      <td>False</td>\n",
       "      <td>False</td>\n",
       "      <td>1</td>\n",
       "      <td>Am I crazy?</td>\n",
       "      <td>1.0</td>\n",
       "      <td>0</td>\n",
       "      <td>263</td>\n",
       "      <td>53</td>\n",
       "    </tr>\n",
       "    <tr>\n",
       "      <th>8</th>\n",
       "      <td>mlb</td>\n",
       "      <td>Stress_Factor</td>\n",
       "      <td>Not a Yankees fan, but modern day record looki...</td>\n",
       "      <td>1655856890</td>\n",
       "      <td>False</td>\n",
       "      <td>False</td>\n",
       "      <td>1</td>\n",
       "      <td>MLB Record (Wins)</td>\n",
       "      <td>1.0</td>\n",
       "      <td>0</td>\n",
       "      <td>96</td>\n",
       "      <td>19</td>\n",
       "    </tr>\n",
       "  </tbody>\n",
       "</table>\n",
       "</div>"
      ],
      "text/plain": [
       "  subreddit         author                                           selftext  \\\n",
       "3       mlb   Jay_Subabove  This batter is hitting .191 with 3HR, 12 RBI, ...   \n",
       "8       mlb  Stress_Factor  Not a Yankees fan, but modern day record looki...   \n",
       "\n",
       "   created_utc author_premium  is_video  score              title  \\\n",
       "3   1655862592          False     False      1        Am I crazy?   \n",
       "8   1655856890          False     False      1  MLB Record (Wins)   \n",
       "\n",
       "   upvote_ratio  num_comments  post_char_length  post_word_count  \n",
       "3           1.0             0               263               53  \n",
       "8           1.0             0                96               19  "
      ]
     },
     "execution_count": 984,
     "metadata": {},
     "output_type": "execute_result"
    }
   ],
   "source": [
    "# look into the length and word count of posts\n",
    "# create new columns for post lengths\n",
    "mlb['post_char_length'] = [len(str(i)) for i in mlb['selftext']]\n",
    "mlb['post_word_count'] = [len(str(i).split(\" \")) for i in mlb['selftext']]\n",
    "mlb.head(2)"
   ]
  },
  {
   "cell_type": "markdown",
   "id": "a38ec0b2-bfa8-4261-8233-df24beb206d2",
   "metadata": {
    "tags": []
   },
   "source": [
    "-----\n",
    "#### *Exploring and cleaning the r/redsox data*"
   ]
  },
  {
   "cell_type": "code",
   "execution_count": 985,
   "id": "528916d4-36a1-41bd-9190-52e71952c28a",
   "metadata": {},
   "outputs": [
    {
     "data": {
      "text/html": [
       "<div>\n",
       "<style scoped>\n",
       "    .dataframe tbody tr th:only-of-type {\n",
       "        vertical-align: middle;\n",
       "    }\n",
       "\n",
       "    .dataframe tbody tr th {\n",
       "        vertical-align: top;\n",
       "    }\n",
       "\n",
       "    .dataframe thead th {\n",
       "        text-align: right;\n",
       "    }\n",
       "</style>\n",
       "<table border=\"1\" class=\"dataframe\">\n",
       "  <thead>\n",
       "    <tr style=\"text-align: right;\">\n",
       "      <th></th>\n",
       "      <th>all_awardings</th>\n",
       "      <th>allow_live_comments</th>\n",
       "      <th>author</th>\n",
       "      <th>author_flair_css_class</th>\n",
       "      <th>author_flair_richtext</th>\n",
       "      <th>author_flair_text</th>\n",
       "      <th>author_flair_type</th>\n",
       "      <th>author_fullname</th>\n",
       "      <th>author_is_blocked</th>\n",
       "      <th>author_patreon_flair</th>\n",
       "      <th>author_premium</th>\n",
       "      <th>awarders</th>\n",
       "      <th>can_mod_post</th>\n",
       "      <th>contest_mode</th>\n",
       "      <th>created_utc</th>\n",
       "      <th>domain</th>\n",
       "      <th>full_link</th>\n",
       "      <th>gildings</th>\n",
       "      <th>id</th>\n",
       "      <th>is_created_from_ads_ui</th>\n",
       "    </tr>\n",
       "  </thead>\n",
       "  <tbody>\n",
       "    <tr>\n",
       "      <th>0</th>\n",
       "      <td>[]</td>\n",
       "      <td>False</td>\n",
       "      <td>fsninfo</td>\n",
       "      <td>NaN</td>\n",
       "      <td>[]</td>\n",
       "      <td>NaN</td>\n",
       "      <td>text</td>\n",
       "      <td>t2_2ubss2wo</td>\n",
       "      <td>False</td>\n",
       "      <td>False</td>\n",
       "      <td>False</td>\n",
       "      <td>[]</td>\n",
       "      <td>False</td>\n",
       "      <td>False</td>\n",
       "      <td>1655869523</td>\n",
       "      <td>youtube.com</td>\n",
       "      <td>https://www.reddit.com/r/redsox/comments/vhvoa...</td>\n",
       "      <td>{}</td>\n",
       "      <td>vhvoa9</td>\n",
       "      <td>False</td>\n",
       "    </tr>\n",
       "    <tr>\n",
       "      <th>1</th>\n",
       "      <td>[]</td>\n",
       "      <td>False</td>\n",
       "      <td>Cravenmorhed69</td>\n",
       "      <td>NaN</td>\n",
       "      <td>[]</td>\n",
       "      <td>NaN</td>\n",
       "      <td>text</td>\n",
       "      <td>t2_e3vq4jj0</td>\n",
       "      <td>False</td>\n",
       "      <td>False</td>\n",
       "      <td>False</td>\n",
       "      <td>[]</td>\n",
       "      <td>False</td>\n",
       "      <td>False</td>\n",
       "      <td>1655868804</td>\n",
       "      <td>i.redd.it</td>\n",
       "      <td>https://www.reddit.com/r/redsox/comments/vhvgg...</td>\n",
       "      <td>{}</td>\n",
       "      <td>vhvggq</td>\n",
       "      <td>False</td>\n",
       "    </tr>\n",
       "  </tbody>\n",
       "</table>\n",
       "</div>"
      ],
      "text/plain": [
       "  all_awardings  allow_live_comments          author author_flair_css_class  \\\n",
       "0            []                False         fsninfo                    NaN   \n",
       "1            []                False  Cravenmorhed69                    NaN   \n",
       "\n",
       "  author_flair_richtext author_flair_text author_flair_type author_fullname  \\\n",
       "0                    []               NaN              text     t2_2ubss2wo   \n",
       "1                    []               NaN              text     t2_e3vq4jj0   \n",
       "\n",
       "   author_is_blocked author_patreon_flair author_premium awarders  \\\n",
       "0              False                False          False       []   \n",
       "1              False                False          False       []   \n",
       "\n",
       "   can_mod_post  contest_mode  created_utc       domain  \\\n",
       "0         False         False   1655869523  youtube.com   \n",
       "1         False         False   1655868804    i.redd.it   \n",
       "\n",
       "                                           full_link gildings      id  \\\n",
       "0  https://www.reddit.com/r/redsox/comments/vhvoa...       {}  vhvoa9   \n",
       "1  https://www.reddit.com/r/redsox/comments/vhvgg...       {}  vhvggq   \n",
       "\n",
       "   is_created_from_ads_ui  \n",
       "0                   False  \n",
       "1                   False  "
      ]
     },
     "execution_count": 985,
     "metadata": {},
     "output_type": "execute_result"
    }
   ],
   "source": [
    "redsox.iloc[:,:20].head(2)"
   ]
  },
  {
   "cell_type": "code",
   "execution_count": 986,
   "id": "7bcd9303-24e4-4bd1-966c-dde79cd4c915",
   "metadata": {},
   "outputs": [
    {
     "data": {
      "text/html": [
       "<div>\n",
       "<style scoped>\n",
       "    .dataframe tbody tr th:only-of-type {\n",
       "        vertical-align: middle;\n",
       "    }\n",
       "\n",
       "    .dataframe tbody tr th {\n",
       "        vertical-align: top;\n",
       "    }\n",
       "\n",
       "    .dataframe thead th {\n",
       "        text-align: right;\n",
       "    }\n",
       "</style>\n",
       "<table border=\"1\" class=\"dataframe\">\n",
       "  <thead>\n",
       "    <tr style=\"text-align: right;\">\n",
       "      <th></th>\n",
       "      <th>is_meta</th>\n",
       "      <th>is_original_content</th>\n",
       "      <th>is_reddit_media_domain</th>\n",
       "      <th>is_robot_indexable</th>\n",
       "      <th>is_self</th>\n",
       "      <th>is_video</th>\n",
       "      <th>link_flair_background_color</th>\n",
       "      <th>link_flair_css_class</th>\n",
       "      <th>link_flair_richtext</th>\n",
       "      <th>link_flair_text</th>\n",
       "      <th>link_flair_text_color</th>\n",
       "      <th>link_flair_type</th>\n",
       "      <th>locked</th>\n",
       "      <th>media</th>\n",
       "      <th>media_embed</th>\n",
       "      <th>media_only</th>\n",
       "      <th>no_follow</th>\n",
       "      <th>num_comments</th>\n",
       "      <th>num_crossposts</th>\n",
       "      <th>over_18</th>\n",
       "    </tr>\n",
       "  </thead>\n",
       "  <tbody>\n",
       "    <tr>\n",
       "      <th>0</th>\n",
       "      <td>False</td>\n",
       "      <td>False</td>\n",
       "      <td>False</td>\n",
       "      <td>True</td>\n",
       "      <td>False</td>\n",
       "      <td>False</td>\n",
       "      <td>NaN</td>\n",
       "      <td>vid</td>\n",
       "      <td>[{'e': 'text', 't': 'VIDEO'}]</td>\n",
       "      <td>VIDEO</td>\n",
       "      <td>dark</td>\n",
       "      <td>richtext</td>\n",
       "      <td>False</td>\n",
       "      <td>{'oembed': {'author_name': 'Final Score Networ...</td>\n",
       "      <td>{'content': '&amp;lt;iframe width=\"356\" height=\"20...</td>\n",
       "      <td>False</td>\n",
       "      <td>True</td>\n",
       "      <td>0</td>\n",
       "      <td>0</td>\n",
       "      <td>False</td>\n",
       "    </tr>\n",
       "    <tr>\n",
       "      <th>1</th>\n",
       "      <td>False</td>\n",
       "      <td>False</td>\n",
       "      <td>True</td>\n",
       "      <td>True</td>\n",
       "      <td>False</td>\n",
       "      <td>False</td>\n",
       "      <td>NaN</td>\n",
       "      <td>img</td>\n",
       "      <td>[{'e': 'text', 't': 'IMAGE'}]</td>\n",
       "      <td>IMAGE</td>\n",
       "      <td>dark</td>\n",
       "      <td>richtext</td>\n",
       "      <td>False</td>\n",
       "      <td>NaN</td>\n",
       "      <td>NaN</td>\n",
       "      <td>False</td>\n",
       "      <td>True</td>\n",
       "      <td>0</td>\n",
       "      <td>0</td>\n",
       "      <td>False</td>\n",
       "    </tr>\n",
       "    <tr>\n",
       "      <th>2</th>\n",
       "      <td>False</td>\n",
       "      <td>False</td>\n",
       "      <td>False</td>\n",
       "      <td>True</td>\n",
       "      <td>True</td>\n",
       "      <td>False</td>\n",
       "      <td>#9e8d49</td>\n",
       "      <td>pgt</td>\n",
       "      <td>[{'e': 'text', 't': 'POST GAME THREAD'}]</td>\n",
       "      <td>POST GAME THREAD</td>\n",
       "      <td>light</td>\n",
       "      <td>richtext</td>\n",
       "      <td>False</td>\n",
       "      <td>NaN</td>\n",
       "      <td>NaN</td>\n",
       "      <td>False</td>\n",
       "      <td>True</td>\n",
       "      <td>0</td>\n",
       "      <td>0</td>\n",
       "      <td>False</td>\n",
       "    </tr>\n",
       "  </tbody>\n",
       "</table>\n",
       "</div>"
      ],
      "text/plain": [
       "   is_meta  is_original_content  is_reddit_media_domain  is_robot_indexable  \\\n",
       "0    False                False                   False                True   \n",
       "1    False                False                    True                True   \n",
       "2    False                False                   False                True   \n",
       "\n",
       "   is_self  is_video link_flair_background_color link_flair_css_class  \\\n",
       "0    False     False                         NaN                  vid   \n",
       "1    False     False                         NaN                  img   \n",
       "2     True     False                     #9e8d49                  pgt   \n",
       "\n",
       "                        link_flair_richtext   link_flair_text  \\\n",
       "0             [{'e': 'text', 't': 'VIDEO'}]             VIDEO   \n",
       "1             [{'e': 'text', 't': 'IMAGE'}]             IMAGE   \n",
       "2  [{'e': 'text', 't': 'POST GAME THREAD'}]  POST GAME THREAD   \n",
       "\n",
       "  link_flair_text_color link_flair_type  locked  \\\n",
       "0                  dark        richtext   False   \n",
       "1                  dark        richtext   False   \n",
       "2                 light        richtext   False   \n",
       "\n",
       "                                               media  \\\n",
       "0  {'oembed': {'author_name': 'Final Score Networ...   \n",
       "1                                                NaN   \n",
       "2                                                NaN   \n",
       "\n",
       "                                         media_embed  media_only  no_follow  \\\n",
       "0  {'content': '&lt;iframe width=\"356\" height=\"20...       False       True   \n",
       "1                                                NaN       False       True   \n",
       "2                                                NaN       False       True   \n",
       "\n",
       "   num_comments  num_crossposts  over_18  \n",
       "0             0               0    False  \n",
       "1             0               0    False  \n",
       "2             0               0    False  "
      ]
     },
     "execution_count": 986,
     "metadata": {},
     "output_type": "execute_result"
    }
   ],
   "source": [
    "redsox.iloc[:,21:41].head(3)"
   ]
  },
  {
   "cell_type": "code",
   "execution_count": 987,
   "id": "0d608ea1-59f6-4437-abe3-8205162818b0",
   "metadata": {},
   "outputs": [
    {
     "data": {
      "text/plain": [
       "author_is_blocked  is_video  num_comments\n",
       "False              False     0               2074\n",
       "                             1                 69\n",
       "                   True      0                 63\n",
       "                   False     2                 59\n",
       "                             3                 47\n",
       "                                             ... \n",
       "                             180                1\n",
       "                             195                1\n",
       "                             199                1\n",
       "                             201                1\n",
       "                   True      198                1\n",
       "Length: 141, dtype: int64"
      ]
     },
     "execution_count": 987,
     "metadata": {},
     "output_type": "execute_result"
    }
   ],
   "source": [
    "redsox[['author_is_blocked','is_video','num_comments']].value_counts()"
   ]
  },
  {
   "cell_type": "code",
   "execution_count": 988,
   "id": "5e513610-0fa8-47c1-ac39-e2fb0cc5a255",
   "metadata": {},
   "outputs": [
    {
     "data": {
      "text/html": [
       "<div>\n",
       "<style scoped>\n",
       "    .dataframe tbody tr th:only-of-type {\n",
       "        vertical-align: middle;\n",
       "    }\n",
       "\n",
       "    .dataframe tbody tr th {\n",
       "        vertical-align: top;\n",
       "    }\n",
       "\n",
       "    .dataframe thead th {\n",
       "        text-align: right;\n",
       "    }\n",
       "</style>\n",
       "<table border=\"1\" class=\"dataframe\">\n",
       "  <thead>\n",
       "    <tr style=\"text-align: right;\">\n",
       "      <th></th>\n",
       "      <th>permalink</th>\n",
       "      <th>pinned</th>\n",
       "      <th>post_hint</th>\n",
       "      <th>preview</th>\n",
       "      <th>pwls</th>\n",
       "      <th>retrieved_on</th>\n",
       "      <th>score</th>\n",
       "      <th>secure_media</th>\n",
       "      <th>secure_media_embed</th>\n",
       "      <th>selftext</th>\n",
       "      <th>send_replies</th>\n",
       "      <th>spoiler</th>\n",
       "      <th>stickied</th>\n",
       "      <th>subreddit</th>\n",
       "      <th>subreddit_id</th>\n",
       "      <th>subreddit_subscribers</th>\n",
       "      <th>subreddit_type</th>\n",
       "      <th>thumbnail</th>\n",
       "      <th>thumbnail_height</th>\n",
       "      <th>thumbnail_width</th>\n",
       "    </tr>\n",
       "  </thead>\n",
       "  <tbody>\n",
       "    <tr>\n",
       "      <th>0</th>\n",
       "      <td>/r/redsox/comments/vhvoa9/tigers_vs_red_sox_ga...</td>\n",
       "      <td>False</td>\n",
       "      <td>rich:video</td>\n",
       "      <td>{'enabled': False, 'images': [{'id': 'g_xOktdG...</td>\n",
       "      <td>6</td>\n",
       "      <td>1655869534</td>\n",
       "      <td>1</td>\n",
       "      <td>{'oembed': {'author_name': 'Final Score Networ...</td>\n",
       "      <td>{'content': '&amp;lt;iframe width=\"356\" height=\"20...</td>\n",
       "      <td>NaN</td>\n",
       "      <td>True</td>\n",
       "      <td>False</td>\n",
       "      <td>False</td>\n",
       "      <td>redsox</td>\n",
       "      <td>t5_2qh95</td>\n",
       "      <td>143741</td>\n",
       "      <td>public</td>\n",
       "      <td>https://b.thumbs.redditmedia.com/3fbjwyIUpRlJr...</td>\n",
       "      <td>105.0</td>\n",
       "      <td>140.0</td>\n",
       "    </tr>\n",
       "    <tr>\n",
       "      <th>1</th>\n",
       "      <td>/r/redsox/comments/vhvggq/report_alex_cora_to_...</td>\n",
       "      <td>False</td>\n",
       "      <td>image</td>\n",
       "      <td>{'enabled': True, 'images': [{'id': 'VXnY39fFO...</td>\n",
       "      <td>6</td>\n",
       "      <td>1655868814</td>\n",
       "      <td>1</td>\n",
       "      <td>NaN</td>\n",
       "      <td>NaN</td>\n",
       "      <td>NaN</td>\n",
       "      <td>False</td>\n",
       "      <td>False</td>\n",
       "      <td>False</td>\n",
       "      <td>redsox</td>\n",
       "      <td>t5_2qh95</td>\n",
       "      <td>143741</td>\n",
       "      <td>public</td>\n",
       "      <td>https://b.thumbs.redditmedia.com/01OSMw9DONG6e...</td>\n",
       "      <td>118.0</td>\n",
       "      <td>140.0</td>\n",
       "    </tr>\n",
       "    <tr>\n",
       "      <th>2</th>\n",
       "      <td>/r/redsox/comments/vhtt1e/post_game_thread_621...</td>\n",
       "      <td>False</td>\n",
       "      <td>NaN</td>\n",
       "      <td>NaN</td>\n",
       "      <td>6</td>\n",
       "      <td>1655863649</td>\n",
       "      <td>1</td>\n",
       "      <td>NaN</td>\n",
       "      <td>NaN</td>\n",
       "      <td>### Line Score - Final\\n\\n| |1|2|3|4|5|6|7|8|9...</td>\n",
       "      <td>False</td>\n",
       "      <td>False</td>\n",
       "      <td>False</td>\n",
       "      <td>redsox</td>\n",
       "      <td>t5_2qh95</td>\n",
       "      <td>143726</td>\n",
       "      <td>public</td>\n",
       "      <td>self</td>\n",
       "      <td>NaN</td>\n",
       "      <td>NaN</td>\n",
       "    </tr>\n",
       "  </tbody>\n",
       "</table>\n",
       "</div>"
      ],
      "text/plain": [
       "                                           permalink  pinned   post_hint  \\\n",
       "0  /r/redsox/comments/vhvoa9/tigers_vs_red_sox_ga...   False  rich:video   \n",
       "1  /r/redsox/comments/vhvggq/report_alex_cora_to_...   False       image   \n",
       "2  /r/redsox/comments/vhtt1e/post_game_thread_621...   False         NaN   \n",
       "\n",
       "                                             preview  pwls  retrieved_on  \\\n",
       "0  {'enabled': False, 'images': [{'id': 'g_xOktdG...     6    1655869534   \n",
       "1  {'enabled': True, 'images': [{'id': 'VXnY39fFO...     6    1655868814   \n",
       "2                                                NaN     6    1655863649   \n",
       "\n",
       "   score                                       secure_media  \\\n",
       "0      1  {'oembed': {'author_name': 'Final Score Networ...   \n",
       "1      1                                                NaN   \n",
       "2      1                                                NaN   \n",
       "\n",
       "                                  secure_media_embed  \\\n",
       "0  {'content': '&lt;iframe width=\"356\" height=\"20...   \n",
       "1                                                NaN   \n",
       "2                                                NaN   \n",
       "\n",
       "                                            selftext  send_replies  spoiler  \\\n",
       "0                                                NaN          True    False   \n",
       "1                                                NaN         False    False   \n",
       "2  ### Line Score - Final\\n\\n| |1|2|3|4|5|6|7|8|9...         False    False   \n",
       "\n",
       "   stickied subreddit subreddit_id  subreddit_subscribers subreddit_type  \\\n",
       "0     False    redsox     t5_2qh95                 143741         public   \n",
       "1     False    redsox     t5_2qh95                 143741         public   \n",
       "2     False    redsox     t5_2qh95                 143726         public   \n",
       "\n",
       "                                           thumbnail  thumbnail_height  \\\n",
       "0  https://b.thumbs.redditmedia.com/3fbjwyIUpRlJr...             105.0   \n",
       "1  https://b.thumbs.redditmedia.com/01OSMw9DONG6e...             118.0   \n",
       "2                                               self               NaN   \n",
       "\n",
       "   thumbnail_width  \n",
       "0            140.0  \n",
       "1            140.0  \n",
       "2              NaN  "
      ]
     },
     "execution_count": 988,
     "metadata": {},
     "output_type": "execute_result"
    }
   ],
   "source": [
    "redsox.iloc[:,42:62].head(3)"
   ]
  },
  {
   "cell_type": "code",
   "execution_count": 989,
   "id": "41269c5a-8416-41d2-a959-f218066f7372",
   "metadata": {
    "tags": []
   },
   "outputs": [
    {
     "data": {
      "text/plain": [
       "566"
      ]
     },
     "execution_count": 989,
     "metadata": {},
     "output_type": "execute_result"
    }
   ],
   "source": [
    "(redsox['selftext'] == '[removed]').sum()"
   ]
  },
  {
   "cell_type": "code",
   "execution_count": 990,
   "id": "63484ad2-77da-4529-a871-0c5748ded15c",
   "metadata": {},
   "outputs": [
    {
     "data": {
      "text/plain": [
       "18"
      ]
     },
     "execution_count": 990,
     "metadata": {},
     "output_type": "execute_result"
    }
   ],
   "source": [
    "(redsox['selftext'] == '[deleted]').sum()"
   ]
  },
  {
   "cell_type": "code",
   "execution_count": 991,
   "id": "a53b5478-b283-478b-a42f-259c806a4a6d",
   "metadata": {},
   "outputs": [
    {
     "data": {
      "text/html": [
       "<div>\n",
       "<style scoped>\n",
       "    .dataframe tbody tr th:only-of-type {\n",
       "        vertical-align: middle;\n",
       "    }\n",
       "\n",
       "    .dataframe tbody tr th {\n",
       "        vertical-align: top;\n",
       "    }\n",
       "\n",
       "    .dataframe thead th {\n",
       "        text-align: right;\n",
       "    }\n",
       "</style>\n",
       "<table border=\"1\" class=\"dataframe\">\n",
       "  <thead>\n",
       "    <tr style=\"text-align: right;\">\n",
       "      <th></th>\n",
       "      <th>total_awards_received</th>\n",
       "      <th>treatment_tags</th>\n",
       "      <th>upvote_ratio</th>\n",
       "      <th>url</th>\n",
       "      <th>url_overridden_by_dest</th>\n",
       "      <th>whitelist_status</th>\n",
       "      <th>wls</th>\n",
       "      <th>author_flair_template_id</th>\n",
       "      <th>author_flair_text_color</th>\n",
       "      <th>link_flair_template_id</th>\n",
       "      <th>...</th>\n",
       "      <th>gallery_data</th>\n",
       "      <th>is_gallery</th>\n",
       "      <th>media_metadata</th>\n",
       "      <th>crosspost_parent</th>\n",
       "      <th>crosspost_parent_list</th>\n",
       "      <th>author_cakeday</th>\n",
       "      <th>poll_data</th>\n",
       "      <th>edited</th>\n",
       "      <th>banned_by</th>\n",
       "      <th>gilded</th>\n",
       "    </tr>\n",
       "  </thead>\n",
       "  <tbody>\n",
       "    <tr>\n",
       "      <th>0</th>\n",
       "      <td>0</td>\n",
       "      <td>[]</td>\n",
       "      <td>1.0</td>\n",
       "      <td>https://youtube.com/watch?v=L73SqRs8Ft0&amp;amp;fe...</td>\n",
       "      <td>https://youtube.com/watch?v=L73SqRs8Ft0&amp;amp;fe...</td>\n",
       "      <td>all_ads</td>\n",
       "      <td>6</td>\n",
       "      <td>NaN</td>\n",
       "      <td>NaN</td>\n",
       "      <td>NaN</td>\n",
       "      <td>...</td>\n",
       "      <td>NaN</td>\n",
       "      <td>NaN</td>\n",
       "      <td>NaN</td>\n",
       "      <td>NaN</td>\n",
       "      <td>NaN</td>\n",
       "      <td>NaN</td>\n",
       "      <td>NaN</td>\n",
       "      <td>NaN</td>\n",
       "      <td>NaN</td>\n",
       "      <td>NaN</td>\n",
       "    </tr>\n",
       "    <tr>\n",
       "      <th>1</th>\n",
       "      <td>0</td>\n",
       "      <td>[]</td>\n",
       "      <td>1.0</td>\n",
       "      <td>https://i.redd.it/yfi0m91le3791.jpg</td>\n",
       "      <td>https://i.redd.it/yfi0m91le3791.jpg</td>\n",
       "      <td>all_ads</td>\n",
       "      <td>6</td>\n",
       "      <td>NaN</td>\n",
       "      <td>NaN</td>\n",
       "      <td>NaN</td>\n",
       "      <td>...</td>\n",
       "      <td>NaN</td>\n",
       "      <td>NaN</td>\n",
       "      <td>NaN</td>\n",
       "      <td>NaN</td>\n",
       "      <td>NaN</td>\n",
       "      <td>NaN</td>\n",
       "      <td>NaN</td>\n",
       "      <td>NaN</td>\n",
       "      <td>NaN</td>\n",
       "      <td>NaN</td>\n",
       "    </tr>\n",
       "  </tbody>\n",
       "</table>\n",
       "<p>2 rows × 24 columns</p>\n",
       "</div>"
      ],
      "text/plain": [
       "   total_awards_received treatment_tags  upvote_ratio  \\\n",
       "0                      0             []           1.0   \n",
       "1                      0             []           1.0   \n",
       "\n",
       "                                                 url  \\\n",
       "0  https://youtube.com/watch?v=L73SqRs8Ft0&amp;fe...   \n",
       "1                https://i.redd.it/yfi0m91le3791.jpg   \n",
       "\n",
       "                              url_overridden_by_dest whitelist_status  wls  \\\n",
       "0  https://youtube.com/watch?v=L73SqRs8Ft0&amp;fe...          all_ads    6   \n",
       "1                https://i.redd.it/yfi0m91le3791.jpg          all_ads    6   \n",
       "\n",
       "  author_flair_template_id author_flair_text_color link_flair_template_id  \\\n",
       "0                      NaN                     NaN                    NaN   \n",
       "1                      NaN                     NaN                    NaN   \n",
       "\n",
       "   ... gallery_data is_gallery media_metadata crosspost_parent  \\\n",
       "0  ...          NaN        NaN            NaN              NaN   \n",
       "1  ...          NaN        NaN            NaN              NaN   \n",
       "\n",
       "  crosspost_parent_list author_cakeday poll_data edited banned_by gilded  \n",
       "0                   NaN            NaN       NaN    NaN       NaN    NaN  \n",
       "1                   NaN            NaN       NaN    NaN       NaN    NaN  \n",
       "\n",
       "[2 rows x 24 columns]"
      ]
     },
     "execution_count": 991,
     "metadata": {},
     "output_type": "execute_result"
    }
   ],
   "source": [
    "redsox.iloc[:,63:].head(2)"
   ]
  },
  {
   "cell_type": "code",
   "execution_count": 992,
   "id": "e0320221-d0b4-41f9-9d8a-6162f8df0619",
   "metadata": {},
   "outputs": [
    {
     "data": {
      "text/plain": [
       "False    2806\n",
       "True      174\n",
       "Name: author_premium, dtype: int64"
      ]
     },
     "execution_count": 992,
     "metadata": {},
     "output_type": "execute_result"
    }
   ],
   "source": [
    "redsox['author_premium'].value_counts()"
   ]
  },
  {
   "cell_type": "code",
   "execution_count": 993,
   "id": "3bbc2781-36b2-4fc1-9491-48e3cd8fd6bf",
   "metadata": {},
   "outputs": [
    {
     "name": "stdout",
     "output_type": "stream",
     "text": [
      "(3000, 10)\n"
     ]
    },
    {
     "data": {
      "text/html": [
       "<div>\n",
       "<style scoped>\n",
       "    .dataframe tbody tr th:only-of-type {\n",
       "        vertical-align: middle;\n",
       "    }\n",
       "\n",
       "    .dataframe tbody tr th {\n",
       "        vertical-align: top;\n",
       "    }\n",
       "\n",
       "    .dataframe thead th {\n",
       "        text-align: right;\n",
       "    }\n",
       "</style>\n",
       "<table border=\"1\" class=\"dataframe\">\n",
       "  <thead>\n",
       "    <tr style=\"text-align: right;\">\n",
       "      <th></th>\n",
       "      <th>subreddit</th>\n",
       "      <th>author</th>\n",
       "      <th>selftext</th>\n",
       "      <th>created_utc</th>\n",
       "      <th>author_premium</th>\n",
       "      <th>is_video</th>\n",
       "      <th>score</th>\n",
       "      <th>title</th>\n",
       "      <th>upvote_ratio</th>\n",
       "      <th>num_comments</th>\n",
       "    </tr>\n",
       "  </thead>\n",
       "  <tbody>\n",
       "    <tr>\n",
       "      <th>0</th>\n",
       "      <td>redsox</td>\n",
       "      <td>fsninfo</td>\n",
       "      <td>NaN</td>\n",
       "      <td>1655869523</td>\n",
       "      <td>False</td>\n",
       "      <td>False</td>\n",
       "      <td>1</td>\n",
       "      <td>Tigers vs Red Sox Game Preview and Prediction</td>\n",
       "      <td>1.0</td>\n",
       "      <td>0</td>\n",
       "    </tr>\n",
       "    <tr>\n",
       "      <th>1</th>\n",
       "      <td>redsox</td>\n",
       "      <td>Cravenmorhed69</td>\n",
       "      <td>NaN</td>\n",
       "      <td>1655868804</td>\n",
       "      <td>False</td>\n",
       "      <td>False</td>\n",
       "      <td>1</td>\n",
       "      <td>Report: Alex Cora to rest Devers and Bogaerts ...</td>\n",
       "      <td>1.0</td>\n",
       "      <td>0</td>\n",
       "    </tr>\n",
       "    <tr>\n",
       "      <th>2</th>\n",
       "      <td>redsox</td>\n",
       "      <td>RedSoxGameday</td>\n",
       "      <td>### Line Score - Final\\n\\n| |1|2|3|4|5|6|7|8|9...</td>\n",
       "      <td>1655863639</td>\n",
       "      <td>False</td>\n",
       "      <td>False</td>\n",
       "      <td>1</td>\n",
       "      <td>Post Game Thread: 6/21 Tigers @ Red Sox</td>\n",
       "      <td>1.0</td>\n",
       "      <td>0</td>\n",
       "    </tr>\n",
       "  </tbody>\n",
       "</table>\n",
       "</div>"
      ],
      "text/plain": [
       "  subreddit          author  \\\n",
       "0    redsox         fsninfo   \n",
       "1    redsox  Cravenmorhed69   \n",
       "2    redsox   RedSoxGameday   \n",
       "\n",
       "                                            selftext  created_utc  \\\n",
       "0                                                NaN   1655869523   \n",
       "1                                                NaN   1655868804   \n",
       "2  ### Line Score - Final\\n\\n| |1|2|3|4|5|6|7|8|9...   1655863639   \n",
       "\n",
       "  author_premium  is_video  score  \\\n",
       "0          False     False      1   \n",
       "1          False     False      1   \n",
       "2          False     False      1   \n",
       "\n",
       "                                               title  upvote_ratio  \\\n",
       "0      Tigers vs Red Sox Game Preview and Prediction           1.0   \n",
       "1  Report: Alex Cora to rest Devers and Bogaerts ...           1.0   \n",
       "2            Post Game Thread: 6/21 Tigers @ Red Sox           1.0   \n",
       "\n",
       "   num_comments  \n",
       "0             0  \n",
       "1             0  \n",
       "2             0  "
      ]
     },
     "execution_count": 993,
     "metadata": {},
     "output_type": "execute_result"
    }
   ],
   "source": [
    "# narrow columns to ones we want to look at further\n",
    "redsox = redsox[['subreddit', 'author', 'selftext', 'created_utc', 'author_premium','is_video','score','title', 'upvote_ratio','num_comments']]\n",
    "\n",
    "print(redsox.shape)\n",
    "redsox.head(3)"
   ]
  },
  {
   "cell_type": "code",
   "execution_count": 994,
   "id": "982d68bb-a9f0-46e4-8310-6f3755a8242a",
   "metadata": {},
   "outputs": [
    {
     "data": {
      "text/plain": [
       "subreddit            0\n",
       "author               0\n",
       "selftext          1740\n",
       "created_utc          0\n",
       "author_premium      20\n",
       "is_video             0\n",
       "score                0\n",
       "title                0\n",
       "upvote_ratio         0\n",
       "num_comments         0\n",
       "dtype: int64"
      ]
     },
     "execution_count": 994,
     "metadata": {},
     "output_type": "execute_result"
    }
   ],
   "source": [
    "# examine nulls and potential rows to drop\n",
    "redsox.isnull().sum()"
   ]
  },
  {
   "cell_type": "code",
   "execution_count": 995,
   "id": "7cb59bf6-53dc-42f7-aef0-92ce24ee9980",
   "metadata": {},
   "outputs": [
    {
     "data": {
      "text/plain": [
       "subreddit          0\n",
       "author             0\n",
       "selftext           0\n",
       "created_utc        0\n",
       "author_premium    18\n",
       "is_video           0\n",
       "score              0\n",
       "title              0\n",
       "upvote_ratio       0\n",
       "num_comments       0\n",
       "dtype: int64"
      ]
     },
     "execution_count": 995,
     "metadata": {},
     "output_type": "execute_result"
    }
   ],
   "source": [
    "redsox.dropna(subset = 'selftext',inplace=True)\n",
    "redsox.isnull().sum()"
   ]
  },
  {
   "cell_type": "code",
   "execution_count": 996,
   "id": "753a9436-3b7b-4dce-9042-1d0cb1df3489",
   "metadata": {},
   "outputs": [
    {
     "data": {
      "text/plain": [
       "(1260, 10)"
      ]
     },
     "execution_count": 996,
     "metadata": {},
     "output_type": "execute_result"
    }
   ],
   "source": [
    "redsox.shape"
   ]
  },
  {
   "cell_type": "code",
   "execution_count": 997,
   "id": "2bfcbb11-2aec-4c1c-9d48-d93e76723e7a",
   "metadata": {},
   "outputs": [
    {
     "data": {
      "text/plain": [
       "0"
      ]
     },
     "execution_count": 997,
     "metadata": {},
     "output_type": "execute_result"
    }
   ],
   "source": [
    "# drop is video? is self? \n",
    "(redsox['is_video'] == True).sum()"
   ]
  },
  {
   "cell_type": "code",
   "execution_count": 998,
   "id": "5df65e78-30fa-4419-ba9e-0b6fd30d9eb1",
   "metadata": {},
   "outputs": [
    {
     "data": {
      "text/plain": [
       "(1260, 10)"
      ]
     },
     "execution_count": 998,
     "metadata": {},
     "output_type": "execute_result"
    }
   ],
   "source": [
    "# drop ones with text removed or deleted\n",
    "redsox = redsox[(redsox['selftext'] != '[removed]') | (redsox['selftext'] != '[deleted]')]\n",
    "redsox.shape"
   ]
  },
  {
   "cell_type": "code",
   "execution_count": 999,
   "id": "cfd6e159-e0e1-4392-afa4-29ac24644bd5",
   "metadata": {},
   "outputs": [
    {
     "data": {
      "text/plain": [
       "RedSoxGameday        127\n",
       "[deleted]             18\n",
       "3ric8223              16\n",
       "canitryto             15\n",
       "littleike0             8\n",
       "                    ... \n",
       "kanerstaxiservice      1\n",
       "iiGoodVibesii          1\n",
       "Hintonburgheart        1\n",
       "s-hellman              1\n",
       "ASH3N_                 1\n",
       "Name: author, Length: 772, dtype: int64"
      ]
     },
     "execution_count": 999,
     "metadata": {},
     "output_type": "execute_result"
    }
   ],
   "source": [
    "redsox['author'].value_counts()"
   ]
  },
  {
   "cell_type": "code",
   "execution_count": 1000,
   "id": "e4f5f2d1-33c4-41fa-9c7c-4b44b4100cfd",
   "metadata": {},
   "outputs": [
    {
     "data": {
      "text/plain": [
       "(1133, 10)"
      ]
     },
     "execution_count": 1000,
     "metadata": {},
     "output_type": "execute_result"
    }
   ],
   "source": [
    "# RedSoxGameday account (information for each game) \n",
    "# removed posts from this users as it’s more informational\n",
    "# and not indicative of sentiment or fan opinion\n",
    "redsox = redsox[redsox['author'] != 'RedSoxGameday']\n",
    "redsox.shape"
   ]
  },
  {
   "cell_type": "code",
   "execution_count": 1001,
   "id": "1ef14d32-6de8-4f56-9a90-2e20c05763a5",
   "metadata": {},
   "outputs": [
    {
     "data": {
      "text/plain": [
       "(1259, 12)"
      ]
     },
     "execution_count": 1001,
     "metadata": {},
     "output_type": "execute_result"
    }
   ],
   "source": [
    "mlb.shape"
   ]
  },
  {
   "cell_type": "code",
   "execution_count": 1002,
   "id": "be907458-7ca7-4e64-8ec9-17f106f21f52",
   "metadata": {},
   "outputs": [
    {
     "data": {
      "text/html": [
       "<div>\n",
       "<style scoped>\n",
       "    .dataframe tbody tr th:only-of-type {\n",
       "        vertical-align: middle;\n",
       "    }\n",
       "\n",
       "    .dataframe tbody tr th {\n",
       "        vertical-align: top;\n",
       "    }\n",
       "\n",
       "    .dataframe thead th {\n",
       "        text-align: right;\n",
       "    }\n",
       "</style>\n",
       "<table border=\"1\" class=\"dataframe\">\n",
       "  <thead>\n",
       "    <tr style=\"text-align: right;\">\n",
       "      <th></th>\n",
       "      <th>subreddit</th>\n",
       "      <th>author</th>\n",
       "      <th>selftext</th>\n",
       "      <th>created_utc</th>\n",
       "      <th>author_premium</th>\n",
       "      <th>is_video</th>\n",
       "      <th>score</th>\n",
       "      <th>title</th>\n",
       "      <th>upvote_ratio</th>\n",
       "      <th>num_comments</th>\n",
       "      <th>post_char_length</th>\n",
       "      <th>post_word_count</th>\n",
       "    </tr>\n",
       "  </thead>\n",
       "  <tbody>\n",
       "    <tr>\n",
       "      <th>3</th>\n",
       "      <td>redsox</td>\n",
       "      <td>jidionismydaddy69</td>\n",
       "      <td>[removed]</td>\n",
       "      <td>1655861665</td>\n",
       "      <td>False</td>\n",
       "      <td>False</td>\n",
       "      <td>1</td>\n",
       "      <td>Red Sox Code Word June 21 2022</td>\n",
       "      <td>1.0</td>\n",
       "      <td>0</td>\n",
       "      <td>9</td>\n",
       "      <td>1</td>\n",
       "    </tr>\n",
       "    <tr>\n",
       "      <th>4</th>\n",
       "      <td>redsox</td>\n",
       "      <td>cheekofin</td>\n",
       "      <td>Hey everyone,\\n\\nLet’s keep the votes going an...</td>\n",
       "      <td>1655855435</td>\n",
       "      <td>False</td>\n",
       "      <td>False</td>\n",
       "      <td>1</td>\n",
       "      <td>All Star Game</td>\n",
       "      <td>1.0</td>\n",
       "      <td>0</td>\n",
       "      <td>201</td>\n",
       "      <td>34</td>\n",
       "    </tr>\n",
       "  </tbody>\n",
       "</table>\n",
       "</div>"
      ],
      "text/plain": [
       "  subreddit             author  \\\n",
       "3    redsox  jidionismydaddy69   \n",
       "4    redsox          cheekofin   \n",
       "\n",
       "                                            selftext  created_utc  \\\n",
       "3                                          [removed]   1655861665   \n",
       "4  Hey everyone,\\n\\nLet’s keep the votes going an...   1655855435   \n",
       "\n",
       "  author_premium  is_video  score                           title  \\\n",
       "3          False     False      1  Red Sox Code Word June 21 2022   \n",
       "4          False     False      1                   All Star Game   \n",
       "\n",
       "   upvote_ratio  num_comments  post_char_length  post_word_count  \n",
       "3           1.0             0                 9                1  \n",
       "4           1.0             0               201               34  "
      ]
     },
     "execution_count": 1002,
     "metadata": {},
     "output_type": "execute_result"
    }
   ],
   "source": [
    "# look into the length and word count of posts\n",
    "# create new columns for post lengths\n",
    "redsox['post_char_length'] = [len(str(i)) for i in redsox['selftext']]\n",
    "redsox['post_word_count'] = [len(str(i).split(\" \")) for i in redsox['selftext']]\n",
    "redsox.head(2)"
   ]
  },
  {
   "cell_type": "code",
   "execution_count": 1003,
   "id": "7707839b-43a8-48a5-b74c-aede86eb7e25",
   "metadata": {},
   "outputs": [
    {
     "data": {
      "text/plain": [
       "Text(0.5, 0, 'Words per Post')"
      ]
     },
     "execution_count": 1003,
     "metadata": {},
     "output_type": "execute_result"
    },
    {
     "data": {
      "image/png": "[encoded data removed]",
      "text/plain": [
       "<Figure size 432x288 with 1 Axes>"
      ]
     },
     "metadata": {
      "needs_background": "light"
     },
     "output_type": "display_data"
    }
   ],
   "source": [
    "# Use sns.distplot() to visualize the distribution of status \n",
    "# word counts for posts by users \n",
    "\n",
    "plt.hist(mlb['post_word_count'], color = 'b', alpha=0.4, label='MLB', bins=20)\n",
    "plt.hist(redsox['post_word_count'], color = 'r', alpha=0.5, label='Red Sox', bins=20)\n",
    "plt.legend()\n",
    "plt.title('Distribution of Post Word Counts by Subreddit')\n",
    "plt.xlim(0,600)\n",
    "plt.xlabel('Words per Post')"
   ]
  },
  {
   "cell_type": "code",
   "execution_count": 1004,
   "id": "43a60c09-b130-40b7-a08d-e87bd2217e60",
   "metadata": {},
   "outputs": [
    {
     "data": {
      "text/plain": [
       "Text(0.5, 0, 'Characters per Post')"
      ]
     },
     "execution_count": 1004,
     "metadata": {},
     "output_type": "execute_result"
    },
    {
     "data": {
      "image/png": "[encoded data removed]",
      "text/plain": [
       "<Figure size 432x288 with 1 Axes>"
      ]
     },
     "metadata": {
      "needs_background": "light"
     },
     "output_type": "display_data"
    }
   ],
   "source": [
    "# Use sns.distplot() to visualize the distribution of status \n",
    "# character lengths for posts by users \n",
    "\n",
    "plt.hist(mlb['post_char_length'], color = 'b', alpha=0.4, label='MLB', bins=30)\n",
    "plt.hist(redsox['post_char_length'], color = 'r', alpha=0.5, label='Red Sox', bins=30)\n",
    "plt.legend()\n",
    "plt.title('Distribution of Character Length by Subreddit')\n",
    "plt.xlim(0,4_000)\n",
    "plt.xlabel('Characters per Post')"
   ]
  },
  {
   "cell_type": "markdown",
   "id": "e92d2dfa-f869-47d4-85f2-d4b0933f9aa8",
   "metadata": {
    "tags": []
   },
   "source": [
    "-----\n",
    "## **EDA**\n",
    "### *Combine the dataframes for further exploration*"
   ]
  },
  {
   "cell_type": "code",
   "execution_count": 1005,
   "id": "b37a1478-80d9-40a4-953c-76139148c694",
   "metadata": {},
   "outputs": [
    {
     "data": {
      "text/plain": [
       "(2392, 12)"
      ]
     },
     "execution_count": 1005,
     "metadata": {},
     "output_type": "execute_result"
    }
   ],
   "source": [
    "reddit = pd.concat(objs = [mlb, redsox], join='outer', ignore_index=True)\n",
    "reddit.shape"
   ]
  },
  {
   "cell_type": "code",
   "execution_count": 1006,
   "id": "79d4b63a-6904-4d3f-9de4-db5ed5632fa1",
   "metadata": {},
   "outputs": [
    {
     "data": {
      "text/html": [
       "<div>\n",
       "<style scoped>\n",
       "    .dataframe tbody tr th:only-of-type {\n",
       "        vertical-align: middle;\n",
       "    }\n",
       "\n",
       "    .dataframe tbody tr th {\n",
       "        vertical-align: top;\n",
       "    }\n",
       "\n",
       "    .dataframe thead th {\n",
       "        text-align: right;\n",
       "    }\n",
       "</style>\n",
       "<table border=\"1\" class=\"dataframe\">\n",
       "  <thead>\n",
       "    <tr style=\"text-align: right;\">\n",
       "      <th></th>\n",
       "      <th>subreddit</th>\n",
       "      <th>author</th>\n",
       "      <th>selftext</th>\n",
       "      <th>created_utc</th>\n",
       "      <th>author_premium</th>\n",
       "      <th>is_video</th>\n",
       "      <th>score</th>\n",
       "      <th>title</th>\n",
       "      <th>upvote_ratio</th>\n",
       "      <th>num_comments</th>\n",
       "      <th>post_char_length</th>\n",
       "      <th>post_word_count</th>\n",
       "    </tr>\n",
       "  </thead>\n",
       "  <tbody>\n",
       "    <tr>\n",
       "      <th>0</th>\n",
       "      <td>mlb</td>\n",
       "      <td>Jay_Subabove</td>\n",
       "      <td>This batter is hitting .191 with 3HR, 12 RBI, ...</td>\n",
       "      <td>1655862592</td>\n",
       "      <td>False</td>\n",
       "      <td>False</td>\n",
       "      <td>1</td>\n",
       "      <td>Am I crazy?</td>\n",
       "      <td>1.0</td>\n",
       "      <td>0</td>\n",
       "      <td>263</td>\n",
       "      <td>53</td>\n",
       "    </tr>\n",
       "    <tr>\n",
       "      <th>1</th>\n",
       "      <td>mlb</td>\n",
       "      <td>Stress_Factor</td>\n",
       "      <td>Not a Yankees fan, but modern day record looki...</td>\n",
       "      <td>1655856890</td>\n",
       "      <td>False</td>\n",
       "      <td>False</td>\n",
       "      <td>1</td>\n",
       "      <td>MLB Record (Wins)</td>\n",
       "      <td>1.0</td>\n",
       "      <td>0</td>\n",
       "      <td>96</td>\n",
       "      <td>19</td>\n",
       "    </tr>\n",
       "  </tbody>\n",
       "</table>\n",
       "</div>"
      ],
      "text/plain": [
       "  subreddit         author                                           selftext  \\\n",
       "0       mlb   Jay_Subabove  This batter is hitting .191 with 3HR, 12 RBI, ...   \n",
       "1       mlb  Stress_Factor  Not a Yankees fan, but modern day record looki...   \n",
       "\n",
       "   created_utc author_premium  is_video  score              title  \\\n",
       "0   1655862592          False     False      1        Am I crazy?   \n",
       "1   1655856890          False     False      1  MLB Record (Wins)   \n",
       "\n",
       "   upvote_ratio  num_comments  post_char_length  post_word_count  \n",
       "0           1.0             0               263               53  \n",
       "1           1.0             0                96               19  "
      ]
     },
     "execution_count": 1006,
     "metadata": {},
     "output_type": "execute_result"
    }
   ],
   "source": [
    "# look into the length and word count of posts\n",
    "# create new columns for post lengths\n",
    "reddit['post_char_length'] = [len(str(i)) for i in reddit['selftext']]\n",
    "reddit['post_word_count'] = [len(str(i).split(\" \")) for i in reddit['selftext']]\n",
    "reddit.head(2)"
   ]
  },
  {
   "cell_type": "code",
   "execution_count": 1007,
   "id": "2510805b-cc08-44fb-bb6e-4d610e93b818",
   "metadata": {},
   "outputs": [
    {
     "name": "stdout",
     "output_type": "stream",
     "text": [
      "             author  post_char_length subreddit\n",
      "198   ASquareBettor             16492       mlb\n",
      "593   Arctic_Summer              8878       mlb\n",
      "682        jsoares7              8203       mlb\n",
      "690        jsoares7              8203       mlb\n",
      "2193    phabphour20              7509    redsox\n",
      "----------------------------------------\n",
      "             author  post_word_count subreddit\n",
      "593   Arctic_Summer             1607       mlb\n",
      "682        jsoares7             1439       mlb\n",
      "690        jsoares7             1439       mlb\n",
      "2193    phabphour20             1347    redsox\n",
      "724         Gemnist             1313       mlb\n"
     ]
    }
   ],
   "source": [
    "# looking at longest and shortest posts\n",
    "print(reddit[['author','post_char_length','subreddit']].sort_values('post_char_length', ascending=False).head(5))\n",
    "print(\"-\"*40)\n",
    "print(reddit[['author','post_word_count', 'subreddit']].sort_values('post_word_count', ascending=False).head(5))\n",
    "\n",
    "#try to plot on same chart with different color groupings"
   ]
  },
  {
   "cell_type": "code",
   "execution_count": 1008,
   "id": "49412abd-a8f4-4786-b99f-73efea26dd17",
   "metadata": {},
   "outputs": [
    {
     "data": {
      "image/png": "[encoded data removed]",
      "text/plain": [
       "<Figure size 432x288 with 1 Axes>"
      ]
     },
     "metadata": {
      "needs_background": "light"
     },
     "output_type": "display_data"
    }
   ],
   "source": [
    "# histogram showing distribution of post length \n",
    "\n",
    "plt.hist(reddit['post_char_length'],\n",
    "        bins = 50,\n",
    "        color = 'goldenrod')\n",
    "plt.title('Distribution of Post Character Lengths')\n",
    "plt.xlabel('Character Length');\n",
    "plt.xlim(0,1000);\n"
   ]
  },
  {
   "cell_type": "code",
   "execution_count": 1009,
   "id": "f4037eb1-90de-4b8e-be0d-791ebeff5271",
   "metadata": {},
   "outputs": [
    {
     "data": {
      "text/plain": [
       "(0.0, 200.0)"
      ]
     },
     "execution_count": 1009,
     "metadata": {},
     "output_type": "execute_result"
    },
    {
     "data": {
      "image/png": "[encoded data removed]",
      "text/plain": [
       "<Figure size 432x288 with 1 Axes>"
      ]
     },
     "metadata": {
      "needs_background": "light"
     },
     "output_type": "display_data"
    }
   ],
   "source": [
    "# histogram showing distribution of word counts \n",
    "plt.hist(reddit['post_word_count'],\n",
    "        bins = 50,\n",
    "        color = 'navy')\n",
    "plt.title('Distribution of Post Word Counts')\n",
    "plt.xlabel('Word Count');\n",
    "plt.xlim(0,200)"
   ]
  },
  {
   "cell_type": "code",
   "execution_count": 1010,
   "id": "8c36ef45-a13e-4fd4-9395-ad45341392a2",
   "metadata": {},
   "outputs": [
    {
     "data": {
      "text/plain": [
       "(0.0, 250.0)"
      ]
     },
     "execution_count": 1010,
     "metadata": {},
     "output_type": "execute_result"
    },
    {
     "data": {
      "image/png": "[encoded data removed]",
      "text/plain": [
       "<Figure size 432x288 with 1 Axes>"
      ]
     },
     "metadata": {
      "needs_background": "light"
     },
     "output_type": "display_data"
    }
   ],
   "source": [
    "plt.title('Red Sox: Word Counts - Boxplot')\n",
    "sns.boxplot(x = redsox['post_word_count'], color = 'r')\n",
    "plt.xlim(0,250)"
   ]
  },
  {
   "cell_type": "code",
   "execution_count": 1011,
   "id": "b567b3d5-82a2-44bc-9278-a02dff8a869d",
   "metadata": {},
   "outputs": [
    {
     "data": {
      "text/plain": [
       "(0.0, 1000.0)"
      ]
     },
     "execution_count": 1011,
     "metadata": {},
     "output_type": "execute_result"
    },
    {
     "data": {
      "image/png": "[encoded data removed]",
      "text/plain": [
       "<Figure size 432x288 with 1 Axes>"
      ]
     },
     "metadata": {
      "needs_background": "light"
     },
     "output_type": "display_data"
    }
   ],
   "source": [
    "plt.title('Red Sox: Character Length - Boxplot')\n",
    "sns.boxplot(x = redsox['post_char_length'], color = 'r')\n",
    "plt.xlim(0,1_000)"
   ]
  },
  {
   "cell_type": "code",
   "execution_count": 1012,
   "id": "73df2c74-035b-4d7d-88a7-bcf49e3f68e8",
   "metadata": {},
   "outputs": [
    {
     "data": {
      "text/html": [
       "<div>\n",
       "<style scoped>\n",
       "    .dataframe tbody tr th:only-of-type {\n",
       "        vertical-align: middle;\n",
       "    }\n",
       "\n",
       "    .dataframe tbody tr th {\n",
       "        vertical-align: top;\n",
       "    }\n",
       "\n",
       "    .dataframe thead th {\n",
       "        text-align: right;\n",
       "    }\n",
       "</style>\n",
       "<table border=\"1\" class=\"dataframe\">\n",
       "  <thead>\n",
       "    <tr style=\"text-align: right;\">\n",
       "      <th></th>\n",
       "      <th>post_word_count</th>\n",
       "      <th>post_char_length</th>\n",
       "    </tr>\n",
       "  </thead>\n",
       "  <tbody>\n",
       "    <tr>\n",
       "      <th>count</th>\n",
       "      <td>1133.000000</td>\n",
       "      <td>1133.000000</td>\n",
       "    </tr>\n",
       "    <tr>\n",
       "      <th>mean</th>\n",
       "      <td>31.555163</td>\n",
       "      <td>181.841130</td>\n",
       "    </tr>\n",
       "    <tr>\n",
       "      <th>std</th>\n",
       "      <td>80.368189</td>\n",
       "      <td>469.989166</td>\n",
       "    </tr>\n",
       "    <tr>\n",
       "      <th>min</th>\n",
       "      <td>1.000000</td>\n",
       "      <td>1.000000</td>\n",
       "    </tr>\n",
       "    <tr>\n",
       "      <th>25%</th>\n",
       "      <td>1.000000</td>\n",
       "      <td>9.000000</td>\n",
       "    </tr>\n",
       "    <tr>\n",
       "      <th>50%</th>\n",
       "      <td>1.000000</td>\n",
       "      <td>9.000000</td>\n",
       "    </tr>\n",
       "    <tr>\n",
       "      <th>75%</th>\n",
       "      <td>35.000000</td>\n",
       "      <td>197.000000</td>\n",
       "    </tr>\n",
       "    <tr>\n",
       "      <th>max</th>\n",
       "      <td>1347.000000</td>\n",
       "      <td>7509.000000</td>\n",
       "    </tr>\n",
       "  </tbody>\n",
       "</table>\n",
       "</div>"
      ],
      "text/plain": [
       "       post_word_count  post_char_length\n",
       "count      1133.000000       1133.000000\n",
       "mean         31.555163        181.841130\n",
       "std          80.368189        469.989166\n",
       "min           1.000000          1.000000\n",
       "25%           1.000000          9.000000\n",
       "50%           1.000000          9.000000\n",
       "75%          35.000000        197.000000\n",
       "max        1347.000000       7509.000000"
      ]
     },
     "execution_count": 1012,
     "metadata": {},
     "output_type": "execute_result"
    }
   ],
   "source": [
    "redsox[['post_word_count', 'post_char_length']].describe()"
   ]
  },
  {
   "cell_type": "code",
   "execution_count": 1013,
   "id": "7854ae16-0d6f-4556-9f0f-5126e85e65b1",
   "metadata": {},
   "outputs": [
    {
     "data": {
      "text/html": [
       "<div>\n",
       "<style scoped>\n",
       "    .dataframe tbody tr th:only-of-type {\n",
       "        vertical-align: middle;\n",
       "    }\n",
       "\n",
       "    .dataframe tbody tr th {\n",
       "        vertical-align: top;\n",
       "    }\n",
       "\n",
       "    .dataframe thead th {\n",
       "        text-align: right;\n",
       "    }\n",
       "</style>\n",
       "<table border=\"1\" class=\"dataframe\">\n",
       "  <thead>\n",
       "    <tr style=\"text-align: right;\">\n",
       "      <th></th>\n",
       "      <th>post_word_count</th>\n",
       "      <th>post_char_length</th>\n",
       "    </tr>\n",
       "  </thead>\n",
       "  <tbody>\n",
       "    <tr>\n",
       "      <th>count</th>\n",
       "      <td>1259.000000</td>\n",
       "      <td>1259.000000</td>\n",
       "    </tr>\n",
       "    <tr>\n",
       "      <th>mean</th>\n",
       "      <td>61.498014</td>\n",
       "      <td>377.250199</td>\n",
       "    </tr>\n",
       "    <tr>\n",
       "      <th>std</th>\n",
       "      <td>138.674341</td>\n",
       "      <td>911.114719</td>\n",
       "    </tr>\n",
       "    <tr>\n",
       "      <th>min</th>\n",
       "      <td>1.000000</td>\n",
       "      <td>1.000000</td>\n",
       "    </tr>\n",
       "    <tr>\n",
       "      <th>25%</th>\n",
       "      <td>2.000000</td>\n",
       "      <td>49.000000</td>\n",
       "    </tr>\n",
       "    <tr>\n",
       "      <th>50%</th>\n",
       "      <td>25.000000</td>\n",
       "      <td>164.000000</td>\n",
       "    </tr>\n",
       "    <tr>\n",
       "      <th>75%</th>\n",
       "      <td>64.000000</td>\n",
       "      <td>358.500000</td>\n",
       "    </tr>\n",
       "    <tr>\n",
       "      <th>max</th>\n",
       "      <td>1607.000000</td>\n",
       "      <td>16492.000000</td>\n",
       "    </tr>\n",
       "  </tbody>\n",
       "</table>\n",
       "</div>"
      ],
      "text/plain": [
       "       post_word_count  post_char_length\n",
       "count      1259.000000       1259.000000\n",
       "mean         61.498014        377.250199\n",
       "std         138.674341        911.114719\n",
       "min           1.000000          1.000000\n",
       "25%           2.000000         49.000000\n",
       "50%          25.000000        164.000000\n",
       "75%          64.000000        358.500000\n",
       "max        1607.000000      16492.000000"
      ]
     },
     "execution_count": 1013,
     "metadata": {},
     "output_type": "execute_result"
    }
   ],
   "source": [
    "mlb[['post_word_count', 'post_char_length']].describe()"
   ]
  },
  {
   "cell_type": "code",
   "execution_count": 1014,
   "id": "6046b615-3b35-4797-8ffe-a3f1d6ba5feb",
   "metadata": {},
   "outputs": [],
   "source": [
    "# identify outliers \n",
    "# for character and words columns in red sox and mlb \n",
    "# apply to both through combined df"
   ]
  },
  {
   "cell_type": "code",
   "execution_count": 1015,
   "id": "eb79b43b-59be-45c9-8e6e-d9ff129c0f7f",
   "metadata": {},
   "outputs": [],
   "source": [
    "# function calculates lower (25th % - 1.5(IQR)) and upper (75th % + 1.5(IQR)) bounds\n",
    "# framework to remove outliers\n",
    "def calc_bounds(column):\n",
    "    IQR = (redsox[column].quantile(0.75) - redsox[column].quantile(0.25))\n",
    "    lower_bound = redsox[column].quantile(0.25) - (1.5 * IQR)\n",
    "    upper_bound = redsox[column].quantile(0.75) + (1.5 * IQR)\n",
    "   \n",
    "    return f\"redsox = redsox[(redsox['{column}'] > 0) & (redsox['{column}'] < {upper_bound})]\""
   ]
  },
  {
   "cell_type": "code",
   "execution_count": 1016,
   "id": "ffd645bd-7f4f-471e-bf87-bfed6931c698",
   "metadata": {},
   "outputs": [
    {
     "name": "stdout",
     "output_type": "stream",
     "text": [
      "redsox = redsox[(redsox['post_word_count'] > 0) & (redsox['post_word_count'] < 86.0)]\n"
     ]
    }
   ],
   "source": [
    "print(calc_bounds('post_word_count'))"
   ]
  },
  {
   "cell_type": "code",
   "execution_count": 1017,
   "id": "0e95983c-0546-4e1f-b52c-fb82e3b4076f",
   "metadata": {},
   "outputs": [
    {
     "name": "stdout",
     "output_type": "stream",
     "text": [
      "redsox = redsox[(redsox['post_char_length'] > 0) & (redsox['post_char_length'] < 479.0)]\n"
     ]
    }
   ],
   "source": [
    "print(calc_bounds('post_char_length'))"
   ]
  },
  {
   "cell_type": "code",
   "execution_count": 1018,
   "id": "cc73d33d-5a54-4e25-96b5-088453dbe204",
   "metadata": {},
   "outputs": [
    {
     "data": {
      "text/plain": [
       "(0.0, 250.0)"
      ]
     },
     "execution_count": 1018,
     "metadata": {},
     "output_type": "execute_result"
    },
    {
     "data": {
      "image/png": "[encoded data removed]",
      "text/plain": [
       "<Figure size 432x288 with 1 Axes>"
      ]
     },
     "metadata": {
      "needs_background": "light"
     },
     "output_type": "display_data"
    }
   ],
   "source": [
    "plt.title('MLB: Word Counts - Boxplot')\n",
    "sns.boxplot(x = mlb['post_word_count'], color = 'cornflowerblue')\n",
    "plt.xlim(0,250)"
   ]
  },
  {
   "cell_type": "code",
   "execution_count": 1019,
   "id": "bbd9ba0f-9a83-4be9-ae67-d21b9fc856f7",
   "metadata": {},
   "outputs": [
    {
     "data": {
      "text/plain": [
       "(0.0, 1000.0)"
      ]
     },
     "execution_count": 1019,
     "metadata": {},
     "output_type": "execute_result"
    },
    {
     "data": {
      "image/png": "[encoded data removed]",
      "text/plain": [
       "<Figure size 432x288 with 1 Axes>"
      ]
     },
     "metadata": {
      "needs_background": "light"
     },
     "output_type": "display_data"
    }
   ],
   "source": [
    "plt.title('MLB: Character Length - Boxplot')\n",
    "sns.boxplot(x = mlb['post_char_length'], color = 'cornflowerblue')\n",
    "plt.xlim(0,1000)"
   ]
  },
  {
   "cell_type": "code",
   "execution_count": 1020,
   "id": "35897335-9943-4125-9a9a-e38bb3981436",
   "metadata": {},
   "outputs": [],
   "source": [
    "def calc_bounds(column):\n",
    "    IQR = (mlb[column].quantile(0.75) - mlb[column].quantile(0.25))\n",
    "    lower_bound = mlb[column].quantile(0.25) - (1.5 * IQR)\n",
    "    upper_bound = mlb[column].quantile(0.75) + (1.5 * IQR)\n",
    "   \n",
    "    return f\"mlb = mlb[(mlb['{column}'] > 0) & (mlb['{column}'] < {upper_bound})]\""
   ]
  },
  {
   "cell_type": "code",
   "execution_count": 1021,
   "id": "ab437c2b-22f8-4b08-bdc1-a467722a5729",
   "metadata": {},
   "outputs": [
    {
     "name": "stdout",
     "output_type": "stream",
     "text": [
      "mlb = mlb[(mlb['post_word_count'] > 0) & (mlb['post_word_count'] < 157.0)]\n"
     ]
    }
   ],
   "source": [
    "print(calc_bounds('post_word_count'))"
   ]
  },
  {
   "cell_type": "code",
   "execution_count": 1022,
   "id": "b5f31c76-6866-43ea-a4a0-1f700271321c",
   "metadata": {},
   "outputs": [
    {
     "name": "stdout",
     "output_type": "stream",
     "text": [
      "mlb = mlb[(mlb['post_char_length'] > 0) & (mlb['post_char_length'] < 822.75)]\n"
     ]
    }
   ],
   "source": [
    "print(calc_bounds('post_char_length'))"
   ]
  },
  {
   "cell_type": "code",
   "execution_count": 1023,
   "id": "c4f2ebd6-a91b-4ae3-829c-502b1db636f0",
   "metadata": {
    "tags": []
   },
   "outputs": [
    {
     "name": "stdout",
     "output_type": "stream",
     "text": [
      "(2392, 12)\n"
     ]
    },
    {
     "data": {
      "text/plain": [
       "(2225, 12)"
      ]
     },
     "execution_count": 1023,
     "metadata": {},
     "output_type": "execute_result"
    }
   ],
   "source": [
    "# Outliers - remove rows where characters are greater than 822.75 or word counts greater than 157\n",
    "# focused on the larger max bound of the two subreddit groups to ensure consistency across subreddit types\n",
    "print(reddit.shape)\n",
    "reddit = reddit[(reddit['post_char_length'] <= 822.75) & (reddit['post_word_count'] <= 157)]\n",
    "reddit.shape"
   ]
  },
  {
   "cell_type": "code",
   "execution_count": 1024,
   "id": "31c1ea66-2f83-4c2e-a59e-74c229c6efda",
   "metadata": {},
   "outputs": [
    {
     "name": "stdout",
     "output_type": "stream",
     "text": [
      "MLB upvote distribution:\n",
      " 1.00    1234\n",
      "0.99       8\n",
      "0.50       5\n",
      "0.67       3\n",
      "0.25       2\n",
      "0.88       1\n",
      "Name: upvote_ratio, dtype: int64\n",
      " \n",
      "RedSox upvote distribution:\n",
      " 1.00    1100\n",
      "0.99       6\n",
      "0.95       3\n",
      "0.67       3\n",
      "0.75       3\n",
      "0.96       2\n",
      "0.78       2\n",
      "0.94       2\n",
      "0.80       2\n",
      "0.82       1\n",
      "Name: upvote_ratio, dtype: int64\n"
     ]
    }
   ],
   "source": [
    "print('MLB upvote distribution:\\n', mlb['upvote_ratio'].value_counts().head(6));\n",
    "print(\" \")\n",
    "print('RedSox upvote distribution:\\n', redsox['upvote_ratio'].value_counts().head(10));"
   ]
  },
  {
   "cell_type": "code",
   "execution_count": 1025,
   "id": "7b021c92-d549-481e-9fd7-18680825295a",
   "metadata": {},
   "outputs": [
    {
     "name": "stdout",
     "output_type": "stream",
     "text": [
      "MLB comments:\n",
      " 0    842\n",
      "1     41\n",
      "2     40\n",
      "3     36\n",
      "6     28\n",
      "Name: num_comments, dtype: int64\n",
      " \n",
      "RedSox comments:\n",
      " 0    897\n",
      "1     17\n",
      "2     16\n",
      "8     13\n",
      "4     13\n",
      "Name: num_comments, dtype: int64\n"
     ]
    }
   ],
   "source": [
    "print('MLB comments:\\n', mlb['num_comments'].value_counts().head());\n",
    "print(\" \")\n",
    "print('RedSox comments:\\n', redsox['num_comments'].value_counts().head(5));"
   ]
  },
  {
   "cell_type": "code",
   "execution_count": 1026,
   "id": "e1036349-c2c9-49e9-a350-dc71acac2273",
   "metadata": {},
   "outputs": [
    {
     "data": {
      "text/plain": [
       "[deleted]            31\n",
       "Tal_Venada           28\n",
       "trixster110497       24\n",
       "Keith_H25            21\n",
       "lordbloodstar        17\n",
       "3ric8223             16\n",
       "retroanduwu24        15\n",
       "TalkinMetsWithRob    15\n",
       "canitryto            15\n",
       "littleike0            8\n",
       "Name: author, dtype: int64"
      ]
     },
     "execution_count": 1026,
     "metadata": {},
     "output_type": "execute_result"
    }
   ],
   "source": [
    "# Examining highest volume authors\n",
    "reddit['author'].value_counts().head(10)"
   ]
  },
  {
   "cell_type": "markdown",
   "id": "df4bac45-8a1f-46a8-a8b4-cd93ee42feb2",
   "metadata": {},
   "source": [
    "----\n",
    "#### Because many users have multiple posts and some users post in especially high volumes - *(example: trixster110497)*\n",
    "#### Evaluating sentmiment on the overall page may be misleading if the high volume-posters are heavily negative or positive (want to be mindful of that when checking sentiment scores for each)."
   ]
  },
  {
   "cell_type": "code",
   "execution_count": 1027,
   "id": "dcda93d1-c08b-4064-97d3-44aff0dffe56",
   "metadata": {},
   "outputs": [
    {
     "name": "stdout",
     "output_type": "stream",
     "text": [
      "(1546, 12)\n"
     ]
    },
    {
     "data": {
      "text/html": [
       "<div>\n",
       "<style scoped>\n",
       "    .dataframe tbody tr th:only-of-type {\n",
       "        vertical-align: middle;\n",
       "    }\n",
       "\n",
       "    .dataframe tbody tr th {\n",
       "        vertical-align: top;\n",
       "    }\n",
       "\n",
       "    .dataframe thead th {\n",
       "        text-align: right;\n",
       "    }\n",
       "</style>\n",
       "<table border=\"1\" class=\"dataframe\">\n",
       "  <thead>\n",
       "    <tr style=\"text-align: right;\">\n",
       "      <th></th>\n",
       "      <th>created_utc</th>\n",
       "      <th>score</th>\n",
       "      <th>upvote_ratio</th>\n",
       "      <th>num_comments</th>\n",
       "      <th>post_char_length</th>\n",
       "      <th>post_word_count</th>\n",
       "    </tr>\n",
       "  </thead>\n",
       "  <tbody>\n",
       "    <tr>\n",
       "      <th>count</th>\n",
       "      <td>1.546000e+03</td>\n",
       "      <td>1546.000000</td>\n",
       "      <td>1546.000000</td>\n",
       "      <td>1546.000000</td>\n",
       "      <td>1546.000000</td>\n",
       "      <td>1546.000000</td>\n",
       "    </tr>\n",
       "    <tr>\n",
       "      <th>mean</th>\n",
       "      <td>1.643043e+09</td>\n",
       "      <td>1.278137</td>\n",
       "      <td>0.994858</td>\n",
       "      <td>4.258732</td>\n",
       "      <td>158.921734</td>\n",
       "      <td>27.727038</td>\n",
       "    </tr>\n",
       "    <tr>\n",
       "      <th>std</th>\n",
       "      <td>8.786593e+06</td>\n",
       "      <td>6.629951</td>\n",
       "      <td>0.045027</td>\n",
       "      <td>16.993136</td>\n",
       "      <td>185.325452</td>\n",
       "      <td>34.081919</td>\n",
       "    </tr>\n",
       "    <tr>\n",
       "      <th>min</th>\n",
       "      <td>1.626287e+09</td>\n",
       "      <td>0.000000</td>\n",
       "      <td>0.250000</td>\n",
       "      <td>0.000000</td>\n",
       "      <td>1.000000</td>\n",
       "      <td>1.000000</td>\n",
       "    </tr>\n",
       "    <tr>\n",
       "      <th>25%</th>\n",
       "      <td>1.634961e+09</td>\n",
       "      <td>1.000000</td>\n",
       "      <td>1.000000</td>\n",
       "      <td>0.000000</td>\n",
       "      <td>9.000000</td>\n",
       "      <td>1.000000</td>\n",
       "    </tr>\n",
       "    <tr>\n",
       "      <th>50%</th>\n",
       "      <td>1.644306e+09</td>\n",
       "      <td>1.000000</td>\n",
       "      <td>1.000000</td>\n",
       "      <td>0.000000</td>\n",
       "      <td>86.000000</td>\n",
       "      <td>13.000000</td>\n",
       "    </tr>\n",
       "    <tr>\n",
       "      <th>75%</th>\n",
       "      <td>1.650844e+09</td>\n",
       "      <td>1.000000</td>\n",
       "      <td>1.000000</td>\n",
       "      <td>1.000000</td>\n",
       "      <td>248.000000</td>\n",
       "      <td>44.000000</td>\n",
       "    </tr>\n",
       "    <tr>\n",
       "      <th>max</th>\n",
       "      <td>1.655863e+09</td>\n",
       "      <td>257.000000</td>\n",
       "      <td>1.000000</td>\n",
       "      <td>390.000000</td>\n",
       "      <td>822.000000</td>\n",
       "      <td>157.000000</td>\n",
       "    </tr>\n",
       "  </tbody>\n",
       "</table>\n",
       "</div>"
      ],
      "text/plain": [
       "        created_utc        score  upvote_ratio  num_comments  \\\n",
       "count  1.546000e+03  1546.000000   1546.000000   1546.000000   \n",
       "mean   1.643043e+09     1.278137      0.994858      4.258732   \n",
       "std    8.786593e+06     6.629951      0.045027     16.993136   \n",
       "min    1.626287e+09     0.000000      0.250000      0.000000   \n",
       "25%    1.634961e+09     1.000000      1.000000      0.000000   \n",
       "50%    1.644306e+09     1.000000      1.000000      0.000000   \n",
       "75%    1.650844e+09     1.000000      1.000000      1.000000   \n",
       "max    1.655863e+09   257.000000      1.000000    390.000000   \n",
       "\n",
       "       post_char_length  post_word_count  \n",
       "count       1546.000000      1546.000000  \n",
       "mean         158.921734        27.727038  \n",
       "std          185.325452        34.081919  \n",
       "min            1.000000         1.000000  \n",
       "25%            9.000000         1.000000  \n",
       "50%           86.000000        13.000000  \n",
       "75%          248.000000        44.000000  \n",
       "max          822.000000       157.000000  "
      ]
     },
     "execution_count": 1027,
     "metadata": {},
     "output_type": "execute_result"
    }
   ],
   "source": [
    "unique_users = reddit.drop_duplicates('author')\n",
    "print(unique_users.shape)\n",
    "unique_users.describe()"
   ]
  },
  {
   "cell_type": "code",
   "execution_count": 1028,
   "id": "d007bd3b-1352-4612-854a-fd8f41bbc92b",
   "metadata": {},
   "outputs": [
    {
     "data": {
      "image/png": "[encoded data removed]",
      "text/plain": [
       "<Figure size 432x288 with 1 Axes>"
      ]
     },
     "metadata": {
      "needs_background": "light"
     },
     "output_type": "display_data"
    }
   ],
   "source": [
    "# histogram showing distribution of post length (unique authors)\n",
    "\n",
    "plt.hist(reddit['post_char_length'],\n",
    "        bins = 50,\n",
    "        color = 'goldenrod')\n",
    "plt.title('Distribution of Post Character Lengths for Unique Authors')\n",
    "plt.xlabel('Character Length');\n",
    "plt.xlim(0,700);\n",
    "plt.ylim(0,900);"
   ]
  },
  {
   "cell_type": "code",
   "execution_count": 1029,
   "id": "dd7fc03d-805e-4c78-987e-96bd8699d821",
   "metadata": {},
   "outputs": [
    {
     "data": {
      "text/plain": [
       "(0.0, 1100.0)"
      ]
     },
     "execution_count": 1029,
     "metadata": {},
     "output_type": "execute_result"
    },
    {
     "data": {
      "image/png": "[encoded data removed]",
      "text/plain": [
       "<Figure size 432x288 with 1 Axes>"
      ]
     },
     "metadata": {
      "needs_background": "light"
     },
     "output_type": "display_data"
    }
   ],
   "source": [
    "# histogram showing distribution of word counts (unique authors)\n",
    "plt.hist(reddit['post_word_count'],\n",
    "        bins = 50,\n",
    "        color = 'navy')\n",
    "plt.title('Distribution of Post Word Counts for Unique Authors')\n",
    "plt.xlabel('Word Count');\n",
    "plt.xlim(0,160),\n",
    "plt.ylim(0,1100)"
   ]
  },
  {
   "cell_type": "markdown",
   "id": "1b1f7405-933d-4dfb-95a6-793fc8dc5e32",
   "metadata": {},
   "source": [
    "-----\n",
    "Exploring relationships between authors and whether they're in r/mlb or r/redsox"
   ]
  },
  {
   "cell_type": "code",
   "execution_count": 1030,
   "id": "e32fedc1-becf-4135-ac2c-b53ef9653811",
   "metadata": {},
   "outputs": [
    {
     "data": {
      "image/png": "[encoded data removed]",
      "text/plain": [
       "<Figure size 432x288 with 1 Axes>"
      ]
     },
     "metadata": {
      "needs_background": "light"
     },
     "output_type": "display_data"
    }
   ],
   "source": [
    "unique_users['subreddit'].value_counts().plot(kind = 'barh')\n",
    "plt.title('Unique Authors in Each Subreddit Category');\n",
    "plt.xlabel('Authors');"
   ]
  },
  {
   "cell_type": "code",
   "execution_count": 1031,
   "id": "6c2f3f1a-daf6-4c56-af82-fc56d4771b78",
   "metadata": {},
   "outputs": [
    {
     "data": {
      "text/plain": [
       "0    1136\n",
       "1    1089\n",
       "Name: subreddit, dtype: int64"
      ]
     },
     "execution_count": 1031,
     "metadata": {},
     "output_type": "execute_result"
    }
   ],
   "source": [
    "# assign mlb to 0 and redsox to 1\n",
    "reddit['subreddit'] = reddit['subreddit'].map({'mlb': 0, 'redsox': 1})\n",
    "reddit['subreddit'].value_counts()"
   ]
  },
  {
   "cell_type": "code",
   "execution_count": 1032,
   "id": "54efc013-c4ee-4c26-917f-afc51c0e0dd4",
   "metadata": {},
   "outputs": [
    {
     "data": {
      "text/html": [
       "<div>\n",
       "<style scoped>\n",
       "    .dataframe tbody tr th:only-of-type {\n",
       "        vertical-align: middle;\n",
       "    }\n",
       "\n",
       "    .dataframe tbody tr th {\n",
       "        vertical-align: top;\n",
       "    }\n",
       "\n",
       "    .dataframe thead th {\n",
       "        text-align: right;\n",
       "    }\n",
       "</style>\n",
       "<table border=\"1\" class=\"dataframe\">\n",
       "  <thead>\n",
       "    <tr style=\"text-align: right;\">\n",
       "      <th></th>\n",
       "      <th>subreddit</th>\n",
       "    </tr>\n",
       "  </thead>\n",
       "  <tbody>\n",
       "    <tr>\n",
       "      <th>subreddit</th>\n",
       "      <td>1.000000</td>\n",
       "    </tr>\n",
       "    <tr>\n",
       "      <th>created_utc</th>\n",
       "      <td>0.196236</td>\n",
       "    </tr>\n",
       "    <tr>\n",
       "      <th>score</th>\n",
       "      <td>0.054917</td>\n",
       "    </tr>\n",
       "    <tr>\n",
       "      <th>upvote_ratio</th>\n",
       "      <td>0.026447</td>\n",
       "    </tr>\n",
       "    <tr>\n",
       "      <th>num_comments</th>\n",
       "      <td>0.020710</td>\n",
       "    </tr>\n",
       "    <tr>\n",
       "      <th>is_video</th>\n",
       "      <td>-0.020761</td>\n",
       "    </tr>\n",
       "    <tr>\n",
       "      <th>post_word_count</th>\n",
       "      <td>-0.167739</td>\n",
       "    </tr>\n",
       "    <tr>\n",
       "      <th>post_char_length</th>\n",
       "      <td>-0.200517</td>\n",
       "    </tr>\n",
       "  </tbody>\n",
       "</table>\n",
       "</div>"
      ],
      "text/plain": [
       "                  subreddit\n",
       "subreddit          1.000000\n",
       "created_utc        0.196236\n",
       "score              0.054917\n",
       "upvote_ratio       0.026447\n",
       "num_comments       0.020710\n",
       "is_video          -0.020761\n",
       "post_word_count   -0.167739\n",
       "post_char_length  -0.200517"
      ]
     },
     "execution_count": 1032,
     "metadata": {},
     "output_type": "execute_result"
    }
   ],
   "source": [
    "reddit.corr()[['subreddit']].sort_values(by='subreddit', ascending=False)"
   ]
  },
  {
   "cell_type": "code",
   "execution_count": 1033,
   "id": "93ac42d5-0aee-4dbb-bc61-c71d437f37c2",
   "metadata": {},
   "outputs": [
    {
     "data": {
      "image/png": "[encoded data removed]",
      "text/plain": [
       "<Figure size 432x288 with 2 Axes>"
      ]
     },
     "metadata": {
      "needs_background": "light"
     },
     "output_type": "display_data"
    }
   ],
   "source": [
    "sns.heatmap(reddit.corr()[['subreddit']].sort_values(by = 'subreddit', ascending=False), \n",
    "            annot=True,\n",
    "            vmin = -1,\n",
    "            vmax = 1,\n",
    "            cmap = 'coolwarm');  "
   ]
  },
  {
   "cell_type": "markdown",
   "id": "6803d5c1-74d7-4bfc-83a5-2bb46f3b336a",
   "metadata": {},
   "source": [
    "---\n",
    "\n",
    "## EDA on Text Column\n",
    "\n",
    "### Vectorize the text using both CountVectorizer and TfidfVectorizer - break out by subreddit and overall"
   ]
  },
  {
   "cell_type": "markdown",
   "id": "43e6b969-1086-49a7-9368-38b4dc1c89d9",
   "metadata": {},
   "source": [
    "CountVectorize\n",
    "-----\n",
    "Red Sox First"
   ]
  },
  {
   "cell_type": "code",
   "execution_count": 1034,
   "id": "13ab4ebf-8b1c-4802-856e-823deab9bdf1",
   "metadata": {},
   "outputs": [
    {
     "data": {
      "text/plain": [
       "(1133, 4760)"
      ]
     },
     "execution_count": 1034,
     "metadata": {},
     "output_type": "execute_result"
    }
   ],
   "source": [
    "# Instantiate the CountVectorizer and transform \n",
    "cvec = CountVectorizer()\n",
    "post_matrix = cvec.fit_transform(redsox['selftext'])\n",
    "\n",
    "# Creating dataframe of text data\n",
    "post_df = pd.DataFrame(post_matrix.todense(),\n",
    "                      columns = cvec.get_feature_names_out())\n",
    "post_df.shape"
   ]
  },
  {
   "cell_type": "code",
   "execution_count": 1035,
   "id": "e0e51e57-67d9-4c47-b218-659085c4f605",
   "metadata": {},
   "outputs": [
    {
     "data": {
      "image/png": "[encoded data removed]",
      "text/plain": [
       "<Figure size 432x288 with 1 Axes>"
      ]
     },
     "metadata": {
      "needs_background": "light"
     },
     "output_type": "display_data"
    }
   ],
   "source": [
    "# check to see the top words - if mostly stopwords, get rid of stopwords\n",
    "# code taken from lesson 5.05 on Natural Language Processing\n",
    "post_df.sum().sort_values(ascending = False).head(10).plot(kind = 'barh', color = 'r');"
   ]
  },
  {
   "cell_type": "code",
   "execution_count": 1036,
   "id": "6459b6db-5ad3-4651-9a71-20987699fb60",
   "metadata": {},
   "outputs": [
    {
     "name": "stdout",
     "output_type": "stream",
     "text": [
      "<class 'list'>\n"
     ]
    }
   ],
   "source": [
    "stopword_list = stopwords.words('english')\n",
    "print(type(stopword_list))"
   ]
  },
  {
   "cell_type": "code",
   "execution_count": 1037,
   "id": "5a526825-37bd-440f-9477-3da5de8b8976",
   "metadata": {},
   "outputs": [
    {
     "name": "stdout",
     "output_type": "stream",
     "text": [
      "['i', 'me', 'my', 'myself', 'we', 'our', 'ours', 'ourselves', 'you', \"you're\", \"you've\", \"you'll\", \"you'd\", 'your', 'yours', 'yourself', 'yourselves', 'he', 'him', 'his', 'himself', 'she', \"she's\", 'her', 'hers', 'herself', 'it', \"it's\", 'its', 'itself', 'they', 'them', 'their', 'theirs', 'themselves', 'what', 'which', 'who', 'whom', 'this', 'that', \"that'll\", 'these', 'those', 'am', 'is', 'are', 'was', 'were', 'be', 'been', 'being', 'have', 'has', 'had', 'having', 'do', 'does', 'did', 'doing', 'a', 'an', 'the', 'and', 'but', 'if', 'or', 'because', 'as', 'until', 'while', 'of', 'at', 'by', 'for', 'with', 'about', 'against', 'between', 'into', 'through', 'during', 'before', 'after', 'above', 'below', 'to', 'from', 'up', 'down', 'in', 'out', 'on', 'off', 'over', 'under', 'again', 'further', 'then', 'once', 'here', 'there', 'when', 'where', 'why', 'how', 'all', 'any', 'both', 'each', 'few', 'more', 'most', 'other', 'some', 'such', 'no', 'nor', 'not', 'only', 'own', 'same', 'so', 'than', 'too', 'very', 's', 't', 'can', 'will', 'just', 'don', \"don't\", 'should', \"should've\", 'now', 'd', 'll', 'm', 'o', 're', 've', 'y', 'ain', 'aren', \"aren't\", 'couldn', \"couldn't\", 'didn', \"didn't\", 'doesn', \"doesn't\", 'hadn', \"hadn't\", 'hasn', \"hasn't\", 'haven', \"haven't\", 'isn', \"isn't\", 'ma', 'mightn', \"mightn't\", 'mustn', \"mustn't\", 'needn', \"needn't\", 'shan', \"shan't\", 'shouldn', \"shouldn't\", 'wasn', \"wasn't\", 'weren', \"weren't\", 'won', \"won't\", 'wouldn', \"wouldn't\", 'removed', 'poll', 'https', 'com', 'www', 'reddit']\n"
     ]
    }
   ],
   "source": [
    "new_words = ['removed', 'poll','https','com','www','reddit']\n",
    "for i in new_words:\n",
    "    stopword_list.append(i)\n",
    "\n",
    "print(stopword_list)"
   ]
  },
  {
   "cell_type": "code",
   "execution_count": 1038,
   "id": "2dece8e8-891b-4ad9-8305-79b76eb088ae",
   "metadata": {},
   "outputs": [
    {
     "data": {
      "image/png": "[encoded data removed]",
      "text/plain": [
       "<Figure size 432x288 with 1 Axes>"
      ]
     },
     "metadata": {
      "needs_background": "light"
     },
     "output_type": "display_data"
    }
   ],
   "source": [
    "# most are stop words - recreate dataframe without stopwords\n",
    "cvec = CountVectorizer(stop_words=stopword_list)\n",
    "post_matrix = cvec.fit_transform(redsox['selftext'])\n",
    "\n",
    "# new dataframe\n",
    "post_df = pd.DataFrame(post_matrix.todense(), columns = cvec.get_feature_names_out())\n",
    "post_df.shape\n",
    "\n",
    "post_df.sum().sort_values(ascending=False).head(15).plot(kind = 'barh', color='r');"
   ]
  },
  {
   "cell_type": "markdown",
   "id": "e8c01f8e-7659-4131-8537-c292918ec94f",
   "metadata": {},
   "source": [
    "MLB"
   ]
  },
  {
   "cell_type": "code",
   "execution_count": 1039,
   "id": "1f7d4ff0-cd99-4548-bb83-1b8cc4fa43a8",
   "metadata": {},
   "outputs": [
    {
     "data": {
      "text/plain": [
       "(1259, 8077)"
      ]
     },
     "execution_count": 1039,
     "metadata": {},
     "output_type": "execute_result"
    }
   ],
   "source": [
    "# Instantiate the CountVectorizer and transform \n",
    "cvec = CountVectorizer()\n",
    "post_matrix = cvec.fit_transform(mlb['selftext'])\n",
    "\n",
    "# Creating dataframe of text data\n",
    "post_df = pd.DataFrame(post_matrix.todense(),\n",
    "                      columns = cvec.get_feature_names_out())\n",
    "post_df.shape"
   ]
  },
  {
   "cell_type": "code",
   "execution_count": 1040,
   "id": "878b3bab-4540-4408-b74c-6f79ceb30eb8",
   "metadata": {},
   "outputs": [
    {
     "data": {
      "image/png": "[encoded data removed]",
      "text/plain": [
       "<Figure size 432x288 with 1 Axes>"
      ]
     },
     "metadata": {
      "needs_background": "light"
     },
     "output_type": "display_data"
    }
   ],
   "source": [
    "# check to see the top words - if mostly stopwords, get rid of stopwords\n",
    "# code taken from lesson 5.05 on Natural Language Processing\n",
    "post_df.sum().sort_values(ascending = False).head(10).plot(kind = 'barh', color='b');"
   ]
  },
  {
   "cell_type": "code",
   "execution_count": 1041,
   "id": "62d7964b-b0b3-49c2-8e98-e0edb455ef99",
   "metadata": {},
   "outputs": [
    {
     "data": {
      "image/png": "[encoded data removed]",
      "text/plain": [
       "<Figure size 432x288 with 1 Axes>"
      ]
     },
     "metadata": {
      "needs_background": "light"
     },
     "output_type": "display_data"
    }
   ],
   "source": [
    "# most are stop words - recreate dataframe without stopwords\n",
    "cvec = CountVectorizer(stop_words=stopword_list)\n",
    "post_matrix = cvec.fit_transform(mlb['selftext'])\n",
    "\n",
    "# new dataframe\n",
    "post_df = pd.DataFrame(post_matrix.todense(), columns = cvec.get_feature_names_out())\n",
    "post_df.shape\n",
    "\n",
    "post_df.sum().sort_values(ascending=False).head(15).plot(kind = 'barh', color='b');"
   ]
  },
  {
   "cell_type": "markdown",
   "id": "9d6e5b9c-d34f-434f-97b5-14023ac90bb1",
   "metadata": {},
   "source": [
    "Overall (including both redsox and mlb subreddits)"
   ]
  },
  {
   "cell_type": "code",
   "execution_count": 1042,
   "id": "e312f2b2-c6e5-4830-a674-d1be03b92bf7",
   "metadata": {},
   "outputs": [
    {
     "name": "stdout",
     "output_type": "stream",
     "text": [
      "(2225, 6456)\n"
     ]
    },
    {
     "data": {
      "image/png": "[encoded data removed]",
      "text/plain": [
       "<Figure size 432x288 with 1 Axes>"
      ]
     },
     "metadata": {
      "needs_background": "light"
     },
     "output_type": "display_data"
    }
   ],
   "source": [
    "# most are stop words - recreate dataframe without stopwords\n",
    "cvec = CountVectorizer(stop_words=stopword_list)\n",
    "post_matrix = cvec.fit_transform(reddit['selftext'])\n",
    "\n",
    "# new dataframe\n",
    "post_df = pd.DataFrame(post_matrix.todense(), columns = cvec.get_feature_names_out())\n",
    "print(post_df.shape)\n",
    "\n",
    "post_df.sum().sort_values(ascending=False).head(15).plot(kind = 'barh', color='darkslategray');"
   ]
  },
  {
   "cell_type": "markdown",
   "id": "a8204e11-3ff3-4ce1-b150-0c0513cda782",
   "metadata": {},
   "source": [
    "(TF-IDF) Vectorizer\n",
    "----\n",
    "Red Sox first"
   ]
  },
  {
   "cell_type": "code",
   "execution_count": 1043,
   "id": "54181a50-57ea-45cf-9955-9e411ae16bcc",
   "metadata": {},
   "outputs": [
    {
     "data": {
      "text/plain": [
       "(1133, 4760)"
      ]
     },
     "execution_count": 1043,
     "metadata": {},
     "output_type": "execute_result"
    }
   ],
   "source": [
    "# Instantiate the Tfidf Vectorizer and transform \n",
    "tvec = TfidfVectorizer()\n",
    "post_matrix = tvec.fit_transform(redsox['selftext'])\n",
    "\n",
    "# Creating dataframe of text data\n",
    "post_df = pd.DataFrame(post_matrix.todense(),\n",
    "                      columns = tvec.get_feature_names_out())\n",
    "post_df.shape"
   ]
  },
  {
   "cell_type": "code",
   "execution_count": 1044,
   "id": "eba9c94a-6baa-4bee-9031-a0cc569d3b14",
   "metadata": {},
   "outputs": [
    {
     "data": {
      "image/png": "[encoded data removed]",
      "text/plain": [
       "<Figure size 432x288 with 1 Axes>"
      ]
     },
     "metadata": {
      "needs_background": "light"
     },
     "output_type": "display_data"
    }
   ],
   "source": [
    "# check to see the top words - if mostly stopwords, get rid of stopwords\n",
    "# code taken from lesson 5.05 on Natural Language Processing\n",
    "post_df.sum().sort_values(ascending = False).head(10).plot(kind = 'barh', color = 'r');"
   ]
  },
  {
   "cell_type": "code",
   "execution_count": 1045,
   "id": "42ce5d01-cc96-449f-92e5-3eee5f725600",
   "metadata": {},
   "outputs": [
    {
     "data": {
      "image/png": "[encoded data removed]",
      "text/plain": [
       "<Figure size 432x288 with 1 Axes>"
      ]
     },
     "metadata": {
      "needs_background": "light"
     },
     "output_type": "display_data"
    }
   ],
   "source": [
    "# most are stop words - recreate dataframe without stopwords\n",
    "tvec = TfidfVectorizer(stop_words=stopword_list)\n",
    "post_matrix = tvec.fit_transform(redsox['selftext'])\n",
    "\n",
    "# new dataframe\n",
    "post_df = pd.DataFrame(post_matrix.todense(), columns = tvec.get_feature_names_out())\n",
    "post_df.shape\n",
    "\n",
    "post_df.sum().sort_values(ascending=False).head(15).plot(kind = 'barh', color='r');"
   ]
  },
  {
   "cell_type": "markdown",
   "id": "29f86065-407a-4349-b8f6-db0e3996e1f2",
   "metadata": {},
   "source": [
    "Now MLB"
   ]
  },
  {
   "cell_type": "code",
   "execution_count": 1046,
   "id": "cead04c5-7d64-41db-b392-69ecfd3ee9eb",
   "metadata": {},
   "outputs": [
    {
     "data": {
      "text/plain": [
       "(1259, 8077)"
      ]
     },
     "execution_count": 1046,
     "metadata": {},
     "output_type": "execute_result"
    }
   ],
   "source": [
    "# Instantiate the Tfidf Vectorizer and transform \n",
    "tvec = TfidfVectorizer()\n",
    "post_matrix = tvec.fit_transform(mlb['selftext'])\n",
    "\n",
    "# Creating dataframe of text data\n",
    "post_df = pd.DataFrame(post_matrix.todense(),\n",
    "                      columns = tvec.get_feature_names_out())\n",
    "post_df.shape"
   ]
  },
  {
   "cell_type": "code",
   "execution_count": 1047,
   "id": "9f5e2580-2b68-4533-bffc-81b3880ea6e3",
   "metadata": {},
   "outputs": [
    {
     "data": {
      "image/png": "[encoded data removed]",
      "text/plain": [
       "<Figure size 432x288 with 1 Axes>"
      ]
     },
     "metadata": {
      "needs_background": "light"
     },
     "output_type": "display_data"
    }
   ],
   "source": [
    "# check to see the top words - if mostly stopwords, get rid of stopwords\n",
    "post_df.sum().sort_values(ascending = False).head(10).plot(kind = 'barh', color = 'b');"
   ]
  },
  {
   "cell_type": "code",
   "execution_count": 1048,
   "id": "594500d5-fb3b-4c83-a42e-401342dab205",
   "metadata": {},
   "outputs": [
    {
     "data": {
      "image/png": "[encoded data removed]",
      "text/plain": [
       "<Figure size 432x288 with 1 Axes>"
      ]
     },
     "metadata": {
      "needs_background": "light"
     },
     "output_type": "display_data"
    }
   ],
   "source": [
    "#recreate dataframe without stopwords\n",
    "tvec = TfidfVectorizer(stop_words=stopword_list)\n",
    "post_matrix = tvec.fit_transform(mlb['selftext'])\n",
    "\n",
    "# new dataframe\n",
    "post_df = pd.DataFrame(post_matrix.todense(), columns = tvec.get_feature_names_out())\n",
    "post_df.shape\n",
    "\n",
    "post_df.sum().sort_values(ascending=False).head(15).plot(kind = 'barh', color='b');"
   ]
  },
  {
   "cell_type": "markdown",
   "id": "39f1e346-676b-4a23-b425-b186a433fb6b",
   "metadata": {},
   "source": [
    "Overall (including both the MLB and Red Sox subreddits)"
   ]
  },
  {
   "cell_type": "code",
   "execution_count": 1049,
   "id": "96f4a7fd-b4c8-4ea0-a4b0-8506ef6867d7",
   "metadata": {},
   "outputs": [
    {
     "name": "stdout",
     "output_type": "stream",
     "text": [
      "(2225, 6456)\n"
     ]
    },
    {
     "data": {
      "image/png": "[encoded data removed]",
      "text/plain": [
       "<Figure size 432x288 with 1 Axes>"
      ]
     },
     "metadata": {
      "needs_background": "light"
     },
     "output_type": "display_data"
    }
   ],
   "source": [
    "# Instantiate the Tfidf Vectorizer and transform \n",
    "tvec = TfidfVectorizer(stop_words=stopword_list)\n",
    "post_matrix = tvec.fit_transform(reddit['selftext'])\n",
    "\n",
    "# Creating dataframe of text data\n",
    "post_df = pd.DataFrame(post_matrix.todense(),\n",
    "                      columns = tvec.get_feature_names_out())\n",
    "\n",
    "print(post_df.shape)\n",
    "post_df.sum().sort_values(ascending=False).head(15).plot(kind = 'barh', color='darkslategray');"
   ]
  },
  {
   "cell_type": "code",
   "execution_count": 1050,
   "id": "28f51a42-81d1-4360-880a-bcdac0dabffe",
   "metadata": {},
   "outputs": [],
   "source": [
    "# may be important to adjust stop words parameter when modeling - common words coming up across both subreddits \n",
    "# and are not necessarily indicative of sentiment (e.g \"www\", \"removed\", \"just\", \"com\", \"https\")"
   ]
  },
  {
   "cell_type": "code",
   "execution_count": 1051,
   "id": "e6a72295-f466-442d-95a4-e6aa1e734b4a",
   "metadata": {},
   "outputs": [
    {
     "name": "stdout",
     "output_type": "stream",
     "text": [
      "(1133, 12)\n"
     ]
    },
    {
     "data": {
      "text/html": [
       "<div>\n",
       "<style scoped>\n",
       "    .dataframe tbody tr th:only-of-type {\n",
       "        vertical-align: middle;\n",
       "    }\n",
       "\n",
       "    .dataframe tbody tr th {\n",
       "        vertical-align: top;\n",
       "    }\n",
       "\n",
       "    .dataframe thead th {\n",
       "        text-align: right;\n",
       "    }\n",
       "</style>\n",
       "<table border=\"1\" class=\"dataframe\">\n",
       "  <thead>\n",
       "    <tr style=\"text-align: right;\">\n",
       "      <th></th>\n",
       "      <th>subreddit</th>\n",
       "      <th>author</th>\n",
       "      <th>selftext</th>\n",
       "      <th>created_utc</th>\n",
       "      <th>author_premium</th>\n",
       "      <th>is_video</th>\n",
       "      <th>score</th>\n",
       "      <th>title</th>\n",
       "      <th>upvote_ratio</th>\n",
       "      <th>num_comments</th>\n",
       "      <th>post_char_length</th>\n",
       "      <th>post_word_count</th>\n",
       "    </tr>\n",
       "  </thead>\n",
       "  <tbody>\n",
       "    <tr>\n",
       "      <th>3</th>\n",
       "      <td>redsox</td>\n",
       "      <td>jidionismydaddy69</td>\n",
       "      <td>[removed]</td>\n",
       "      <td>1655861665</td>\n",
       "      <td>False</td>\n",
       "      <td>False</td>\n",
       "      <td>1</td>\n",
       "      <td>Red Sox Code Word June 21 2022</td>\n",
       "      <td>1.0</td>\n",
       "      <td>0</td>\n",
       "      <td>9</td>\n",
       "      <td>1</td>\n",
       "    </tr>\n",
       "    <tr>\n",
       "      <th>4</th>\n",
       "      <td>redsox</td>\n",
       "      <td>cheekofin</td>\n",
       "      <td>Hey everyone,\\n\\nLet’s keep the votes going an...</td>\n",
       "      <td>1655855435</td>\n",
       "      <td>False</td>\n",
       "      <td>False</td>\n",
       "      <td>1</td>\n",
       "      <td>All Star Game</td>\n",
       "      <td>1.0</td>\n",
       "      <td>0</td>\n",
       "      <td>201</td>\n",
       "      <td>34</td>\n",
       "    </tr>\n",
       "    <tr>\n",
       "      <th>7</th>\n",
       "      <td>redsox</td>\n",
       "      <td>ledzep2isbetterthan4</td>\n",
       "      <td>4th place team with racist fans, keep sucking ...</td>\n",
       "      <td>1655838987</td>\n",
       "      <td>False</td>\n",
       "      <td>False</td>\n",
       "      <td>1</td>\n",
       "      <td>Literal shit franchise/city</td>\n",
       "      <td>1.0</td>\n",
       "      <td>0</td>\n",
       "      <td>63</td>\n",
       "      <td>11</td>\n",
       "    </tr>\n",
       "    <tr>\n",
       "      <th>8</th>\n",
       "      <td>redsox</td>\n",
       "      <td>CB3B</td>\n",
       "      <td>Going to the game tomorrow and planning on rid...</td>\n",
       "      <td>1655838621</td>\n",
       "      <td>False</td>\n",
       "      <td>False</td>\n",
       "      <td>1</td>\n",
       "      <td>Does anyone know how the Fenway Bike Valet works?</td>\n",
       "      <td>1.0</td>\n",
       "      <td>0</td>\n",
       "      <td>524</td>\n",
       "      <td>105</td>\n",
       "    </tr>\n",
       "    <tr>\n",
       "      <th>9</th>\n",
       "      <td>redsox</td>\n",
       "      <td>Thicc_Broman</td>\n",
       "      <td>Hey I was just wondering if anyone wants to of...</td>\n",
       "      <td>1655838434</td>\n",
       "      <td>False</td>\n",
       "      <td>False</td>\n",
       "      <td>1</td>\n",
       "      <td>Tickets for tonight.</td>\n",
       "      <td>1.0</td>\n",
       "      <td>0</td>\n",
       "      <td>326</td>\n",
       "      <td>62</td>\n",
       "    </tr>\n",
       "  </tbody>\n",
       "</table>\n",
       "</div>"
      ],
      "text/plain": [
       "  subreddit                author  \\\n",
       "3    redsox     jidionismydaddy69   \n",
       "4    redsox             cheekofin   \n",
       "7    redsox  ledzep2isbetterthan4   \n",
       "8    redsox                  CB3B   \n",
       "9    redsox          Thicc_Broman   \n",
       "\n",
       "                                            selftext  created_utc  \\\n",
       "3                                          [removed]   1655861665   \n",
       "4  Hey everyone,\\n\\nLet’s keep the votes going an...   1655855435   \n",
       "7  4th place team with racist fans, keep sucking ...   1655838987   \n",
       "8  Going to the game tomorrow and planning on rid...   1655838621   \n",
       "9  Hey I was just wondering if anyone wants to of...   1655838434   \n",
       "\n",
       "  author_premium  is_video  score  \\\n",
       "3          False     False      1   \n",
       "4          False     False      1   \n",
       "7          False     False      1   \n",
       "8          False     False      1   \n",
       "9          False     False      1   \n",
       "\n",
       "                                               title  upvote_ratio  \\\n",
       "3                     Red Sox Code Word June 21 2022           1.0   \n",
       "4                                      All Star Game           1.0   \n",
       "7                        Literal shit franchise/city           1.0   \n",
       "8  Does anyone know how the Fenway Bike Valet works?           1.0   \n",
       "9                               Tickets for tonight.           1.0   \n",
       "\n",
       "   num_comments  post_char_length  post_word_count  \n",
       "3             0                 9                1  \n",
       "4             0               201               34  \n",
       "7             0                63               11  \n",
       "8             0               524              105  \n",
       "9             0               326               62  "
      ]
     },
     "execution_count": 1051,
     "metadata": {},
     "output_type": "execute_result"
    }
   ],
   "source": [
    "# write cleaned dataframes to csv's for use in modeling and preprocessing\n",
    "print(redsox.shape)\n",
    "redsox.head()"
   ]
  },
  {
   "cell_type": "code",
   "execution_count": 1052,
   "id": "c74cbdcf-f305-4a68-8f5c-93a6d022ca35",
   "metadata": {},
   "outputs": [
    {
     "name": "stdout",
     "output_type": "stream",
     "text": [
      "(1259, 12)\n"
     ]
    },
    {
     "data": {
      "text/html": [
       "<div>\n",
       "<style scoped>\n",
       "    .dataframe tbody tr th:only-of-type {\n",
       "        vertical-align: middle;\n",
       "    }\n",
       "\n",
       "    .dataframe tbody tr th {\n",
       "        vertical-align: top;\n",
       "    }\n",
       "\n",
       "    .dataframe thead th {\n",
       "        text-align: right;\n",
       "    }\n",
       "</style>\n",
       "<table border=\"1\" class=\"dataframe\">\n",
       "  <thead>\n",
       "    <tr style=\"text-align: right;\">\n",
       "      <th></th>\n",
       "      <th>subreddit</th>\n",
       "      <th>author</th>\n",
       "      <th>selftext</th>\n",
       "      <th>created_utc</th>\n",
       "      <th>author_premium</th>\n",
       "      <th>is_video</th>\n",
       "      <th>score</th>\n",
       "      <th>title</th>\n",
       "      <th>upvote_ratio</th>\n",
       "      <th>num_comments</th>\n",
       "      <th>post_char_length</th>\n",
       "      <th>post_word_count</th>\n",
       "    </tr>\n",
       "  </thead>\n",
       "  <tbody>\n",
       "    <tr>\n",
       "      <th>3</th>\n",
       "      <td>mlb</td>\n",
       "      <td>Jay_Subabove</td>\n",
       "      <td>This batter is hitting .191 with 3HR, 12 RBI, ...</td>\n",
       "      <td>1655862592</td>\n",
       "      <td>False</td>\n",
       "      <td>False</td>\n",
       "      <td>1</td>\n",
       "      <td>Am I crazy?</td>\n",
       "      <td>1.0</td>\n",
       "      <td>0</td>\n",
       "      <td>263</td>\n",
       "      <td>53</td>\n",
       "    </tr>\n",
       "    <tr>\n",
       "      <th>8</th>\n",
       "      <td>mlb</td>\n",
       "      <td>Stress_Factor</td>\n",
       "      <td>Not a Yankees fan, but modern day record looki...</td>\n",
       "      <td>1655856890</td>\n",
       "      <td>False</td>\n",
       "      <td>False</td>\n",
       "      <td>1</td>\n",
       "      <td>MLB Record (Wins)</td>\n",
       "      <td>1.0</td>\n",
       "      <td>0</td>\n",
       "      <td>96</td>\n",
       "      <td>19</td>\n",
       "    </tr>\n",
       "    <tr>\n",
       "      <th>11</th>\n",
       "      <td>mlb</td>\n",
       "      <td>jah05r</td>\n",
       "      <td>Imagine that the Topps Now line had been a par...</td>\n",
       "      <td>1655849497</td>\n",
       "      <td>False</td>\n",
       "      <td>False</td>\n",
       "      <td>1</td>\n",
       "      <td>What would have been the most popular Topps No...</td>\n",
       "      <td>1.0</td>\n",
       "      <td>0</td>\n",
       "      <td>981</td>\n",
       "      <td>171</td>\n",
       "    </tr>\n",
       "    <tr>\n",
       "      <th>14</th>\n",
       "      <td>mlb</td>\n",
       "      <td>Cravenmorhed69</td>\n",
       "      <td>Ty France should be starting at 1B for the AL ...</td>\n",
       "      <td>1655847116</td>\n",
       "      <td>False</td>\n",
       "      <td>False</td>\n",
       "      <td>1</td>\n",
       "      <td>I encountered a rather significant problem in ...</td>\n",
       "      <td>1.0</td>\n",
       "      <td>0</td>\n",
       "      <td>367</td>\n",
       "      <td>73</td>\n",
       "    </tr>\n",
       "    <tr>\n",
       "      <th>15</th>\n",
       "      <td>mlb</td>\n",
       "      <td>Stress_Factor</td>\n",
       "      <td>You know baseball is your life when you barter...</td>\n",
       "      <td>1655844181</td>\n",
       "      <td>False</td>\n",
       "      <td>False</td>\n",
       "      <td>1</td>\n",
       "      <td>DFA</td>\n",
       "      <td>1.0</td>\n",
       "      <td>0</td>\n",
       "      <td>185</td>\n",
       "      <td>38</td>\n",
       "    </tr>\n",
       "  </tbody>\n",
       "</table>\n",
       "</div>"
      ],
      "text/plain": [
       "   subreddit          author  \\\n",
       "3        mlb    Jay_Subabove   \n",
       "8        mlb   Stress_Factor   \n",
       "11       mlb          jah05r   \n",
       "14       mlb  Cravenmorhed69   \n",
       "15       mlb   Stress_Factor   \n",
       "\n",
       "                                             selftext  created_utc  \\\n",
       "3   This batter is hitting .191 with 3HR, 12 RBI, ...   1655862592   \n",
       "8   Not a Yankees fan, but modern day record looki...   1655856890   \n",
       "11  Imagine that the Topps Now line had been a par...   1655849497   \n",
       "14  Ty France should be starting at 1B for the AL ...   1655847116   \n",
       "15  You know baseball is your life when you barter...   1655844181   \n",
       "\n",
       "   author_premium  is_video  score  \\\n",
       "3           False     False      1   \n",
       "8           False     False      1   \n",
       "11          False     False      1   \n",
       "14          False     False      1   \n",
       "15          False     False      1   \n",
       "\n",
       "                                                title  upvote_ratio  \\\n",
       "3                                         Am I crazy?           1.0   \n",
       "8                                   MLB Record (Wins)           1.0   \n",
       "11  What would have been the most popular Topps No...           1.0   \n",
       "14  I encountered a rather significant problem in ...           1.0   \n",
       "15                                                DFA           1.0   \n",
       "\n",
       "    num_comments  post_char_length  post_word_count  \n",
       "3              0               263               53  \n",
       "8              0                96               19  \n",
       "11             0               981              171  \n",
       "14             0               367               73  \n",
       "15             0               185               38  "
      ]
     },
     "execution_count": 1052,
     "metadata": {},
     "output_type": "execute_result"
    }
   ],
   "source": [
    "print(mlb.shape)\n",
    "mlb.head()"
   ]
  },
  {
   "cell_type": "code",
   "execution_count": 1053,
   "id": "27b3f433-b782-44ed-92fd-25a76286a99a",
   "metadata": {},
   "outputs": [
    {
     "data": {
      "text/plain": [
       "2392"
      ]
     },
     "execution_count": 1053,
     "metadata": {},
     "output_type": "execute_result"
    }
   ],
   "source": [
    "1259+1133"
   ]
  },
  {
   "cell_type": "code",
   "execution_count": 1054,
   "id": "c543a99a-cc1e-406c-be58-886090d2aedb",
   "metadata": {},
   "outputs": [
    {
     "name": "stdout",
     "output_type": "stream",
     "text": [
      "(2225, 12)\n"
     ]
    },
    {
     "data": {
      "text/html": [
       "<div>\n",
       "<style scoped>\n",
       "    .dataframe tbody tr th:only-of-type {\n",
       "        vertical-align: middle;\n",
       "    }\n",
       "\n",
       "    .dataframe tbody tr th {\n",
       "        vertical-align: top;\n",
       "    }\n",
       "\n",
       "    .dataframe thead th {\n",
       "        text-align: right;\n",
       "    }\n",
       "</style>\n",
       "<table border=\"1\" class=\"dataframe\">\n",
       "  <thead>\n",
       "    <tr style=\"text-align: right;\">\n",
       "      <th></th>\n",
       "      <th>subreddit</th>\n",
       "      <th>author</th>\n",
       "      <th>selftext</th>\n",
       "      <th>created_utc</th>\n",
       "      <th>author_premium</th>\n",
       "      <th>is_video</th>\n",
       "      <th>score</th>\n",
       "      <th>title</th>\n",
       "      <th>upvote_ratio</th>\n",
       "      <th>num_comments</th>\n",
       "      <th>post_char_length</th>\n",
       "      <th>post_word_count</th>\n",
       "    </tr>\n",
       "  </thead>\n",
       "  <tbody>\n",
       "    <tr>\n",
       "      <th>0</th>\n",
       "      <td>0</td>\n",
       "      <td>Jay_Subabove</td>\n",
       "      <td>This batter is hitting .191 with 3HR, 12 RBI, ...</td>\n",
       "      <td>1655862592</td>\n",
       "      <td>False</td>\n",
       "      <td>False</td>\n",
       "      <td>1</td>\n",
       "      <td>Am I crazy?</td>\n",
       "      <td>1.0</td>\n",
       "      <td>0</td>\n",
       "      <td>263</td>\n",
       "      <td>53</td>\n",
       "    </tr>\n",
       "    <tr>\n",
       "      <th>1</th>\n",
       "      <td>0</td>\n",
       "      <td>Stress_Factor</td>\n",
       "      <td>Not a Yankees fan, but modern day record looki...</td>\n",
       "      <td>1655856890</td>\n",
       "      <td>False</td>\n",
       "      <td>False</td>\n",
       "      <td>1</td>\n",
       "      <td>MLB Record (Wins)</td>\n",
       "      <td>1.0</td>\n",
       "      <td>0</td>\n",
       "      <td>96</td>\n",
       "      <td>19</td>\n",
       "    </tr>\n",
       "    <tr>\n",
       "      <th>3</th>\n",
       "      <td>0</td>\n",
       "      <td>Cravenmorhed69</td>\n",
       "      <td>Ty France should be starting at 1B for the AL ...</td>\n",
       "      <td>1655847116</td>\n",
       "      <td>False</td>\n",
       "      <td>False</td>\n",
       "      <td>1</td>\n",
       "      <td>I encountered a rather significant problem in ...</td>\n",
       "      <td>1.0</td>\n",
       "      <td>0</td>\n",
       "      <td>367</td>\n",
       "      <td>73</td>\n",
       "    </tr>\n",
       "    <tr>\n",
       "      <th>4</th>\n",
       "      <td>0</td>\n",
       "      <td>Stress_Factor</td>\n",
       "      <td>You know baseball is your life when you barter...</td>\n",
       "      <td>1655844181</td>\n",
       "      <td>False</td>\n",
       "      <td>False</td>\n",
       "      <td>1</td>\n",
       "      <td>DFA</td>\n",
       "      <td>1.0</td>\n",
       "      <td>0</td>\n",
       "      <td>185</td>\n",
       "      <td>38</td>\n",
       "    </tr>\n",
       "    <tr>\n",
       "      <th>5</th>\n",
       "      <td>0</td>\n",
       "      <td>Bright-Crab-3070</td>\n",
       "      <td>Hello Baseball fans! I would love to invite yo...</td>\n",
       "      <td>1655787388</td>\n",
       "      <td>False</td>\n",
       "      <td>False</td>\n",
       "      <td>1</td>\n",
       "      <td>New r/ESPNNewYorkRadio subreddit for fans of s...</td>\n",
       "      <td>1.0</td>\n",
       "      <td>0</td>\n",
       "      <td>734</td>\n",
       "      <td>129</td>\n",
       "    </tr>\n",
       "  </tbody>\n",
       "</table>\n",
       "</div>"
      ],
      "text/plain": [
       "   subreddit            author  \\\n",
       "0          0      Jay_Subabove   \n",
       "1          0     Stress_Factor   \n",
       "3          0    Cravenmorhed69   \n",
       "4          0     Stress_Factor   \n",
       "5          0  Bright-Crab-3070   \n",
       "\n",
       "                                            selftext  created_utc  \\\n",
       "0  This batter is hitting .191 with 3HR, 12 RBI, ...   1655862592   \n",
       "1  Not a Yankees fan, but modern day record looki...   1655856890   \n",
       "3  Ty France should be starting at 1B for the AL ...   1655847116   \n",
       "4  You know baseball is your life when you barter...   1655844181   \n",
       "5  Hello Baseball fans! I would love to invite yo...   1655787388   \n",
       "\n",
       "  author_premium  is_video  score  \\\n",
       "0          False     False      1   \n",
       "1          False     False      1   \n",
       "3          False     False      1   \n",
       "4          False     False      1   \n",
       "5          False     False      1   \n",
       "\n",
       "                                               title  upvote_ratio  \\\n",
       "0                                        Am I crazy?           1.0   \n",
       "1                                  MLB Record (Wins)           1.0   \n",
       "3  I encountered a rather significant problem in ...           1.0   \n",
       "4                                                DFA           1.0   \n",
       "5  New r/ESPNNewYorkRadio subreddit for fans of s...           1.0   \n",
       "\n",
       "   num_comments  post_char_length  post_word_count  \n",
       "0             0               263               53  \n",
       "1             0                96               19  \n",
       "3             0               367               73  \n",
       "4             0               185               38  \n",
       "5             0               734              129  "
      ]
     },
     "execution_count": 1054,
     "metadata": {},
     "output_type": "execute_result"
    }
   ],
   "source": [
    "print(reddit.shape)\n",
    "reddit.head()"
   ]
  },
  {
   "cell_type": "markdown",
   "id": "8577b8a0-3412-4ceb-9169-79697a8f3653",
   "metadata": {},
   "source": [
    "**I'm confident based on differences in the types of words that appear most often, and in the length of posts (as defined by word count and character length), that I'll be able to develop a model that distinguishes between the Red Sox and MLB subreddits.**"
   ]
  },
  {
   "cell_type": "markdown",
   "id": "8392aa37-a355-4cd1-b2c7-49f3d495743d",
   "metadata": {},
   "source": [
    "*Consider using unique authors to evaluate sentiment of each site*"
   ]
  },
  {
   "cell_type": "markdown",
   "id": "c386aa49-fd5a-4d88-bfd5-894d57ce7cf0",
   "metadata": {},
   "source": [
    "-----\n",
    "### Write the cleaned dataframe to a csv for preprocessing and modeling"
   ]
  },
  {
   "cell_type": "code",
   "execution_count": 1055,
   "id": "ef9e40ea-7e28-4a7e-bf8c-f4180cc3a3c2",
   "metadata": {},
   "outputs": [],
   "source": [
    "reddit.to_csv('../data/reddit_cleaned.csv', index=False)"
   ]
  }
 ],
 "metadata": {
  "kernelspec": {
   "display_name": "Python [conda env:dsi] *",
   "language": "python",
   "name": "conda-env-dsi-py"
  },
  "language_info": {
   "codemirror_mode": {
    "name": "ipython",
    "version": 3
   },
   "file_extension": ".py",
   "mimetype": "text/x-python",
   "name": "python",
   "nbconvert_exporter": "python",
   "pygments_lexer": "ipython3",
   "version": "3.9.12"
  }
 },
 "nbformat": 4,
 "nbformat_minor": 5
}
